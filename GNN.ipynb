{
 "metadata": {
  "language_info": {
   "codemirror_mode": {
    "name": "ipython",
    "version": 3
   },
   "file_extension": ".py",
   "mimetype": "text/x-python",
   "name": "python",
   "nbconvert_exporter": "python",
   "pygments_lexer": "ipython3",
   "version": "3.8.5-final"
  },
  "orig_nbformat": 2,
  "kernelspec": {
   "name": "python3",
   "display_name": "Python 3",
   "language": "python"
  }
 },
 "nbformat": 4,
 "nbformat_minor": 2,
 "cells": [
  {
   "cell_type": "code",
   "execution_count": 3,
   "metadata": {},
   "outputs": [],
   "source": [
    "import gc\n",
    "import os\n",
    "import sys\n",
    "import yaml\n",
    "import glob\n",
    "import numpy as np\n",
    "import pickle\n",
    "import tensorflow as tf\n",
    "import random\n",
    "import tqdm\n",
    "\n",
    "from collections import defaultdict\n",
    "\n",
    "from matplotlib import pyplot as plt\n",
    "from sklearn.model_selection import train_test_split\n",
    "from sklearn.metrics import plot_confusion_matrix\n",
    "from sklearn.metrics import confusion_matrix\n",
    "from spektral.datasets import delaunay\n",
    "from spektral.layers import *\n",
    "from spektral.utils.convolution import localpooling_filter\n",
    "from tensorflow.keras.callbacks import EarlyStopping\n",
    "from tensorflow.keras.layers import Input, Dense, Concatenate, Dropout\n",
    "from tensorflow.keras.models import Model\n",
    "from tensorflow.keras.optimizers import Adam\n",
    "from tensorflow.keras.regularizers import l2\n",
    "from tqdm.contrib.concurrent import process_map, thread_map\n",
    "\n",
    "%matplotlib inline\n",
    "\n",
    "#tf.debugging.set_log_device_placement(True)"
   ]
  },
  {
   "cell_type": "code",
   "execution_count": 4,
   "metadata": {},
   "outputs": [],
   "source": [
    "# Some helper functions\n",
    "def yaml_load(filename: str) -> dict:\n",
    "    with open(filename, 'rt') as f:\n",
    "        return yaml.safe_load(f)\n",
    "\n",
    "# Very bad way, but faster\n",
    "def get_section(filename: str, section: str):\n",
    "    lines = []\n",
    "    with open(filename) as f:\n",
    "        count = False\n",
    "\n",
    "        for line in f.readlines():\n",
    "            if line.startswith(section):\n",
    "                count = True\n",
    "                continue\n",
    "\n",
    "            if count:\n",
    "                if str.isspace(line[0]):\n",
    "                    lines.append(line)\n",
    "                else:\n",
    "                    return lines\n",
    "        return lines"
   ]
  },
  {
   "source": [
    "# Preprocessing (optional)\n",
    "## Generating Metadata\n",
    "\n",
    "Here we are going to collect information about the CFGs and CDFGs of the applications and build a metadata database (at './data/ccpe-applications-information.yaml')to easily construct the inputs to GNN.\n",
    "This information includes:\n",
    "- Name of the applications\n",
    "- Location of the file for an application and it respective optimization sequence\n",
    "- Number of nodes in the graph representation of CFG and CDFG for each application\n",
    "- The execution time for each application with each optimization sequence\n",
    "\n",
    "This part is optional and must be run only once to create a metadata file.\n",
    "\n",
    "*TODO*: Move this part to another notebook"
   ],
   "cell_type": "markdown",
   "metadata": {}
  },
  {
   "source": [
    "First, lets list all CFG and CDFG files and discover how many nodes each graph has"
   ],
   "cell_type": "markdown",
   "metadata": {}
  },
  {
   "cell_type": "code",
   "execution_count": null,
   "metadata": {
    "tags": []
   },
   "outputs": [],
   "source": [
    "# Listing all CFG Files\n",
    "cfg_directory = './data/ccpe-dados/cfg.llvm'\n",
    "cfg_files = glob.glob(f'{cfg_directory}/**/*.yaml', recursive=True)\n",
    "print(f\"Found {len(cfg_files)} files in {cfg_directory}\")\n",
    "\n",
    "# Listing all CDFG Files\n",
    "cdfg_directory = './data/ccpe-dados/cdfg.programl'\n",
    "cdfg_files = glob.glob(f'{cdfg_directory}/**/*.yaml', recursive=True)\n",
    "print(f\"Found {len(cdfg_files)} files in {cdfg_directory}\")\n",
    "\n",
    "# Listing all runtime files\n",
    "runtime_directory = './data/runtime'\n",
    "runtime_files = glob.glob(f'{runtime_directory}/**/*.yaml', recursive=True)\n",
    "print(f\"Found {len(runtime_files)} files in {runtime_directory}\")\n",
    "\n",
    "# Get the number of nodes for each application in CFG representation\n",
    "def get_number_of_cfg_nodes(filename):\n",
    "    # Get lines for node section\n",
    "    yaml_nodes_section = get_section(filename, 'nodes_features:')\n",
    "    # Get the highest node number and return\n",
    "    return (filename, max([int(node.split(':')[0]) for node in yaml_nodes_section])+1)\n",
    "\n",
    "# Get the number of nodes for each application in CDFG representation\n",
    "def get_number_of_cdfg_nodes(filename):\n",
    "    # Get lines for nodes_features section\n",
    "    yaml_node_features_section = get_section(filename, 'nodes_features:')\n",
    "    # Get the highest node number and return\n",
    "    return (filename, max([int(node.split(':')[0]) for node in yaml_node_features_section])+1)\n",
    "\n",
    "# Get the number of nodes for all CFG graphs\n",
    "cfg_number_of_nodes = thread_map(get_number_of_cfg_nodes, cfg_files, desc='CFG Files processed')\n",
    "cfg_number_of_nodes = dict(cfg_number_of_nodes)\n",
    "print(f\"Number of CFG graphs: {len(cfg_number_of_nodes)}\")\n",
    "\n",
    "# Get the number of nodes for all CDFG graphs\n",
    "cdfg_number_of_nodes = thread_map(get_number_of_cdfg_nodes, cdfg_files, desc='CDFG Files processed')\n",
    "cdfg_number_of_nodes = dict(cdfg_number_of_nodes)\n",
    "print(f\"Number of CDFG graphs: {len(cdfg_number_of_nodes)}\")\n"
   ]
  },
  {
   "cell_type": "code",
   "execution_count": null,
   "metadata": {},
   "outputs": [],
   "source": [
    "values = [int(v) for v in cfg_number_of_nodes.values()]\n",
    "print(f\"\"\"CFG Graphs. Statistics from {len(values)} applications:\n",
    "    Min value: {min(values)}\n",
    "    Max value: {max(values)}\n",
    "    Average: {np.average(values)}\n",
    "    Stdev: {np.std(values)}\n",
    "    Mean: {np.mean(values)}\n",
    "    25th percentile: {np.percentile(values, 25)}\n",
    "    Median: {np.median(values)}\n",
    "    75th percentile: {np.percentile(values, 75)}\n",
    "    95th percentile: {np.percentile(values, 95)}\"\"\")\n",
    "\n",
    "plt.hist(values, 20)\n"
   ]
  },
  {
   "cell_type": "code",
   "execution_count": null,
   "metadata": {},
   "outputs": [],
   "source": [
    "values = [int(v) for v in cdfg_number_of_nodes.values()]\n",
    "print(f\"\"\"CDFG Graphs. Statistics from {len(values)} applications:\n",
    "    Min value: {min(values)}\n",
    "    Max value: {max(values)}\n",
    "    Average: {np.average(values)}\n",
    "    Stdev: {np.std(values)}\n",
    "    Mean: {np.mean(values)}\n",
    "    25th percentile: {np.percentile(values, 25)}\n",
    "    Median: {np.median(values)}\n",
    "    75th percentile: {np.percentile(values, 75)}\n",
    "    95th percentile: {np.percentile(values, 95)}\"\"\")\n",
    "\n",
    "plt.hist(values, 20)\n"
   ]
  },
  {
   "source": [
    "Now we are going to group all CFGs and CFGs files by its applications and optimization sequences\n",
    "We going to have a dictionary, like this example:\n",
    "\n",
    "{\n",
    "\n",
    "    application_1: {\n",
    "\n",
    "        sequence_0: {\n",
    "\n",
    "            cfg_file: '/path/to/cfg/file'\n",
    "\n",
    "            number_cfg_nodes: 10\n",
    "\n",
    "            cdfg_file: '/path/to/cdfg/file'\n",
    "\n",
    "            number_cdfg_nodes: 20\n",
    "\n",
    "            exectime: 1.234\n",
    "\n",
    "        }\n",
    "\n",
    "        sequence_1: {\n",
    "            \n",
    "            cfg_file: '/path/to/cfg/file'\n",
    "\n",
    "            number_cfg_nodes: 15\n",
    "\n",
    "            cdfg_file: '/path/to/cdfg/file'\n",
    "\n",
    "            number_cdfg_nodes: 22\n",
    "\n",
    "            exectime: 0.987\n",
    "\n",
    "        }\n",
    "\n",
    "    }\n",
    "\n",
    "    application_2: {...}\n",
    "    \n",
    " }\n",
    "\n",
    "This information is used to generate inputs to GNN and is saved to './data/ccpe-applications-information.yaml'"
   ],
   "cell_type": "markdown",
   "metadata": {}
  },
  {
   "cell_type": "code",
   "execution_count": null,
   "metadata": {
    "tags": [
     "outputPrepend"
    ]
   },
   "outputs": [],
   "source": [
    "# The output file to store processed information\n",
    "output_file = './data/ccpe-applications-information.yaml'\n",
    "\n",
    "def get_representation(filename: str) -> dict:\n",
    "    representation = defaultdict(dict)\n",
    "    # Extract the application name, without path and extensions\n",
    "    app_name = os.path.basename(filename)\n",
    "    app_name = app_name.split('.rnd.yaml')[0]\n",
    "    \n",
    "    # Lets group all CFG and CDFG files with same prefix (i.e., CFGs and CDFGs for the same application)\n",
    "    cfgs_with_prefix = [fname for fname in cfg_files if os.path.basename(fname).startswith(app_name)]\n",
    "    cdfgs_with_prefix = [fname for fname in cdfg_files if os.path.basename(fname).startswith(app_name)]\n",
    "\n",
    "    # Get the rutime information for the application. It includes the execution time for the application\n",
    "    # compiled with different optimization sequences\n",
    "    with open(filename, 'rt') as f:\n",
    "        app_runtime_info = yaml.safe_load(f)\n",
    "\n",
    "    # Group CFGs and CDFGs filenames by their optimization sequences \n",
    "    # E.g.: CFGs={0: file1, 1: file2, ..., 99: file99}\n",
    "    cfgs_with_prefix = {int(os.path.basename(fname).split('.ll.')[0].split('.')[-1]): fname for fname in cfgs_with_prefix}\n",
    "    cdfgs_with_prefix = {int(os.path.basename(fname).split('.progaml.')[0].split('.')[-1]): fname for fname in cdfgs_with_prefix}\n",
    "\n",
    "    # Finally, let's group applications with sequence levels and runtime info\n",
    "    # E.g: representation_files = {app1: {0: (CFG_FILE, CDFG_FILE, EXECTIME), 1: (CFG_FILE, CDFG_FILE, EXECTIME), ..., }, app2: {...} }\n",
    "    for sequence_no, values in app_runtime_info.items():\n",
    "        if sequence_no not in cfgs_with_prefix:\n",
    "            print(f\"CFG from application {app_name} with optimization sequence {sequence_no} does not exists. Skipping..\")\n",
    "            continue\n",
    "        if sequence_no not in cdfgs_with_prefix:\n",
    "            print(f\"CDFG from application {app_name} with optimization sequence {sequence_no} does not exists. Skipping..\")\n",
    "            continue\n",
    "        representation[app_name][sequence_no] = {\n",
    "            'cfg_file': cfgs_with_prefix[sequence_no], \n",
    "            'number_cfg_nodes': cfg_number_of_nodes[cfgs_with_prefix[sequence_no]],\n",
    "            'cdfg_file': cdfgs_with_prefix[sequence_no],\n",
    "            'number_cdfg_nodes': cdfg_number_of_nodes[cdfgs_with_prefix[sequence_no]],\n",
    "            'exectime': app_runtime_info[sequence_no]['f'],\n",
    "            'runtime_file': filename\n",
    "        }\n",
    "    \n",
    "    return representation\n",
    "\n",
    "# Iterate over each runtime file (applications that effectively executed)\n",
    "representation_files = thread_map(get_representation, runtime_files, desc=\"Applications processed\")\n",
    "# Merge all dicts to a single dict\n",
    "representation_files = {k: v for d in representation_files for k, v in d.items()}\n",
    "\n",
    "print(f'Processed {len(representation_files)} applications...')\n",
    "\n",
    "with open(output_file, 'wt') as f:\n",
    "    yaml.dump(representation_files, f)\n",
    "    print(f\"Information from {len(representation_files)} applications were successfully saved to {output_file}\")"
   ]
  },
  {
   "source": [
    "# Training CFG Input Generation (Optional)"
   ],
   "cell_type": "markdown",
   "metadata": {}
  },
  {
   "source": [
    "First lets filter graphs whose number of nodes is below a determined shape (indicated by network_input_graph_shape). Larger graphs will be removed."
   ],
   "cell_type": "markdown",
   "metadata": {}
  },
  {
   "cell_type": "code",
   "execution_count": 3,
   "metadata": {},
   "outputs": [
    {
     "output_type": "stream",
     "name": "stdout",
     "text": [
      "Number of graphs with adjacency matrix below shape (150, 150): 17137\n"
     ]
    }
   ],
   "source": [
    "# Defining some useful variables\n",
    "metadata_file = './data/ccpe-applications-information.yaml'\n",
    "network_input_graph_shape = (150, 150)\n",
    "network_input_features_shape = (150, 67)\n",
    "\n",
    "metadata_info = yaml_load(metadata_file)\n",
    "\n",
    "# Lets filter CFG files whose number of nodes is less than network_input_graph_shape\n",
    "# For example, only CFG graphs with less than 150 nodes. Note: the graphs are represented as adjacency matrix (a quadratic matrix)\n",
    "filtered_graph_files = {\n",
    "    benchmark_name: {\n",
    "        opt_seq: opt_values \n",
    "        for opt_seq, opt_values in values.items() if opt_values['number_cfg_nodes'] < network_input_graph_shape[0]\n",
    "    } for benchmark_name, values in metadata_info.items()\n",
    "}\n",
    "\n",
    "# Remove applications that has less than 2 graphs with less than network_input_graph_shape\n",
    "filtered_graph_files = {benchmark_name: values for benchmark_name, values in filtered_graph_files.items() if len(values) > 2}\n",
    "print(f\"Number of graphs with adjacency matrix below shape {network_input_graph_shape}: {sum([len(values) for _, values in filtered_graph_files.items()])}\")\n"
   ]
  },
  {
   "source": [
    "And now, we are going to sample graphs (indicated by 'no_samples') from the filtered_graphs (i.e. below a determined shape). \n",
    "\n",
    "To do this we randomly select 'no_samples' applications and then, for each application, we select 2 different graphs (with different optimization sequences). At end, we will have a list of tuples with the following format: \\[(CFGFILE1, CFGFILE2, SPEEDUP), ...\\].\n",
    "\n",
    "*Note*: The graphs are not loaded yet, only the file names are selected."
   ],
   "cell_type": "markdown",
   "metadata": {}
  },
  {
   "cell_type": "code",
   "execution_count": 4,
   "metadata": {
    "tags": []
   },
   "outputs": [
    {
     "output_type": "stream",
     "name": "stdout",
     "text": [
      "Sampled 10000 CFGs\nFirst sample of 10000 samples (example of output): ('./data/ccpe-dados/cfg.llvm/extracted/PolyBench.linear-algebra-blas-syr2k.0.61.ll.cfg.yaml', './data/ccpe-dados/cfg.llvm/extracted/PolyBench.linear-algebra-blas-syr2k.0.19.ll.cfg.yaml', 1.4383629465581889)\n"
     ]
    }
   ],
   "source": [
    "no_samples = 10000  # 2 graphs for each sample...\n",
    "samples = []\n",
    "\n",
    "# Lets choose 'no_samples' random CFG applications and then choose 2 different graphs from each application.\n",
    "# Note: graphs here are the files (the graphs is not loaded yet).\n",
    "# We will have a list of tuples: [(CFGFILE1, CFGFILE2, SPEEDUP), ...]\n",
    "for s in random.choices(list(filtered_graph_files.keys()), k=no_samples):\n",
    "    opt_seq1, opt_seq2 = random.sample(list(filtered_graph_files[s].keys()), 2)\n",
    "    t = (\n",
    "        filtered_graph_files[s][opt_seq1]['cfg_file'], \n",
    "        filtered_graph_files[s][opt_seq2]['cfg_file'],\n",
    "        filtered_graph_files[s][opt_seq1]['exectime']/filtered_graph_files[s][opt_seq2]['exectime']\n",
    "    )\n",
    "    samples.append(t)\n",
    "\n",
    "print(f\"Sampled {len(samples)} CFGs\")\n",
    "print(f\"First sample of {len(samples)} samples (example of output): {samples[0]}\")\n"
   ]
  },
  {
   "source": [
    "Now we are going to load the selected graphs and create a np.array as input to our GNN"
   ],
   "cell_type": "markdown",
   "metadata": {}
  },
  {
   "cell_type": "code",
   "execution_count": 15,
   "metadata": {},
   "outputs": [
    {
     "output_type": "display_data",
     "data": {
      "text/plain": "Number of graphs/features loaded:   0%|          | 0/10000 [00:00<?, ?it/s]",
      "application/vnd.jupyter.widget-view+json": {
       "version_major": 2,
       "version_minor": 0,
       "model_id": "c66dd32e2c2341a285fc4707c8ccc610"
      }
     },
     "metadata": {}
    },
    {
     "output_type": "stream",
     "name": "stdout",
     "text": [
      "WARNING. GRAPH ./data/ccpe-dados/cfg.llvm/extracted/Olden.voronoi.0.76.ll.cfg.yaml: node=130, n=153, network_shape=(150, 150). Skipping\n",
      "WARNING. GRAPH ./data/ccpe-dados/cfg.llvm/extracted/CAPBenchmarks.RT.0.2.ll.cfg.yaml: node=65, n=150, network_shape=(150, 150). Skipping\n",
      "WARNING. GRAPH ./data/ccpe-dados/cfg.llvm/extracted/Olden.voronoi.0.30.ll.cfg.yaml: node=130, n=153, network_shape=(150, 150). Skipping\n",
      "WARNING. GRAPH ./data/ccpe-dados/cfg.llvm/extracted/Olden.voronoi.0.91.ll.cfg.yaml: node=126, n=150, network_shape=(150, 150). Skipping\n",
      "WARNING. GRAPH ./data/ccpe-dados/cfg.llvm/extracted/Olden.voronoi.0.37.ll.cfg.yaml: node=132, n=153, network_shape=(150, 150). Skipping\n",
      "WARNING. GRAPH ./data/ccpe-dados/cfg.llvm/extracted/Olden.voronoi.0.76.ll.cfg.yaml: node=130, n=153, network_shape=(150, 150). Skipping\n",
      "WARNING. GRAPH ./data/ccpe-dados/cfg.llvm/extracted/CAPBenchmarks.RT.0.2.ll.cfg.yaml: node=65, n=150, network_shape=(150, 150). Skipping\n",
      "WARNING. GRAPH ./data/ccpe-dados/cfg.llvm/extracted/Olden.voronoi.0.37.ll.cfg.yaml: node=132, n=153, network_shape=(150, 150). Skipping\n",
      "WARNING. GRAPH ./data/ccpe-dados/cfg.llvm/extracted/PolyBench.linear-algebra-solvers-ludcmp.0.99.ll.cfg.yaml: node=148, n=150, network_shape=(150, 150). Skipping\n",
      "WARNING. GRAPH ./data/ccpe-dados/cfg.llvm/extracted/CAPBenchmarks.RT.0.2.ll.cfg.yaml: node=65, n=150, network_shape=(150, 150). Skipping\n",
      "WARNING. GRAPH ./data/ccpe-dados/cfg.llvm/extracted/CAPBenchmarks.RT.0.2.ll.cfg.yaml: node=65, n=150, network_shape=(150, 150). Skipping\n",
      "WARNING. GRAPH ./data/ccpe-dados/cfg.llvm/extracted/Olden.voronoi.0.91.ll.cfg.yaml: node=126, n=150, network_shape=(150, 150). Skipping\n",
      "WARNING. GRAPH ./data/ccpe-dados/cfg.llvm/extracted/Olden.voronoi.0.37.ll.cfg.yaml: node=132, n=153, network_shape=(150, 150). Skipping\n",
      "WARNING. GRAPH ./data/ccpe-dados/cfg.llvm/extracted/Olden.voronoi.0.91.ll.cfg.yaml: node=126, n=150, network_shape=(150, 150). Skipping\n",
      "WARNING. GRAPH ./data/ccpe-dados/cfg.llvm/extracted/Olden.voronoi.0.76.ll.cfg.yaml: node=130, n=153, network_shape=(150, 150). Skipping\n",
      "WARNING. GRAPH ./data/ccpe-dados/cfg.llvm/extracted/Olden.voronoi.0.37.ll.cfg.yaml: node=132, n=153, network_shape=(150, 150). Skipping\n",
      "WARNING. GRAPH ./data/ccpe-dados/cfg.llvm/extracted/Olden.voronoi.0.76.ll.cfg.yaml: node=130, n=153, network_shape=(150, 150). Skipping\n",
      "WARNING. GRAPH ./data/ccpe-dados/cfg.llvm/extracted/Olden.voronoi.0.37.ll.cfg.yaml: node=132, n=153, network_shape=(150, 150). Skipping\n",
      "WARNING. GRAPH ./data/ccpe-dados/cfg.llvm/extracted/Olden.voronoi.0.91.ll.cfg.yaml: node=126, n=150, network_shape=(150, 150). Skipping\n",
      "WARNING. GRAPH ./data/ccpe-dados/cfg.llvm/extracted/Olden.voronoi.0.76.ll.cfg.yaml: node=130, n=153, network_shape=(150, 150). Skipping\n",
      "WARNING. GRAPH ./data/ccpe-dados/cfg.llvm/extracted/Olden.voronoi.0.30.ll.cfg.yaml: node=130, n=153, network_shape=(150, 150). Skipping\n",
      "WARNING. GRAPH ./data/ccpe-dados/cfg.llvm/extracted/Olden.voronoi.0.76.ll.cfg.yaml: node=130, n=153, network_shape=(150, 150). Skipping\n",
      "WARNING. GRAPH ./data/ccpe-dados/cfg.llvm/extracted/Olden.voronoi.0.37.ll.cfg.yaml: node=132, n=153, network_shape=(150, 150). Skipping\n",
      "WARNING. GRAPH ./data/ccpe-dados/cfg.llvm/extracted/PolyBench.linear-algebra-solvers-ludcmp.0.67.ll.cfg.yaml: node=148, n=150, network_shape=(150, 150). Skipping\n",
      "WARNING. GRAPH ./data/ccpe-dados/cfg.llvm/extracted/Olden.voronoi.0.37.ll.cfg.yaml: node=132, n=153, network_shape=(150, 150). Skipping\n",
      "WARNING. GRAPH ./data/ccpe-dados/cfg.llvm/extracted/Olden.voronoi.0.91.ll.cfg.yaml: node=126, n=150, network_shape=(150, 150). Skipping\n",
      "WARNING. GRAPH ./data/ccpe-dados/cfg.llvm/extracted/Olden.voronoi.0.37.ll.cfg.yaml: node=132, n=153, network_shape=(150, 150). Skipping\n",
      "WARNING. GRAPH ./data/ccpe-dados/cfg.llvm/extracted/PolyBench.linear-algebra-solvers-ludcmp.0.99.ll.cfg.yaml: node=148, n=150, network_shape=(150, 150). Skipping\n",
      "WARNING. GRAPH ./data/ccpe-dados/cfg.llvm/extracted/Olden.voronoi.0.37.ll.cfg.yaml: node=132, n=153, network_shape=(150, 150). Skipping\n",
      "WARNING. GRAPH ./data/ccpe-dados/cfg.llvm/extracted/Olden.voronoi.0.37.ll.cfg.yaml: node=132, n=153, network_shape=(150, 150). Skipping\n",
      "WARNING. GRAPH ./data/ccpe-dados/cfg.llvm/extracted/Olden.voronoi.0.76.ll.cfg.yaml: node=130, n=153, network_shape=(150, 150). Skipping\n",
      "WARNING. GRAPH ./data/ccpe-dados/cfg.llvm/extracted/Olden.voronoi.0.30.ll.cfg.yaml: node=130, n=153, network_shape=(150, 150). SkippingWARNING. GRAPH ./data/ccpe-dados/cfg.llvm/extracted/Olden.voronoi.0.30.ll.cfg.yaml: node=130, n=153, network_shape=(150, 150). Skipping\n",
      "\n",
      "WARNING. GRAPH ./data/ccpe-dados/cfg.llvm/extracted/Olden.voronoi.0.76.ll.cfg.yaml: node=130, n=153, network_shape=(150, 150). Skipping\n",
      "WARNING. GRAPH ./data/ccpe-dados/cfg.llvm/extracted/CAPBenchmarks.RT.0.2.ll.cfg.yaml: node=65, n=150, network_shape=(150, 150). Skipping\n",
      "WARNING. GRAPH ./data/ccpe-dados/cfg.llvm/extracted/Olden.voronoi.0.30.ll.cfg.yaml: node=130, n=153, network_shape=(150, 150). Skipping\n",
      "WARNING. GRAPH ./data/ccpe-dados/cfg.llvm/extracted/Olden.voronoi.0.37.ll.cfg.yaml: node=132, n=153, network_shape=(150, 150). Skipping\n",
      "WARNING. GRAPH ./data/ccpe-dados/cfg.llvm/extracted/Olden.voronoi.0.37.ll.cfg.yaml: node=132, n=153, network_shape=(150, 150). Skipping\n",
      "WARNING. GRAPH ./data/ccpe-dados/cfg.llvm/extracted/Olden.voronoi.0.91.ll.cfg.yaml: node=126, n=150, network_shape=(150, 150). Skipping\n",
      "WARNING. GRAPH ./data/ccpe-dados/cfg.llvm/extracted/PolyBench.linear-algebra-kernels-mvt.0.90.ll.cfg.yaml: node=148, n=150, network_shape=(150, 150). Skipping\n",
      "WARNING. GRAPH ./data/ccpe-dados/cfg.llvm/extracted/Olden.voronoi.0.91.ll.cfg.yaml: node=126, n=150, network_shape=(150, 150). Skipping\n",
      "WARNING. GRAPH ./data/ccpe-dados/cfg.llvm/extracted/Olden.voronoi.0.91.ll.cfg.yaml: node=126, n=150, network_shape=(150, 150). Skipping\n",
      "WARNING. GRAPH ./data/ccpe-dados/cfg.llvm/extracted/PolyBench.linear-algebra-solvers-ludcmp.0.67.ll.cfg.yaml: node=148, n=150, network_shape=(150, 150). Skipping\n",
      "WARNING. GRAPH ./data/ccpe-dados/cfg.llvm/extracted/CAPBenchmarks.RT.0.2.ll.cfg.yaml: node=65, n=150, network_shape=(150, 150). Skipping\n",
      "WARNING. GRAPH ./data/ccpe-dados/cfg.llvm/extracted/CAPBenchmarks.RT.0.74.ll.cfg.yaml: node=65, n=150, network_shape=(150, 150). Skipping\n",
      "WARNING. GRAPH ./data/ccpe-dados/cfg.llvm/extracted/CAPBenchmarks.RT.0.2.ll.cfg.yaml: node=65, n=150, network_shape=(150, 150). Skipping\n",
      "WARNING. GRAPH ./data/ccpe-dados/cfg.llvm/extracted/Olden.voronoi.0.37.ll.cfg.yaml: node=132, n=153, network_shape=(150, 150). Skipping\n",
      "WARNING. GRAPH ./data/ccpe-dados/cfg.llvm/extracted/Olden.voronoi.0.76.ll.cfg.yaml: node=130, n=153, network_shape=(150, 150). Skipping\n",
      "WARNING. GRAPH ./data/ccpe-dados/cfg.llvm/extracted/Olden.voronoi.0.37.ll.cfg.yaml: node=132, n=153, network_shape=(150, 150). Skipping\n",
      "WARNING. GRAPH ./data/ccpe-dados/cfg.llvm/extracted/Olden.voronoi.0.30.ll.cfg.yaml: node=130, n=153, network_shape=(150, 150). Skipping\n",
      "WARNING. GRAPH ./data/ccpe-dados/cfg.llvm/extracted/Olden.voronoi.0.30.ll.cfg.yaml: node=130, n=153, network_shape=(150, 150). Skipping\n",
      "WARNING. GRAPH ./data/ccpe-dados/cfg.llvm/extracted/CAPBenchmarks.RT.0.2.ll.cfg.yaml: node=65, n=150, network_shape=(150, 150). Skipping\n",
      "WARNING. GRAPH ./data/ccpe-dados/cfg.llvm/extracted/CAPBenchmarks.RT.0.2.ll.cfg.yaml: node=65, n=150, network_shape=(150, 150). Skipping\n",
      "WARNING. GRAPH ./data/ccpe-dados/cfg.llvm/extracted/PolyBench.linear-algebra-kernels-mvt.0.90.ll.cfg.yaml: node=148, n=150, network_shape=(150, 150). Skipping\n",
      "Number of samples effectively loaded: 9953\n"
     ]
    }
   ],
   "source": [
    "# Load the graph and features from file\n",
    "def load_graph_from_file(filename: str, network_shape: tuple, features_shape: tuple) -> tuple:\n",
    "    x = yaml_load(filename)\n",
    "    \n",
    "    # The graph is a list of adjacency. Lets transform it to an adjacency matrix\n",
    "    graph = np.full(network_shape, False)\n",
    "    for node, nodes_list in x['nodes'].items():\n",
    "        for n in nodes_list:\n",
    "            if node >= network_shape[0] or n >= network_shape[0]:\n",
    "                print(f'WARNING. GRAPH {filename}: node={node}, n={n}, network_shape={network_shape}. Skipping')\n",
    "                return (None, None)\n",
    "            graph[node][n] = True\n",
    "\n",
    "    # Lets read the features from the graphs\n",
    "    features = np.zeros(features_shape)\n",
    "    for node, node_list in x['nodes_features'].items():\n",
    "        if node >= features_shape[0]:\n",
    "            print(f'WARNING. FEATURE {filename}: node={node}, features_shape={features_shape}. Skipping')\n",
    "            return (None, None)\n",
    "        features[node] = node_list\n",
    "\n",
    "    return graph, features\n",
    "\n",
    "def load_sample(sample_tuple: tuple) -> tuple:\n",
    "    graph1, features1 = load_graph_from_file(sample_tuple[0], network_input_graph_shape, network_input_features_shape)\n",
    "    graph2, features2 = load_graph_from_file(sample_tuple[1], network_input_graph_shape, network_input_features_shape)\n",
    "\n",
    "    if graph1 is None or graph2 is None:\n",
    "        return None\n",
    "    \n",
    "    graphs = np.empty((2, network_input_graph_shape[0], network_input_graph_shape[1]))\n",
    "    graphs[0] = graph1\n",
    "    graphs[1] = graph2\n",
    "\n",
    "    features = np.empty((2, network_input_features_shape[0], network_input_features_shape[1]))\n",
    "    features[0] = features1\n",
    "    features[1] = features2\n",
    "\n",
    "    # Returns:\n",
    "    # A matrix with 2 graphs with shape: (2, network_input_graph_shape[0], network_input_graph_shape[1])\n",
    "    # A matrix with 2 features with shape: (2, network_input_features_shape[0], network_input_features_shape[1])\n",
    "    # A float with speedup of CFG1/CFG2\n",
    "    return graphs, features, np.array([sample_tuple[2]])\n",
    "\n",
    "# This function return a list of tuples, where each tuple is composed by:\n",
    "# np.array with 2 graphs, np.array with 2 features, speedup\n",
    "input_samples = thread_map(load_sample, samples, desc='Number of graphs/features loaded')\n",
    "# Remove errors\n",
    "input_samples = [i for i in input_samples if i is not None]\n",
    "\n",
    "print(f\"Number of samples effectively loaded: {len(input_samples)}\")\n"
   ]
  },
  {
   "source": [
    "Finally, we are going to concatenate all matrices of CFGs in a single CFG matrix, all matrices of features in a single feature matrices and all speedups in a speedup matrix. This representation is the input to our GNN"
   ],
   "cell_type": "markdown",
   "metadata": {}
  },
  {
   "cell_type": "code",
   "execution_count": 22,
   "metadata": {},
   "outputs": [],
   "source": [
    "# Finally, transforming the list of graphs in a big np.array with shape: (no_samples, 2, network_input_graph_shape[0], network_input_graph_shape[1])\n",
    "input_graphs = np.stack([i[0] for i in input_samples], axis=0)\n",
    "print(f\"Input graphs shape: {input_graphs.shape}\")\n",
    "input_features = np.stack([i[1] for i in input_samples], axis=0)\n",
    "print(f\"Input features shape: {input_features.shape}\")\n",
    "speedups = np.stack([i[2] for i in input_samples], axis=0)\n",
    "print(f\"Input speedups (target) shape: {speedups.shape}\")"
   ]
  },
  {
   "cell_type": "code",
   "execution_count": 2,
   "metadata": {},
   "outputs": [
    {
     "output_type": "error",
     "ename": "NameError",
     "evalue": "name 'np' is not defined",
     "traceback": [
      "\u001b[0;31m---------------------------------------------------------------------------\u001b[0m",
      "\u001b[0;31mNameError\u001b[0m                                 Traceback (most recent call last)",
      "\u001b[0;32m<ipython-input-2-433f9bdfe560>\u001b[0m in \u001b[0;36m<module>\u001b[0;34m\u001b[0m\n\u001b[1;32m      1\u001b[0m \u001b[0;31m# Save to numpy pickle\u001b[0m\u001b[0;34m\u001b[0m\u001b[0;34m\u001b[0m\u001b[0;34m\u001b[0m\u001b[0m\n\u001b[1;32m      2\u001b[0m \u001b[0moutput_file\u001b[0m \u001b[0;34m=\u001b[0m \u001b[0;34m'./data/graphs_and_features'\u001b[0m\u001b[0;34m\u001b[0m\u001b[0;34m\u001b[0m\u001b[0m\n\u001b[0;32m----> 3\u001b[0;31m \u001b[0mnp\u001b[0m\u001b[0;34m.\u001b[0m\u001b[0msavez_compressed\u001b[0m\u001b[0;34m(\u001b[0m\u001b[0moutput_file\u001b[0m\u001b[0;34m,\u001b[0m \u001b[0mgraphs\u001b[0m\u001b[0;34m=\u001b[0m\u001b[0minput_graphs\u001b[0m\u001b[0;34m,\u001b[0m \u001b[0mfeatures\u001b[0m\u001b[0;34m=\u001b[0m\u001b[0minput_features\u001b[0m\u001b[0;34m,\u001b[0m \u001b[0mspeedups\u001b[0m\u001b[0;34m=\u001b[0m\u001b[0mspeedups\u001b[0m\u001b[0;34m)\u001b[0m\u001b[0;34m\u001b[0m\u001b[0;34m\u001b[0m\u001b[0m\n\u001b[0m\u001b[1;32m      4\u001b[0m \u001b[0mprint\u001b[0m\u001b[0;34m(\u001b[0m\u001b[0;34mf\"Graphs, features and targets were saved (compressed) to {output_file}.npz\"\u001b[0m\u001b[0;34m)\u001b[0m\u001b[0;34m\u001b[0m\u001b[0;34m\u001b[0m\u001b[0m\n",
      "\u001b[0;31mNameError\u001b[0m: name 'np' is not defined"
     ]
    }
   ],
   "source": [
    "# Save to numpy pickle\n",
    "output_file = './data/graphs_and_features'\n",
    "np.savez_compressed(output_file, graphs=input_graphs, features=input_features, speedups=speedups)\n",
    "print(f\"Graphs, features and targets were saved (compressed) to {output_file}.npz\")"
   ]
  },
  {
   "source": [
    "# Training with CFG representation"
   ],
   "cell_type": "markdown",
   "metadata": {}
  },
  {
   "cell_type": "code",
   "execution_count": 7,
   "metadata": {},
   "outputs": [
    {
     "output_type": "stream",
     "name": "stdout",
     "text": [
      "Data loaded!\nDatas:\nA shape (graphs): (9953, 2, 150, 150)\nX shape (features): (9953, 2, 150, 67)\ny shape (targets): (9953, 5) \n\n"
     ]
    }
   ],
   "source": [
    "# Read data\n",
    "input_data = './data/graphs_and_features.npz'\n",
    "with np.load(input_data, allow_pickle=True) as all_data:\n",
    "    A = all_data['graphs']\n",
    "    X = all_data['features']\n",
    "    y = all_data['speedup']\n",
    "\n",
    "print('Data loaded!')\n",
    "\n",
    "# Generate classed based on speedup\n",
    "y_c = np.zeros(shape=(y.shape[0],5))\n",
    "\n",
    "for i in range(0, y.shape[0]):\n",
    "    if y[i] <= 0.996:\n",
    "        y_c[i,0]=1\n",
    "    elif y[i] > 0.996 and y[i] < 1.0:\n",
    "        y_c[i,1]=1\n",
    "    elif (y[i] >= 1.0 and y[i] < 1.15):\n",
    "        y_c[i,2]=1\n",
    "    elif (y[i] > 1.15):\n",
    "        y_c[i,3]= 1\n",
    "    y_c[i,4] = y[i]\n",
    "y = y_c\n",
    "\n",
    "# Remove 0 columns in nodes features\n",
    "#idx = np.argwhere(np.all(X[..., :] == 0, axis=(0,1,2)))\n",
    "#X = np.delete(X, idx, axis=3)\n",
    "\n",
    "print(f\"\"\"Datas:\n",
    "A shape (graphs): {A.shape}\n",
    "X shape (features): {X.shape}\n",
    "y shape (targets): {y.shape} \n",
    "\"\"\")\n"
   ]
  },
  {
   "cell_type": "code",
   "execution_count": 8,
   "metadata": {},
   "outputs": [
    {
     "output_type": "execute_result",
     "data": {
      "text/plain": [
       "1521"
      ]
     },
     "metadata": {},
     "execution_count": 8
    }
   ],
   "source": [
    "# Preprocess graphs with Spektral\n",
    "A[:,0,:,:] = GraphConv.preprocess(A[:,0,:,:]).astype('f4')\n",
    "A[:,1,:,:] = GraphConv.preprocess(A[:,1,:,:]).astype('f4')\n",
    "\n",
    "# Split Train and test sets\n",
    "A_train, A_test, x_train, x_test, y_train, y_test = train_test_split(A, X, y, test_size=0.1)\n",
    "\n",
    "# Cleanup\n",
    "gc.collect()"
   ]
  },
  {
   "cell_type": "code",
   "execution_count": 9,
   "metadata": {},
   "outputs": [],
   "source": [
    "# Defining some parameters for training\n",
    "N = X.shape[-2]                 # Number of nodes in the graphs\n",
    "F = X.shape[-1]                 # Original feature dimensionality\n",
    "n_classes = y_c.shape[-1]-1     # Number of classes\n",
    "epochs = 500                    # Number of training epochs\n",
    "batch_size = 16                 # Batch size\n",
    "learning_rate = 1e-2            # Learning rate"
   ]
  },
  {
   "cell_type": "code",
   "execution_count": 10,
   "metadata": {},
   "outputs": [
    {
     "output_type": "stream",
     "name": "stdout",
     "text": [
      "Model: \"model\"\n__________________________________________________________________________________________________\nLayer (type)                    Output Shape         Param #     Connected to                     \n==================================================================================================\ninput_1 (InputLayer)            [(None, 150, 67)]    0                                            \n__________________________________________________________________________________________________\ninput_2 (InputLayer)            [(None, 150, 150)]   0                                            \n__________________________________________________________________________________________________\ninput_3 (InputLayer)            [(None, 150, 67)]    0                                            \n__________________________________________________________________________________________________\ninput_4 (InputLayer)            [(None, 150, 150)]   0                                            \n__________________________________________________________________________________________________\ngraph_conv (GraphConv)          (None, 150, 45)      3015        input_1[0][0]                    \n                                                                 input_2[0][0]                    \n                                                                 input_3[0][0]                    \n                                                                 input_4[0][0]                    \n__________________________________________________________________________________________________\nmin_cut_pool (MinCutPool)       [(None, 75, 45), (No 3450        graph_conv[0][0]                 \n                                                                 input_2[0][0]                    \n                                                                 graph_conv[1][0]                 \n                                                                 input_4[0][0]                    \n__________________________________________________________________________________________________\ngraph_conv_1 (GraphConv)        (None, 75, 55)       2475        min_cut_pool[0][0]               \n                                                                 min_cut_pool[0][1]               \n                                                                 min_cut_pool[1][0]               \n                                                                 min_cut_pool[1][1]               \n__________________________________________________________________________________________________\nglobal_attn_sum_pool (GlobalAtt (None, 55)           55          graph_conv_1[0][0]               \n                                                                 graph_conv_1[1][0]               \n__________________________________________________________________________________________________\ndense (Dense)                   (None, 200)          11200       global_attn_sum_pool[0][0]       \n__________________________________________________________________________________________________\ndense_1 (Dense)                 (None, 200)          11200       global_attn_sum_pool[1][0]       \n__________________________________________________________________________________________________\nconcatenate (Concatenate)       (None, 400)          0           dense[0][0]                      \n                                                                 dense_1[0][0]                    \n__________________________________________________________________________________________________\ndense_2 (Dense)                 (None, 800)          320800      concatenate[0][0]                \n__________________________________________________________________________________________________\ndense_3 (Dense)                 (None, 32)           25632       dense_2[0][0]                    \n__________________________________________________________________________________________________\nclass (Dense)                   (None, 4)            132         dense_3[0][0]                    \n__________________________________________________________________________________________________\nspeddup (Dense)                 (None, 1)            33          dense_3[0][0]                    \n==================================================================================================\nTotal params: 377,992\nTrainable params: 377,992\nNon-trainable params: 0\n__________________________________________________________________________________________________\n"
     ]
    }
   ],
   "source": [
    "# Model definition\n",
    "conv   = GraphConv(45,activation='relu',use_bias=False)\n",
    "mincut = MinCutPool(N // 2)\n",
    "conv2  = GraphConv(55,activation='relu',use_bias=False)\n",
    "pool   = GlobalAttnSumPool()\n",
    "\n",
    "# First Graph Layers\n",
    "X1_in = Input(shape=(N, F))\n",
    "A1_in = Input((N, N))\n",
    "gc2_1 = conv([X1_in, A1_in])\n",
    "gc2_1, A1 = mincut([gc2_1,A1_in])\n",
    "gc2_1 = conv2([gc2_1, A1])\n",
    "pool_1 =  pool(gc2_1)\n",
    "d1 = Dense(200,activation='relu')(pool_1)\n",
    "\n",
    "# Second Graph Layers\n",
    "X2_in = Input(shape=(N, F))\n",
    "A2_in = Input((N, N))\n",
    "gc2_2 = conv([X2_in, A2_in]) # Notice that both graphs shares layers (shared weights)\n",
    "gc2_2, A2 = mincut([gc2_2,A2_in])\n",
    "gc2_2 = conv2([gc2_2, A2])\n",
    "pool_2 = pool(gc2_2)\n",
    "d2 = Dense(200,activation='relu')(pool_2)\n",
    "\n",
    "# Dense final layers\n",
    "merged = Concatenate()([d1, d2])\n",
    "\n",
    "merged1 = Dense(800,activation='relu')(merged)\n",
    "merged2 = Dense(32,activation='relu')(merged1)\n",
    "\n",
    "classe = Dense(n_classes, name=\"class\",activation=\"softmax\")(merged2)\n",
    "speedup = Dense(1, name=\"speddup\")(merged2)\n",
    "\n",
    "# Build model\n",
    "model = Model(inputs=[X1_in, A1_in,X2_in, A2_in], outputs=[classe,speedup])\n",
    "optimizer = Adam(lr=learning_rate)\n",
    "model.compile(optimizer=optimizer, loss=['categorical_crossentropy', 'mse'],loss_weights=[1, 0.00005], weighted_metrics=['acc'])\n",
    "model.summary()"
   ]
  },
  {
   "cell_type": "code",
   "execution_count": 11,
   "metadata": {
    "tags": [
     "outputPrepend"
    ]
   },
   "outputs": [
    {
     "output_type": "stream",
     "name": "stdout",
     "text": [
      "532/532 [==============================] - 3s 6ms/step - loss: 2.4797 - class_loss: 0.6195 - speddup_loss: 28920.2099 - class_acc: 0.7429 - speddup_acc: 0.0000e+00 - val_loss: 8.6716 - val_class_loss: 1.0161 - val_speddup_loss: 144622.4062 - val_class_acc: 0.6049 - val_speddup_acc: 0.0000e+00\n",
      "Epoch 437/500\n",
      "532/532 [==============================] - 3s 6ms/step - loss: 2.0580 - class_loss: 0.6276 - speddup_loss: 20333.6890 - class_acc: 0.7430 - speddup_acc: 0.0000e+00 - val_loss: 8.7157 - val_class_loss: 1.0612 - val_speddup_loss: 144608.9844 - val_class_acc: 0.6228 - val_speddup_acc: 0.0000e+00\n",
      "Epoch 438/500\n",
      "532/532 [==============================] - 3s 6ms/step - loss: 1.7661 - class_loss: 0.6268 - speddup_loss: 14523.4810 - class_acc: 0.7357 - speddup_acc: 0.0000e+00 - val_loss: 8.7141 - val_class_loss: 1.0596 - val_speddup_loss: 144631.3125 - val_class_acc: 0.6138 - val_speddup_acc: 0.0000e+00\n",
      "Epoch 439/500\n",
      "532/532 [==============================] - 3s 6ms/step - loss: 2.4618 - class_loss: 0.6275 - speddup_loss: 28361.3133 - class_acc: 0.7394 - speddup_acc: 0.0000e+00 - val_loss: 8.8656 - val_class_loss: 1.2080 - val_speddup_loss: 144626.3594 - val_class_acc: 0.6406 - val_speddup_acc: 0.0000e+00\n",
      "Epoch 440/500\n",
      "532/532 [==============================] - 3s 6ms/step - loss: 2.6328 - class_loss: 0.6421 - speddup_loss: 31409.5049 - class_acc: 0.7397 - speddup_acc: 0.0000e+00 - val_loss: 8.8117 - val_class_loss: 1.1545 - val_speddup_loss: 144638.4375 - val_class_acc: 0.6071 - val_speddup_acc: 0.0000e+00\n",
      "Epoch 441/500\n",
      "532/532 [==============================] - 3s 6ms/step - loss: 1.9282 - class_loss: 0.6531 - speddup_loss: 17141.6999 - class_acc: 0.7288 - speddup_acc: 0.0000e+00 - val_loss: 8.7369 - val_class_loss: 1.0841 - val_speddup_loss: 144628.1719 - val_class_acc: 0.6205 - val_speddup_acc: 0.0000e+00\n",
      "Epoch 442/500\n",
      "532/532 [==============================] - 3s 6ms/step - loss: 3.1500 - class_loss: 0.6271 - speddup_loss: 42171.3261 - class_acc: 0.7403 - speddup_acc: 0.0000e+00 - val_loss: 8.6974 - val_class_loss: 1.0461 - val_speddup_loss: 144619.1094 - val_class_acc: 0.6317 - val_speddup_acc: 0.0000e+00\n",
      "Epoch 443/500\n",
      "532/532 [==============================] - 3s 6ms/step - loss: 2.7008 - class_loss: 0.6624 - speddup_loss: 32410.0700 - class_acc: 0.7313 - speddup_acc: 0.0000e+00 - val_loss: 8.9408 - val_class_loss: 1.2852 - val_speddup_loss: 144623.4062 - val_class_acc: 0.6205 - val_speddup_acc: 0.0000e+00\n",
      "Epoch 444/500\n",
      "532/532 [==============================] - 3s 6ms/step - loss: 1.4463 - class_loss: 0.6284 - speddup_loss: 8074.2876 - class_acc: 0.7351 - speddup_acc: 0.0000e+00 - val_loss: 8.7026 - val_class_loss: 1.0484 - val_speddup_loss: 144607.0625 - val_class_acc: 0.6071 - val_speddup_acc: 0.0000e+00\n",
      "Epoch 445/500\n",
      "532/532 [==============================] - 3s 6ms/step - loss: 2.1178 - class_loss: 0.6673 - speddup_loss: 20696.2286 - class_acc: 0.7203 - speddup_acc: 0.0000e+00 - val_loss: 8.7872 - val_class_loss: 1.1365 - val_speddup_loss: 144607.2812 - val_class_acc: 0.6205 - val_speddup_acc: 0.0000e+00\n",
      "Epoch 446/500\n",
      "532/532 [==============================] - 3s 6ms/step - loss: 3.0889 - class_loss: 0.6264 - speddup_loss: 40961.9014 - class_acc: 0.7478 - speddup_acc: 0.0000e+00 - val_loss: 8.7915 - val_class_loss: 1.1323 - val_speddup_loss: 144651.4219 - val_class_acc: 0.5871 - val_speddup_acc: 0.0000e+00\n",
      "Epoch 447/500\n",
      "532/532 [==============================] - 3s 6ms/step - loss: 2.3279 - class_loss: 0.6245 - speddup_loss: 25794.4185 - class_acc: 0.7443 - speddup_acc: 0.0000e+00 - val_loss: 8.8233 - val_class_loss: 1.1719 - val_speddup_loss: 144628.4531 - val_class_acc: 0.5670 - val_speddup_acc: 0.0000e+00\n",
      "Epoch 448/500\n",
      "532/532 [==============================] - 3s 6ms/step - loss: 3.0345 - class_loss: 0.6239 - speddup_loss: 39968.6961 - class_acc: 0.7468 - speddup_acc: 0.0000e+00 - val_loss: 8.8650 - val_class_loss: 1.2136 - val_speddup_loss: 144625.2031 - val_class_acc: 0.6004 - val_speddup_acc: 0.0000e+00\n",
      "Epoch 449/500\n",
      "532/532 [==============================] - 3s 6ms/step - loss: 4.5495 - class_loss: 0.6377 - speddup_loss: 69947.1374 - class_acc: 0.7411 - speddup_acc: 0.0000e+00 - val_loss: 8.9531 - val_class_loss: 1.2929 - val_speddup_loss: 144633.3750 - val_class_acc: 0.5915 - val_speddup_acc: 0.0000e+00\n",
      "Epoch 450/500\n",
      "532/532 [==============================] - 3s 6ms/step - loss: 2.3542 - class_loss: 0.6273 - speddup_loss: 26270.9598 - class_acc: 0.7399 - speddup_acc: 0.0000e+00 - val_loss: 8.8574 - val_class_loss: 1.2016 - val_speddup_loss: 144640.1719 - val_class_acc: 0.5915 - val_speddup_acc: 0.0000e+00\n",
      "Epoch 451/500\n",
      "532/532 [==============================] - 3s 6ms/step - loss: 4.1105 - class_loss: 0.6642 - speddup_loss: 60626.5283 - class_acc: 0.7286 - speddup_acc: 0.0000e+00 - val_loss: 8.7469 - val_class_loss: 1.0853 - val_speddup_loss: 144625.3906 - val_class_acc: 0.5960 - val_speddup_acc: 0.0000e+00\n",
      "Epoch 452/500\n",
      "532/532 [==============================] - 3s 6ms/step - loss: 2.8481 - class_loss: 0.6517 - speddup_loss: 35571.7167 - class_acc: 0.7304 - speddup_acc: 0.0000e+00 - val_loss: 8.7441 - val_class_loss: 1.0893 - val_speddup_loss: 144624.9844 - val_class_acc: 0.5893 - val_speddup_acc: 0.0000e+00\n",
      "Epoch 453/500\n",
      "532/532 [==============================] - 3s 6ms/step - loss: 1.7483 - class_loss: 0.7265 - speddup_loss: 12027.2905 - class_acc: 0.7005 - speddup_acc: 0.0000e+00 - val_loss: 8.7397 - val_class_loss: 1.0861 - val_speddup_loss: 144609.7969 - val_class_acc: 0.6004 - val_speddup_acc: 0.0000e+00\n",
      "Epoch 454/500\n",
      "532/532 [==============================] - 3s 6ms/step - loss: 1.4116 - class_loss: 0.6497 - speddup_loss: 7021.1254 - class_acc: 0.7294 - speddup_acc: 0.0000e+00 - val_loss: 8.7537 - val_class_loss: 1.1034 - val_speddup_loss: 144617.4062 - val_class_acc: 0.6116 - val_speddup_acc: 0.0000e+00\n",
      "Epoch 455/500\n",
      "532/532 [==============================] - 3s 6ms/step - loss: 3.2170 - class_loss: 0.6463 - speddup_loss: 43249.4070 - class_acc: 0.7350 - speddup_acc: 0.0000e+00 - val_loss: 8.6858 - val_class_loss: 1.0351 - val_speddup_loss: 144635.4688 - val_class_acc: 0.5982 - val_speddup_acc: 0.0000e+00\n",
      "Epoch 456/500\n",
      "532/532 [==============================] - 3s 6ms/step - loss: 2.8469 - class_loss: 0.6280 - speddup_loss: 36189.0337 - class_acc: 0.7417 - speddup_acc: 0.0000e+00 - val_loss: 8.7580 - val_class_loss: 1.1097 - val_speddup_loss: 144647.6719 - val_class_acc: 0.6116 - val_speddup_acc: 0.0000e+00\n",
      "Epoch 457/500\n",
      "532/532 [==============================] - 3s 6ms/step - loss: 1.9665 - class_loss: 0.6494 - speddup_loss: 18079.6482 - class_acc: 0.7361 - speddup_acc: 0.0000e+00 - val_loss: 8.7227 - val_class_loss: 1.0745 - val_speddup_loss: 144630.6250 - val_class_acc: 0.5826 - val_speddup_acc: 0.0000e+00\n",
      "Epoch 458/500\n",
      "532/532 [==============================] - 3s 6ms/step - loss: 2.2439 - class_loss: 0.6442 - speddup_loss: 23835.2949 - class_acc: 0.7406 - speddup_acc: 0.0000e+00 - val_loss: 8.6794 - val_class_loss: 1.0215 - val_speddup_loss: 144643.6094 - val_class_acc: 0.6295 - val_speddup_acc: 0.0000e+00\n",
      "Epoch 459/500\n",
      "532/532 [==============================] - 3s 6ms/step - loss: 2.1036 - class_loss: 0.6840 - speddup_loss: 20097.1426 - class_acc: 0.7332 - speddup_acc: 0.0000e+00 - val_loss: 8.6633 - val_class_loss: 1.0083 - val_speddup_loss: 144628.8125 - val_class_acc: 0.6071 - val_speddup_acc: 0.0000e+00\n",
      "Epoch 460/500\n",
      "532/532 [==============================] - 3s 6ms/step - loss: 1.9193 - class_loss: 0.6817 - speddup_loss: 16500.1085 - class_acc: 0.7189 - speddup_acc: 0.0000e+00 - val_loss: 8.7885 - val_class_loss: 1.1385 - val_speddup_loss: 144625.2031 - val_class_acc: 0.5915 - val_speddup_acc: 0.0000e+00\n",
      "Epoch 461/500\n",
      "532/532 [==============================] - 3s 6ms/step - loss: 3.0049 - class_loss: 0.6329 - speddup_loss: 39177.7744 - class_acc: 0.7445 - speddup_acc: 0.0000e+00 - val_loss: 8.7587 - val_class_loss: 1.1064 - val_speddup_loss: 144631.0469 - val_class_acc: 0.5893 - val_speddup_acc: 0.0000e+00\n",
      "Epoch 462/500\n",
      "532/532 [==============================] - 3s 6ms/step - loss: 3.3910 - class_loss: 0.6306 - speddup_loss: 46964.3801 - class_acc: 0.7401 - speddup_acc: 0.0000e+00 - val_loss: 8.8041 - val_class_loss: 1.1527 - val_speddup_loss: 144633.2812 - val_class_acc: 0.6004 - val_speddup_acc: 0.0000e+00\n",
      "Epoch 463/500\n",
      "532/532 [==============================] - 3s 6ms/step - loss: 1.7700 - class_loss: 0.6313 - speddup_loss: 14493.3181 - class_acc: 0.7396 - speddup_acc: 0.0000e+00 - val_loss: 8.8039 - val_class_loss: 1.1526 - val_speddup_loss: 144631.5312 - val_class_acc: 0.6094 - val_speddup_acc: 0.0000e+00\n",
      "Epoch 464/500\n",
      "532/532 [==============================] - 3s 6ms/step - loss: 1.7851 - class_loss: 0.6161 - speddup_loss: 15096.7857 - class_acc: 0.7450 - speddup_acc: 0.0000e+00 - val_loss: 8.8465 - val_class_loss: 1.1934 - val_speddup_loss: 144640.2031 - val_class_acc: 0.6049 - val_speddup_acc: 0.0000e+00\n",
      "Epoch 465/500\n",
      "532/532 [==============================] - 3s 6ms/step - loss: 1.4471 - class_loss: 0.6376 - speddup_loss: 7891.8207 - class_acc: 0.7293 - speddup_acc: 0.0000e+00 - val_loss: 8.8808 - val_class_loss: 1.2289 - val_speddup_loss: 144619.5625 - val_class_acc: 0.5960 - val_speddup_acc: 0.0000e+00\n",
      "Epoch 466/500\n",
      "532/532 [==============================] - 3s 6ms/step - loss: 2.8470 - class_loss: 0.6146 - speddup_loss: 36347.3909 - class_acc: 0.7396 - speddup_acc: 0.0000e+00 - val_loss: 8.8010 - val_class_loss: 1.1531 - val_speddup_loss: 144630.1094 - val_class_acc: 0.5893 - val_speddup_acc: 0.0000e+00\n",
      "Epoch 467/500\n",
      "532/532 [==============================] - 3s 6ms/step - loss: 2.2257 - class_loss: 0.6343 - speddup_loss: 23590.1357 - class_acc: 0.7464 - speddup_acc: 0.0000e+00 - val_loss: 8.8870 - val_class_loss: 1.2375 - val_speddup_loss: 144646.0781 - val_class_acc: 0.5781 - val_speddup_acc: 0.0000e+00\n",
      "Epoch 468/500\n",
      "532/532 [==============================] - 3s 6ms/step - loss: 1.6829 - class_loss: 0.6427 - speddup_loss: 12562.4519 - class_acc: 0.7349 - speddup_acc: 0.0000e+00 - val_loss: 8.9350 - val_class_loss: 1.2855 - val_speddup_loss: 144621.5938 - val_class_acc: 0.6228 - val_speddup_acc: 0.0000e+00\n",
      "Epoch 469/500\n",
      "532/532 [==============================] - 3s 6ms/step - loss: 1.7221 - class_loss: 0.6414 - speddup_loss: 13359.4592 - class_acc: 0.7343 - speddup_acc: 0.0000e+00 - val_loss: 8.7885 - val_class_loss: 1.1285 - val_speddup_loss: 144624.3594 - val_class_acc: 0.5915 - val_speddup_acc: 0.0000e+00\n",
      "Epoch 470/500\n",
      "532/532 [==============================] - 3s 6ms/step - loss: 2.3713 - class_loss: 0.6375 - speddup_loss: 26291.6502 - class_acc: 0.7423 - speddup_acc: 0.0000e+00 - val_loss: 8.7314 - val_class_loss: 1.0769 - val_speddup_loss: 144630.7656 - val_class_acc: 0.5781 - val_speddup_acc: 0.0000e+00\n",
      "Epoch 471/500\n",
      "532/532 [==============================] - 3s 6ms/step - loss: 2.1168 - class_loss: 0.6276 - speddup_loss: 21374.7029 - class_acc: 0.7474 - speddup_acc: 0.0000e+00 - val_loss: 8.7664 - val_class_loss: 1.1043 - val_speddup_loss: 144643.3594 - val_class_acc: 0.6094 - val_speddup_acc: 0.0000e+00\n",
      "Epoch 472/500\n",
      "532/532 [==============================] - 3s 6ms/step - loss: 1.7799 - class_loss: 0.6166 - speddup_loss: 14876.1117 - class_acc: 0.7465 - speddup_acc: 0.0000e+00 - val_loss: 8.7659 - val_class_loss: 1.1085 - val_speddup_loss: 144627.2656 - val_class_acc: 0.5982 - val_speddup_acc: 0.0000e+00\n",
      "Epoch 473/500\n",
      "532/532 [==============================] - 3s 6ms/step - loss: 2.6199 - class_loss: 0.6765 - speddup_loss: 30643.5821 - class_acc: 0.7252 - speddup_acc: 0.0000e+00 - val_loss: 8.7502 - val_class_loss: 1.1022 - val_speddup_loss: 144643.4844 - val_class_acc: 0.5982 - val_speddup_acc: 0.0000e+00\n",
      "Epoch 474/500\n",
      "532/532 [==============================] - 3s 6ms/step - loss: 2.6907 - class_loss: 0.6275 - speddup_loss: 32963.4825 - class_acc: 0.7403 - speddup_acc: 0.0000e+00 - val_loss: 8.7339 - val_class_loss: 1.0879 - val_speddup_loss: 144641.2969 - val_class_acc: 0.6429 - val_speddup_acc: 0.0000e+00\n",
      "Epoch 475/500\n",
      "532/532 [==============================] - 3s 6ms/step - loss: 2.0010 - class_loss: 0.6274 - speddup_loss: 19231.4545 - class_acc: 0.7446 - speddup_acc: 0.0000e+00 - val_loss: 8.7859 - val_class_loss: 1.1345 - val_speddup_loss: 144630.1406 - val_class_acc: 0.6138 - val_speddup_acc: 0.0000e+00\n",
      "Epoch 476/500\n",
      "532/532 [==============================] - 3s 6ms/step - loss: 2.9152 - class_loss: 0.6124 - speddup_loss: 37828.1314 - class_acc: 0.7553 - speddup_acc: 0.0000e+00 - val_loss: 8.7166 - val_class_loss: 1.0668 - val_speddup_loss: 144634.3906 - val_class_acc: 0.6071 - val_speddup_acc: 0.0000e+00\n",
      "Epoch 477/500\n",
      "532/532 [==============================] - 3s 6ms/step - loss: 1.6272 - class_loss: 0.6171 - speddup_loss: 12003.3517 - class_acc: 0.7453 - speddup_acc: 0.0000e+00 - val_loss: 8.7937 - val_class_loss: 1.1450 - val_speddup_loss: 144635.6250 - val_class_acc: 0.6071 - val_speddup_acc: 0.0000e+00\n",
      "Epoch 478/500\n",
      "532/532 [==============================] - 3s 6ms/step - loss: 2.2079 - class_loss: 0.6018 - speddup_loss: 23971.0899 - class_acc: 0.7546 - speddup_acc: 0.0000e+00 - val_loss: 8.8541 - val_class_loss: 1.2022 - val_speddup_loss: 144629.9219 - val_class_acc: 0.5714 - val_speddup_acc: 0.0000e+00\n",
      "Epoch 479/500\n",
      "532/532 [==============================] - 3s 6ms/step - loss: 1.8280 - class_loss: 0.6185 - speddup_loss: 15951.6059 - class_acc: 0.7461 - speddup_acc: 0.0000e+00 - val_loss: 8.7481 - val_class_loss: 1.0956 - val_speddup_loss: 144629.5938 - val_class_acc: 0.5915 - val_speddup_acc: 0.0000e+00\n",
      "Epoch 480/500\n",
      "532/532 [==============================] - 3s 6ms/step - loss: 2.4313 - class_loss: 0.6220 - speddup_loss: 27960.4272 - class_acc: 0.7437 - speddup_acc: 0.0000e+00 - val_loss: 8.9399 - val_class_loss: 1.2882 - val_speddup_loss: 144630.2656 - val_class_acc: 0.5982 - val_speddup_acc: 0.0000e+00\n",
      "Epoch 481/500\n",
      "532/532 [==============================] - 3s 6ms/step - loss: 1.2654 - class_loss: 0.6105 - speddup_loss: 4748.8203 - class_acc: 0.7529 - speddup_acc: 0.0000e+00 - val_loss: 8.9011 - val_class_loss: 1.2460 - val_speddup_loss: 144623.2969 - val_class_acc: 0.6116 - val_speddup_acc: 0.0000e+00\n",
      "Epoch 482/500\n",
      "532/532 [==============================] - 3s 6ms/step - loss: 2.0541 - class_loss: 0.6178 - speddup_loss: 20373.3047 - class_acc: 0.7490 - speddup_acc: 0.0000e+00 - val_loss: 8.7768 - val_class_loss: 1.1188 - val_speddup_loss: 144639.7812 - val_class_acc: 0.5826 - val_speddup_acc: 0.0000e+00\n",
      "Epoch 483/500\n",
      "532/532 [==============================] - 3s 6ms/step - loss: 2.2654 - class_loss: 0.6176 - speddup_loss: 24663.0058 - class_acc: 0.7538 - speddup_acc: 0.0000e+00 - val_loss: 8.8547 - val_class_loss: 1.2050 - val_speddup_loss: 144636.2969 - val_class_acc: 0.5536 - val_speddup_acc: 0.0000e+00\n",
      "Epoch 484/500\n",
      "532/532 [==============================] - 3s 6ms/step - loss: 1.5516 - class_loss: 0.6013 - speddup_loss: 10826.4570 - class_acc: 0.7582 - speddup_acc: 0.0000e+00 - val_loss: 8.9398 - val_class_loss: 1.2846 - val_speddup_loss: 144648.2500 - val_class_acc: 0.5848 - val_speddup_acc: 0.0000e+00\n",
      "Epoch 485/500\n",
      "532/532 [==============================] - 3s 6ms/step - loss: 1.9369 - class_loss: 0.6110 - speddup_loss: 18191.2158 - class_acc: 0.7464 - speddup_acc: 0.0000e+00 - val_loss: 8.9181 - val_class_loss: 1.2662 - val_speddup_loss: 144635.5625 - val_class_acc: 0.5960 - val_speddup_acc: 0.0000e+00\n",
      "Epoch 486/500\n",
      "532/532 [==============================] - 3s 6ms/step - loss: 2.7486 - class_loss: 0.5941 - speddup_loss: 34843.4158 - class_acc: 0.7602 - speddup_acc: 0.0000e+00 - val_loss: 8.8943 - val_class_loss: 1.2410 - val_speddup_loss: 144636.5781 - val_class_acc: 0.5871 - val_speddup_acc: 0.0000e+00\n",
      "Epoch 487/500\n",
      "532/532 [==============================] - 3s 6ms/step - loss: 2.5458 - class_loss: 0.6190 - speddup_loss: 30256.4722 - class_acc: 0.7474 - speddup_acc: 0.0000e+00 - val_loss: 8.8343 - val_class_loss: 1.1860 - val_speddup_loss: 144646.0000 - val_class_acc: 0.6027 - val_speddup_acc: 0.0000e+00\n",
      "Epoch 488/500\n",
      "532/532 [==============================] - 3s 6ms/step - loss: 1.3293 - class_loss: 0.5856 - speddup_loss: 6624.0970 - class_acc: 0.7571 - speddup_acc: 0.0000e+00 - val_loss: 8.7927 - val_class_loss: 1.1386 - val_speddup_loss: 144618.8281 - val_class_acc: 0.5960 - val_speddup_acc: 0.0000e+00\n",
      "Epoch 489/500\n",
      "532/532 [==============================] - 3s 6ms/step - loss: 2.3284 - class_loss: 0.6034 - speddup_loss: 26221.8092 - class_acc: 0.7518 - speddup_acc: 0.0000e+00 - val_loss: 8.7732 - val_class_loss: 1.1180 - val_speddup_loss: 144619.8594 - val_class_acc: 0.6161 - val_speddup_acc: 0.0000e+00\n",
      "Epoch 490/500\n",
      "532/532 [==============================] - 3s 6ms/step - loss: 1.7556 - class_loss: 0.6313 - speddup_loss: 14219.9550 - class_acc: 0.7349 - speddup_acc: 0.0000e+00 - val_loss: 8.7999 - val_class_loss: 1.1426 - val_speddup_loss: 144631.9062 - val_class_acc: 0.6027 - val_speddup_acc: 0.0000e+00\n",
      "Epoch 491/500\n",
      "532/532 [==============================] - 3s 6ms/step - loss: 2.1962 - class_loss: 0.6410 - speddup_loss: 22810.1693 - class_acc: 0.7361 - speddup_acc: 0.0000e+00 - val_loss: 8.8366 - val_class_loss: 1.1738 - val_speddup_loss: 144630.2969 - val_class_acc: 0.5692 - val_speddup_acc: 0.0000e+00\n",
      "Epoch 492/500\n",
      "532/532 [==============================] - 3s 6ms/step - loss: 2.9124 - class_loss: 0.6208 - speddup_loss: 37406.9676 - class_acc: 0.7433 - speddup_acc: 0.0000e+00 - val_loss: 8.7836 - val_class_loss: 1.1250 - val_speddup_loss: 144636.1562 - val_class_acc: 0.5960 - val_speddup_acc: 0.0000e+00\n",
      "Epoch 493/500\n",
      "532/532 [==============================] - 3s 6ms/step - loss: 2.7754 - class_loss: 0.5757 - speddup_loss: 35789.6208 - class_acc: 0.7627 - speddup_acc: 0.0000e+00 - val_loss: 8.7726 - val_class_loss: 1.1119 - val_speddup_loss: 144658.0938 - val_class_acc: 0.6027 - val_speddup_acc: 0.0000e+00\n",
      "Epoch 494/500\n",
      "532/532 [==============================] - 3s 6ms/step - loss: 1.6458 - class_loss: 0.5965 - speddup_loss: 12650.9960 - class_acc: 0.7481 - speddup_acc: 0.0000e+00 - val_loss: 8.8728 - val_class_loss: 1.2228 - val_speddup_loss: 144610.9219 - val_class_acc: 0.6071 - val_speddup_acc: 0.0000e+00\n",
      "Epoch 495/500\n",
      "532/532 [==============================] - 3s 6ms/step - loss: 1.5978 - class_loss: 0.6048 - speddup_loss: 11655.4515 - class_acc: 0.7576 - speddup_acc: 0.0000e+00 - val_loss: 8.7706 - val_class_loss: 1.1132 - val_speddup_loss: 144618.7812 - val_class_acc: 0.5826 - val_speddup_acc: 0.0000e+00\n",
      "Epoch 496/500\n",
      "532/532 [==============================] - 3s 6ms/step - loss: 1.8473 - class_loss: 0.6132 - speddup_loss: 16371.0495 - class_acc: 0.7522 - speddup_acc: 0.0000e+00 - val_loss: 8.9736 - val_class_loss: 1.3212 - val_speddup_loss: 144622.7031 - val_class_acc: 0.6049 - val_speddup_acc: 0.0000e+00\n",
      "Epoch 497/500\n",
      "532/532 [==============================] - 3s 6ms/step - loss: 2.7768 - class_loss: 0.6075 - speddup_loss: 35113.4677 - class_acc: 0.7495 - speddup_acc: 0.0000e+00 - val_loss: 8.8160 - val_class_loss: 1.1673 - val_speddup_loss: 144621.0000 - val_class_acc: 0.5960 - val_speddup_acc: 0.0000e+00\n",
      "Epoch 498/500\n",
      "532/532 [==============================] - 3s 6ms/step - loss: 1.5606 - class_loss: 0.6328 - speddup_loss: 10355.0899 - class_acc: 0.7462 - speddup_acc: 0.0000e+00 - val_loss: 8.8915 - val_class_loss: 1.2420 - val_speddup_loss: 144615.5938 - val_class_acc: 0.5826 - val_speddup_acc: 0.0000e+00\n",
      "Epoch 499/500\n",
      "532/532 [==============================] - 3s 6ms/step - loss: 1.4797 - class_loss: 0.5880 - speddup_loss: 9524.2249 - class_acc: 0.7529 - speddup_acc: 0.0000e+00 - val_loss: 8.8703 - val_class_loss: 1.2154 - val_speddup_loss: 144599.1875 - val_class_acc: 0.5804 - val_speddup_acc: 0.0000e+00\n",
      "Epoch 500/500\n",
      "532/532 [==============================] - 3s 6ms/step - loss: 2.5249 - class_loss: 0.6205 - speddup_loss: 29772.0603 - class_acc: 0.7447 - speddup_acc: 0.0000e+00 - val_loss: 8.8354 - val_class_loss: 1.1748 - val_speddup_loss: 144618.7656 - val_class_acc: 0.5938 - val_speddup_acc: 0.0000e+00\n"
     ]
    },
    {
     "output_type": "display_data",
     "data": {
      "text/plain": "<Figure size 432x288 with 1 Axes>",
      "image/png": "[encoded data removed]"
     },
     "metadata": {
      "needs_background": "light"
     }
    }
   ],
   "source": [
    "# Train model\n",
    "fltr1 = A_train[:,0,:,:]\n",
    "fltr2 = A_train[:,1,:,:]\n",
    "\n",
    "history = model.fit([x_train[:,0,:,:],fltr1, x_train[:,1,:,:], fltr2],\n",
    "        [y_train[:,0:4],y_train[:,4]],\n",
    "          batch_size=batch_size,\n",
    "          validation_split=0.05,\n",
    "          epochs=epochs)\n",
    "\n",
    "plt.plot(np.array(history.history['class_acc']))\n",
    "plt.plot(np.array(history.history['val_class_acc']))\n",
    "plt.title('model accuracy')\n",
    "plt.ylabel('Acurácia')\n",
    "plt.xlabel('Época')\n",
    "plt.legend(['treino', 'val'], loc='upper left')\n",
    "plt.savefig(\"test.pdf\")"
   ]
  },
  {
   "cell_type": "code",
   "execution_count": 12,
   "metadata": {},
   "outputs": [
    {
     "output_type": "stream",
     "name": "stdout",
     "text": [
      "Evaluating model.\n",
      "63/63 [==============================] - 1s 4ms/step - loss: 6.8422 - class_loss: 1.5375 - speddup_loss: 97659.1641 - class_acc: 0.6024 - speddup_acc: 0.0000e+00\n",
      "Done. Test loss: 6.8422. Test acc: 1.54\n"
     ]
    }
   ],
   "source": [
    "# Evaluate model\n",
    "print('Evaluating model.')\n",
    "eval_results = model.evaluate([x_test[:,0,:,:], A_test[:,0,:,:], x_test[:,1,:,:], A_test[:,1,:,:]],\n",
    "        [y_test[:,0:4],y_test[:,4]],\n",
    "                              batch_size=batch_size)\n",
    "print('Done. Test loss: {:.4f}. Test acc: {:.2f}'.format(*eval_results))"
   ]
  },
  {
   "cell_type": "code",
   "execution_count": 13,
   "metadata": {},
   "outputs": [
    {
     "output_type": "stream",
     "name": "stdout",
     "text": [
      "Confusion matrix:\n",
      "[[347   2  95  24]\n",
      " [ 18   3  13   2]\n",
      " [111   4 142  32]\n",
      " [ 61   1  33 108]]\n"
     ]
    }
   ],
   "source": [
    "print(\"Confusion matrix:\")\n",
    "y_pred = model.predict([x_test[:,0,:,:], A_test[:,0,:,:], x_test[:,1,:,:], A_test[:,1,:,:]])\n",
    "y_pred = np.argmax(y_pred[0], axis=-1)\n",
    "y_test = np.argmax(y_test[:,0:4], axis=-1)\n",
    "\n",
    "cm=confusion_matrix(y_test,y_pred)\n",
    "print(cm)"
   ]
  },
  {
   "cell_type": "code",
   "execution_count": null,
   "metadata": {},
   "outputs": [],
   "source": []
  }
 ]
}