{
 "metadata": {
  "language_info": {
   "codemirror_mode": {
    "name": "ipython",
    "version": 3
   },
   "file_extension": ".py",
   "mimetype": "text/x-python",
   "name": "python",
   "nbconvert_exporter": "python",
   "pygments_lexer": "ipython3",
   "version": "3.8.5-final"
  },
  "orig_nbformat": 2,
  "kernelspec": {
   "name": "python3",
   "display_name": "Python 3",
   "language": "python"
  }
 },
 "nbformat": 4,
 "nbformat_minor": 2,
 "cells": [
  {
   "cell_type": "code",
   "execution_count": 18,
   "metadata": {},
   "outputs": [],
   "source": [
    "import gc\n",
    "import os\n",
    "import sys\n",
    "import yaml\n",
    "import glob\n",
    "import numpy as np\n",
    "import pickle\n",
    "import tensorflow as tf\n",
    "import random\n",
    "\n",
    "from matplotlib import pyplot as plt\n",
    "from sklearn.model_selection import train_test_split\n",
    "from sklearn.metrics import plot_confusion_matrix\n",
    "from sklearn.metrics import confusion_matrix\n",
    "from spektral.datasets import delaunay\n",
    "from spektral.layers import *\n",
    "from spektral.utils.convolution import localpooling_filter\n",
    "from tensorflow.keras.callbacks import EarlyStopping\n",
    "from tensorflow.keras.layers import Input, Dense, Concatenate, Dropout\n",
    "from tensorflow.keras.models import Model\n",
    "from tensorflow.keras.optimizers import Adam\n",
    "from tensorflow.keras.regularizers import l2\n",
    "from tqdm.contrib.concurrent import process_map, thread_map\n",
    "\n",
    "%matplotlib inline\n",
    "\n",
    "#tf.debugging.set_log_device_placement(True)"
   ]
  },
  {
   "source": [
    "# Extracting Representation from CCPE Data"
   ],
   "cell_type": "markdown",
   "metadata": {}
  },
  {
   "cell_type": "code",
   "execution_count": 4,
   "metadata": {},
   "outputs": [
    {
     "output_type": "stream",
     "name": "stdout",
     "text": [
      "Found 29990 files in ./data/ccpe-dados/cfg.llvm\n"
     ]
    }
   ],
   "source": [
    "data_directory = './data/ccpe-dados/cfg.llvm'\n",
    "files = glob.glob(f'{data_directory}/**/*.yaml', recursive=True)\n",
    "print(f\"Found {len(files)} files in {data_directory}\")"
   ]
  },
  {
   "cell_type": "code",
   "execution_count": 3,
   "metadata": {},
   "outputs": [
    {
     "output_type": "display_data",
     "data": {
      "text/plain": "Files read:   0%|          | 0/29990 [00:00<?, ?it/s]",
      "application/vnd.jupyter.widget-view+json": {
       "version_major": 2,
       "version_minor": 0,
       "model_id": "40fbddb0a55b4ef19abaab327f3b9068"
      }
     },
     "metadata": {}
    },
    {
     "output_type": "stream",
     "name": "stdout",
     "text": [
      "Read 29990 files\n"
     ]
    }
   ],
   "source": [
    "\"\"\"\n",
    "output_directory = './data/ccpe-dados/'\n",
    "output_file = os.path.join(output_directory, 'cfg.llvm_description.yaml')\n",
    "\n",
    "def get_number_of_nodes(filename: str) -> tuple:\n",
    "    with open(filename, 'rt') as f:\n",
    "        try:\n",
    "            x = yaml.safe_load(f)\n",
    "            return (filename, len(x['nodes']))\n",
    "        except yaml.YAMLError as e:\n",
    "            print(f\"Error with file {filename}: {e}\")\n",
    "            return (filename, 0)\n",
    "        except KeyError as e:\n",
    "            print(f\"Error with file {filename}. Key {e} does not exists\")\n",
    "            return (filename, 0)\n",
    "\n",
    "results = process_map(get_number_of_nodes, files, max_workers=4, desc='Files read')\n",
    "results = dict(results)\n",
    "print(f\"Read {len(results)} files\")\n",
    "\n",
    "\n",
    "with open(output_file, 'wt') as f:\n",
    "    yaml.dump(results, f)\n",
    "    print(f\"Results dumped to {output_file}\")\n",
    "\"\"\"\n",
    "    "
   ]
  },
  {
   "cell_type": "code",
   "execution_count": 14,
   "metadata": {},
   "outputs": [
    {
     "output_type": "stream",
     "name": "stdout",
     "text": [
      "Graph statistics from 29990 applications:\n    Min value: 2\n    Max value: 26127\n    Average: 742.42990996999\n    Stdev: 2327.2399841701613\n    Mean: 742.42990996999\n    25th percentile: 42.0\n    Median: 98.0\n    75th percentile: 460.0\n    95th percentile: 3635.199999999997\n\n"
     ]
    },
    {
     "output_type": "execute_result",
     "data": {
      "text/plain": [
       "(array([2.7191e+04, 1.0200e+03, 3.3900e+02, 3.4500e+02, 3.6500e+02,\n",
       "        1.3200e+02, 5.0000e+01, 3.1000e+01, 4.1000e+01, 4.2000e+01,\n",
       "        1.2200e+02, 8.6000e+01, 3.9000e+01, 6.8000e+01, 4.6000e+01,\n",
       "        3.1000e+01, 1.7000e+01, 1.3000e+01, 7.0000e+00, 5.0000e+00]),\n",
       " array([2.000000e+00, 1.308250e+03, 2.614500e+03, 3.920750e+03,\n",
       "        5.227000e+03, 6.533250e+03, 7.839500e+03, 9.145750e+03,\n",
       "        1.045200e+04, 1.175825e+04, 1.306450e+04, 1.437075e+04,\n",
       "        1.567700e+04, 1.698325e+04, 1.828950e+04, 1.959575e+04,\n",
       "        2.090200e+04, 2.220825e+04, 2.351450e+04, 2.482075e+04,\n",
       "        2.612700e+04]),\n",
       " <BarContainer object of 20 artists>)"
      ]
     },
     "metadata": {},
     "execution_count": 14
    },
    {
     "output_type": "display_data",
     "data": {
      "text/plain": "<Figure size 432x288 with 1 Axes>",
      "image/svg+xml": "<?xml version=\"1.0\" encoding=\"utf-8\" standalone=\"no\"?>\n<!DOCTYPE svg PUBLIC \"-//W3C//DTD SVG 1.1//EN\"\n  \"http://www.w3.org/Graphics/SVG/1.1/DTD/svg11.dtd\">\n<!-- Created with matplotlib (https://matplotlib.org/) -->\n<svg height=\"248.518125pt\" version=\"1.1\" viewBox=\"0 0 388.0125 248.518125\" width=\"388.0125pt\" xmlns=\"http://www.w3.org/2000/svg\" xmlns:xlink=\"http://www.w3.org/1999/xlink\">\n <metadata>\n  <rdf:RDF xmlns:cc=\"http://creativecommons.org/ns#\" xmlns:dc=\"http://purl.org/dc/elements/1.1/\" xmlns:rdf=\"http://www.w3.org/1999/02/22-rdf-syntax-ns#\">\n   <cc:Work>\n    <dc:type rdf:resource=\"http://purl.org/dc/dcmitype/StillImage\"/>\n    <dc:date>2021-03-16T15:33:13.900235</dc:date>\n    <dc:format>image/svg+xml</dc:format>\n    <dc:creator>\n     <cc:Agent>\n      <dc:title>Matplotlib v3.3.4, https://matplotlib.org/</dc:title>\n     </cc:Agent>\n    </dc:creator>\n   </cc:Work>\n  </rdf:RDF>\n </metadata>\n <defs>\n  <style type=\"text/css\">*{stroke-linecap:butt;stroke-linejoin:round;}</style>\n </defs>\n <g id=\"figure_1\">\n  <g id=\"patch_1\">\n   <path d=\"M 0 248.518125 \nL 388.0125 248.518125 \nL 388.0125 0 \nL 0 0 \nz\n\" style=\"fill:none;\"/>\n  </g>\n  <g id=\"axes_1\">\n   <g id=\"patch_2\">\n    <path d=\"M 46.0125 224.64 \nL 380.8125 224.64 \nL 380.8125 7.2 \nL 46.0125 7.2 \nz\n\" style=\"fill:#ffffff;\"/>\n   </g>\n   <g id=\"patch_3\">\n    <path clip-path=\"url(#p4cf1575a31)\" d=\"M 61.230682 224.64 \nL 76.448864 224.64 \nL 76.448864 17.554286 \nL 61.230682 17.554286 \nz\n\" style=\"fill:#1f77b4;\"/>\n   </g>\n   <g id=\"patch_4\">\n    <path clip-path=\"url(#p4cf1575a31)\" d=\"M 76.448864 224.64 \nL 91.667045 224.64 \nL 91.667045 216.871715 \nL 76.448864 216.871715 \nz\n\" style=\"fill:#1f77b4;\"/>\n   </g>\n   <g id=\"patch_5\">\n    <path clip-path=\"url(#p4cf1575a31)\" d=\"M 91.667045 224.64 \nL 106.885227 224.64 \nL 106.885227 222.058188 \nL 91.667045 222.058188 \nz\n\" style=\"fill:#1f77b4;\"/>\n   </g>\n   <g id=\"patch_6\">\n    <path clip-path=\"url(#p4cf1575a31)\" d=\"M 106.885227 224.64 \nL 122.103409 224.64 \nL 122.103409 222.012492 \nL 106.885227 222.012492 \nz\n\" style=\"fill:#1f77b4;\"/>\n   </g>\n   <g id=\"patch_7\">\n    <path clip-path=\"url(#p4cf1575a31)\" d=\"M 122.103409 224.64 \nL 137.321591 224.64 \nL 137.321591 221.860173 \nL 122.103409 221.860173 \nz\n\" style=\"fill:#1f77b4;\"/>\n   </g>\n   <g id=\"patch_8\">\n    <path clip-path=\"url(#p4cf1575a31)\" d=\"M 137.321591 224.64 \nL 152.539773 224.64 \nL 152.539773 223.634693 \nL 137.321591 223.634693 \nz\n\" style=\"fill:#1f77b4;\"/>\n   </g>\n   <g id=\"patch_9\">\n    <path clip-path=\"url(#p4cf1575a31)\" d=\"M 152.539773 224.64 \nL 167.757955 224.64 \nL 167.757955 224.259202 \nL 152.539773 224.259202 \nz\n\" style=\"fill:#1f77b4;\"/>\n   </g>\n   <g id=\"patch_10\">\n    <path clip-path=\"url(#p4cf1575a31)\" d=\"M 167.757955 224.64 \nL 182.976136 224.64 \nL 182.976136 224.403905 \nL 167.757955 224.403905 \nz\n\" style=\"fill:#1f77b4;\"/>\n   </g>\n   <g id=\"patch_11\">\n    <path clip-path=\"url(#p4cf1575a31)\" d=\"M 182.976136 224.64 \nL 198.194318 224.64 \nL 198.194318 224.327745 \nL 182.976136 224.327745 \nz\n\" style=\"fill:#1f77b4;\"/>\n   </g>\n   <g id=\"patch_12\">\n    <path clip-path=\"url(#p4cf1575a31)\" d=\"M 198.194318 224.64 \nL 213.4125 224.64 \nL 213.4125 224.320129 \nL 198.194318 224.320129 \nz\n\" style=\"fill:#1f77b4;\"/>\n   </g>\n   <g id=\"patch_13\">\n    <path clip-path=\"url(#p4cf1575a31)\" d=\"M 213.4125 224.64 \nL 228.630682 224.64 \nL 228.630682 223.710852 \nL 213.4125 223.710852 \nz\n\" style=\"fill:#1f77b4;\"/>\n   </g>\n   <g id=\"patch_14\">\n    <path clip-path=\"url(#p4cf1575a31)\" d=\"M 228.630682 224.64 \nL 243.848864 224.64 \nL 243.848864 223.985027 \nL 228.630682 223.985027 \nz\n\" style=\"fill:#1f77b4;\"/>\n   </g>\n   <g id=\"patch_15\">\n    <path clip-path=\"url(#p4cf1575a31)\" d=\"M 243.848864 224.64 \nL 259.067045 224.64 \nL 259.067045 224.342977 \nL 243.848864 224.342977 \nz\n\" style=\"fill:#1f77b4;\"/>\n   </g>\n   <g id=\"patch_16\">\n    <path clip-path=\"url(#p4cf1575a31)\" d=\"M 259.067045 224.64 \nL 274.285227 224.64 \nL 274.285227 224.122114 \nL 259.067045 224.122114 \nz\n\" style=\"fill:#1f77b4;\"/>\n   </g>\n   <g id=\"patch_17\">\n    <path clip-path=\"url(#p4cf1575a31)\" d=\"M 274.285227 224.64 \nL 289.503409 224.64 \nL 289.503409 224.289666 \nL 274.285227 224.289666 \nz\n\" style=\"fill:#1f77b4;\"/>\n   </g>\n   <g id=\"patch_18\">\n    <path clip-path=\"url(#p4cf1575a31)\" d=\"M 289.503409 224.64 \nL 304.721591 224.64 \nL 304.721591 224.403905 \nL 289.503409 224.403905 \nz\n\" style=\"fill:#1f77b4;\"/>\n   </g>\n   <g id=\"patch_19\">\n    <path clip-path=\"url(#p4cf1575a31)\" d=\"M 304.721591 224.64 \nL 319.939773 224.64 \nL 319.939773 224.510529 \nL 304.721591 224.510529 \nz\n\" style=\"fill:#1f77b4;\"/>\n   </g>\n   <g id=\"patch_20\">\n    <path clip-path=\"url(#p4cf1575a31)\" d=\"M 319.939773 224.64 \nL 335.157955 224.64 \nL 335.157955 224.540992 \nL 319.939773 224.540992 \nz\n\" style=\"fill:#1f77b4;\"/>\n   </g>\n   <g id=\"patch_21\">\n    <path clip-path=\"url(#p4cf1575a31)\" d=\"M 335.157955 224.64 \nL 350.376136 224.64 \nL 350.376136 224.586688 \nL 335.157955 224.586688 \nz\n\" style=\"fill:#1f77b4;\"/>\n   </g>\n   <g id=\"patch_22\">\n    <path clip-path=\"url(#p4cf1575a31)\" d=\"M 350.376136 224.64 \nL 365.594318 224.64 \nL 365.594318 224.60192 \nL 350.376136 224.60192 \nz\n\" style=\"fill:#1f77b4;\"/>\n   </g>\n   <g id=\"matplotlib.axis_1\">\n    <g id=\"xtick_1\">\n     <g id=\"line2d_1\">\n      <defs>\n       <path d=\"M 0 0 \nL 0 3.5 \n\" id=\"m59d9ba48b9\" style=\"stroke:#000000;stroke-width:0.8;\"/>\n      </defs>\n      <g>\n       <use style=\"stroke:#000000;stroke-width:0.8;\" x=\"61.207381\" xlink:href=\"#m59d9ba48b9\" y=\"224.64\"/>\n      </g>\n     </g>\n     <g id=\"text_1\">\n      <!-- 0 -->\n      <g transform=\"translate(58.026131 239.238437)scale(0.1 -0.1)\">\n       <defs>\n        <path d=\"M 31.78125 66.40625 \nQ 24.171875 66.40625 20.328125 58.90625 \nQ 16.5 51.421875 16.5 36.375 \nQ 16.5 21.390625 20.328125 13.890625 \nQ 24.171875 6.390625 31.78125 6.390625 \nQ 39.453125 6.390625 43.28125 13.890625 \nQ 47.125 21.390625 47.125 36.375 \nQ 47.125 51.421875 43.28125 58.90625 \nQ 39.453125 66.40625 31.78125 66.40625 \nz\nM 31.78125 74.21875 \nQ 44.046875 74.21875 50.515625 64.515625 \nQ 56.984375 54.828125 56.984375 36.375 \nQ 56.984375 17.96875 50.515625 8.265625 \nQ 44.046875 -1.421875 31.78125 -1.421875 \nQ 19.53125 -1.421875 13.0625 8.265625 \nQ 6.59375 17.96875 6.59375 36.375 \nQ 6.59375 54.828125 13.0625 64.515625 \nQ 19.53125 74.21875 31.78125 74.21875 \nz\n\" id=\"DejaVuSans-48\"/>\n       </defs>\n       <use xlink:href=\"#DejaVuSans-48\"/>\n      </g>\n     </g>\n    </g>\n    <g id=\"xtick_2\">\n     <g id=\"line2d_2\">\n      <g>\n       <use style=\"stroke:#000000;stroke-width:0.8;\" x=\"119.458795\" xlink:href=\"#m59d9ba48b9\" y=\"224.64\"/>\n      </g>\n     </g>\n     <g id=\"text_2\">\n      <!-- 5000 -->\n      <g transform=\"translate(106.733795 239.238437)scale(0.1 -0.1)\">\n       <defs>\n        <path d=\"M 10.796875 72.90625 \nL 49.515625 72.90625 \nL 49.515625 64.59375 \nL 19.828125 64.59375 \nL 19.828125 46.734375 \nQ 21.96875 47.46875 24.109375 47.828125 \nQ 26.265625 48.1875 28.421875 48.1875 \nQ 40.625 48.1875 47.75 41.5 \nQ 54.890625 34.8125 54.890625 23.390625 \nQ 54.890625 11.625 47.5625 5.09375 \nQ 40.234375 -1.421875 26.90625 -1.421875 \nQ 22.3125 -1.421875 17.546875 -0.640625 \nQ 12.796875 0.140625 7.71875 1.703125 \nL 7.71875 11.625 \nQ 12.109375 9.234375 16.796875 8.0625 \nQ 21.484375 6.890625 26.703125 6.890625 \nQ 35.15625 6.890625 40.078125 11.328125 \nQ 45.015625 15.765625 45.015625 23.390625 \nQ 45.015625 31 40.078125 35.4375 \nQ 35.15625 39.890625 26.703125 39.890625 \nQ 22.75 39.890625 18.8125 39.015625 \nQ 14.890625 38.140625 10.796875 36.28125 \nz\n\" id=\"DejaVuSans-53\"/>\n       </defs>\n       <use xlink:href=\"#DejaVuSans-53\"/>\n       <use x=\"63.623047\" xlink:href=\"#DejaVuSans-48\"/>\n       <use x=\"127.246094\" xlink:href=\"#DejaVuSans-48\"/>\n       <use x=\"190.869141\" xlink:href=\"#DejaVuSans-48\"/>\n      </g>\n     </g>\n    </g>\n    <g id=\"xtick_3\">\n     <g id=\"line2d_3\">\n      <g>\n       <use style=\"stroke:#000000;stroke-width:0.8;\" x=\"177.710209\" xlink:href=\"#m59d9ba48b9\" y=\"224.64\"/>\n      </g>\n     </g>\n     <g id=\"text_3\">\n      <!-- 10000 -->\n      <g transform=\"translate(161.803959 239.238437)scale(0.1 -0.1)\">\n       <defs>\n        <path d=\"M 12.40625 8.296875 \nL 28.515625 8.296875 \nL 28.515625 63.921875 \nL 10.984375 60.40625 \nL 10.984375 69.390625 \nL 28.421875 72.90625 \nL 38.28125 72.90625 \nL 38.28125 8.296875 \nL 54.390625 8.296875 \nL 54.390625 0 \nL 12.40625 0 \nz\n\" id=\"DejaVuSans-49\"/>\n       </defs>\n       <use xlink:href=\"#DejaVuSans-49\"/>\n       <use x=\"63.623047\" xlink:href=\"#DejaVuSans-48\"/>\n       <use x=\"127.246094\" xlink:href=\"#DejaVuSans-48\"/>\n       <use x=\"190.869141\" xlink:href=\"#DejaVuSans-48\"/>\n       <use x=\"254.492188\" xlink:href=\"#DejaVuSans-48\"/>\n      </g>\n     </g>\n    </g>\n    <g id=\"xtick_4\">\n     <g id=\"line2d_4\">\n      <g>\n       <use style=\"stroke:#000000;stroke-width:0.8;\" x=\"235.961622\" xlink:href=\"#m59d9ba48b9\" y=\"224.64\"/>\n      </g>\n     </g>\n     <g id=\"text_4\">\n      <!-- 15000 -->\n      <g transform=\"translate(220.055372 239.238437)scale(0.1 -0.1)\">\n       <use xlink:href=\"#DejaVuSans-49\"/>\n       <use x=\"63.623047\" xlink:href=\"#DejaVuSans-53\"/>\n       <use x=\"127.246094\" xlink:href=\"#DejaVuSans-48\"/>\n       <use x=\"190.869141\" xlink:href=\"#DejaVuSans-48\"/>\n       <use x=\"254.492188\" xlink:href=\"#DejaVuSans-48\"/>\n      </g>\n     </g>\n    </g>\n    <g id=\"xtick_5\">\n     <g id=\"line2d_5\">\n      <g>\n       <use style=\"stroke:#000000;stroke-width:0.8;\" x=\"294.213036\" xlink:href=\"#m59d9ba48b9\" y=\"224.64\"/>\n      </g>\n     </g>\n     <g id=\"text_5\">\n      <!-- 20000 -->\n      <g transform=\"translate(278.306786 239.238437)scale(0.1 -0.1)\">\n       <defs>\n        <path d=\"M 19.1875 8.296875 \nL 53.609375 8.296875 \nL 53.609375 0 \nL 7.328125 0 \nL 7.328125 8.296875 \nQ 12.9375 14.109375 22.625 23.890625 \nQ 32.328125 33.6875 34.8125 36.53125 \nQ 39.546875 41.84375 41.421875 45.53125 \nQ 43.3125 49.21875 43.3125 52.78125 \nQ 43.3125 58.59375 39.234375 62.25 \nQ 35.15625 65.921875 28.609375 65.921875 \nQ 23.96875 65.921875 18.8125 64.3125 \nQ 13.671875 62.703125 7.8125 59.421875 \nL 7.8125 69.390625 \nQ 13.765625 71.78125 18.9375 73 \nQ 24.125 74.21875 28.421875 74.21875 \nQ 39.75 74.21875 46.484375 68.546875 \nQ 53.21875 62.890625 53.21875 53.421875 \nQ 53.21875 48.921875 51.53125 44.890625 \nQ 49.859375 40.875 45.40625 35.40625 \nQ 44.1875 33.984375 37.640625 27.21875 \nQ 31.109375 20.453125 19.1875 8.296875 \nz\n\" id=\"DejaVuSans-50\"/>\n       </defs>\n       <use xlink:href=\"#DejaVuSans-50\"/>\n       <use x=\"63.623047\" xlink:href=\"#DejaVuSans-48\"/>\n       <use x=\"127.246094\" xlink:href=\"#DejaVuSans-48\"/>\n       <use x=\"190.869141\" xlink:href=\"#DejaVuSans-48\"/>\n       <use x=\"254.492188\" xlink:href=\"#DejaVuSans-48\"/>\n      </g>\n     </g>\n    </g>\n    <g id=\"xtick_6\">\n     <g id=\"line2d_6\">\n      <g>\n       <use style=\"stroke:#000000;stroke-width:0.8;\" x=\"352.46445\" xlink:href=\"#m59d9ba48b9\" y=\"224.64\"/>\n      </g>\n     </g>\n     <g id=\"text_6\">\n      <!-- 25000 -->\n      <g transform=\"translate(336.5582 239.238437)scale(0.1 -0.1)\">\n       <use xlink:href=\"#DejaVuSans-50\"/>\n       <use x=\"63.623047\" xlink:href=\"#DejaVuSans-53\"/>\n       <use x=\"127.246094\" xlink:href=\"#DejaVuSans-48\"/>\n       <use x=\"190.869141\" xlink:href=\"#DejaVuSans-48\"/>\n       <use x=\"254.492188\" xlink:href=\"#DejaVuSans-48\"/>\n      </g>\n     </g>\n    </g>\n   </g>\n   <g id=\"matplotlib.axis_2\">\n    <g id=\"ytick_1\">\n     <g id=\"line2d_7\">\n      <defs>\n       <path d=\"M 0 0 \nL -3.5 0 \n\" id=\"mce7ca8cdb7\" style=\"stroke:#000000;stroke-width:0.8;\"/>\n      </defs>\n      <g>\n       <use style=\"stroke:#000000;stroke-width:0.8;\" x=\"46.0125\" xlink:href=\"#mce7ca8cdb7\" y=\"224.64\"/>\n      </g>\n     </g>\n     <g id=\"text_7\">\n      <!-- 0 -->\n      <g transform=\"translate(32.65 228.439219)scale(0.1 -0.1)\">\n       <use xlink:href=\"#DejaVuSans-48\"/>\n      </g>\n     </g>\n    </g>\n    <g id=\"ytick_2\">\n     <g id=\"line2d_8\">\n      <g>\n       <use style=\"stroke:#000000;stroke-width:0.8;\" x=\"46.0125\" xlink:href=\"#mce7ca8cdb7\" y=\"186.560173\"/>\n      </g>\n     </g>\n     <g id=\"text_8\">\n      <!-- 5000 -->\n      <g transform=\"translate(13.5625 190.359392)scale(0.1 -0.1)\">\n       <use xlink:href=\"#DejaVuSans-53\"/>\n       <use x=\"63.623047\" xlink:href=\"#DejaVuSans-48\"/>\n       <use x=\"127.246094\" xlink:href=\"#DejaVuSans-48\"/>\n       <use x=\"190.869141\" xlink:href=\"#DejaVuSans-48\"/>\n      </g>\n     </g>\n    </g>\n    <g id=\"ytick_3\">\n     <g id=\"line2d_9\">\n      <g>\n       <use style=\"stroke:#000000;stroke-width:0.8;\" x=\"46.0125\" xlink:href=\"#mce7ca8cdb7\" y=\"148.480346\"/>\n      </g>\n     </g>\n     <g id=\"text_9\">\n      <!-- 10000 -->\n      <g transform=\"translate(7.2 152.279565)scale(0.1 -0.1)\">\n       <use xlink:href=\"#DejaVuSans-49\"/>\n       <use x=\"63.623047\" xlink:href=\"#DejaVuSans-48\"/>\n       <use x=\"127.246094\" xlink:href=\"#DejaVuSans-48\"/>\n       <use x=\"190.869141\" xlink:href=\"#DejaVuSans-48\"/>\n       <use x=\"254.492188\" xlink:href=\"#DejaVuSans-48\"/>\n      </g>\n     </g>\n    </g>\n    <g id=\"ytick_4\">\n     <g id=\"line2d_10\">\n      <g>\n       <use style=\"stroke:#000000;stroke-width:0.8;\" x=\"46.0125\" xlink:href=\"#mce7ca8cdb7\" y=\"110.400519\"/>\n      </g>\n     </g>\n     <g id=\"text_10\">\n      <!-- 15000 -->\n      <g transform=\"translate(7.2 114.199738)scale(0.1 -0.1)\">\n       <use xlink:href=\"#DejaVuSans-49\"/>\n       <use x=\"63.623047\" xlink:href=\"#DejaVuSans-53\"/>\n       <use x=\"127.246094\" xlink:href=\"#DejaVuSans-48\"/>\n       <use x=\"190.869141\" xlink:href=\"#DejaVuSans-48\"/>\n       <use x=\"254.492188\" xlink:href=\"#DejaVuSans-48\"/>\n      </g>\n     </g>\n    </g>\n    <g id=\"ytick_5\">\n     <g id=\"line2d_11\">\n      <g>\n       <use style=\"stroke:#000000;stroke-width:0.8;\" x=\"46.0125\" xlink:href=\"#mce7ca8cdb7\" y=\"72.320693\"/>\n      </g>\n     </g>\n     <g id=\"text_11\">\n      <!-- 20000 -->\n      <g transform=\"translate(7.2 76.119911)scale(0.1 -0.1)\">\n       <use xlink:href=\"#DejaVuSans-50\"/>\n       <use x=\"63.623047\" xlink:href=\"#DejaVuSans-48\"/>\n       <use x=\"127.246094\" xlink:href=\"#DejaVuSans-48\"/>\n       <use x=\"190.869141\" xlink:href=\"#DejaVuSans-48\"/>\n       <use x=\"254.492188\" xlink:href=\"#DejaVuSans-48\"/>\n      </g>\n     </g>\n    </g>\n    <g id=\"ytick_6\">\n     <g id=\"line2d_12\">\n      <g>\n       <use style=\"stroke:#000000;stroke-width:0.8;\" x=\"46.0125\" xlink:href=\"#mce7ca8cdb7\" y=\"34.240866\"/>\n      </g>\n     </g>\n     <g id=\"text_12\">\n      <!-- 25000 -->\n      <g transform=\"translate(7.2 38.040085)scale(0.1 -0.1)\">\n       <use xlink:href=\"#DejaVuSans-50\"/>\n       <use x=\"63.623047\" xlink:href=\"#DejaVuSans-53\"/>\n       <use x=\"127.246094\" xlink:href=\"#DejaVuSans-48\"/>\n       <use x=\"190.869141\" xlink:href=\"#DejaVuSans-48\"/>\n       <use x=\"254.492188\" xlink:href=\"#DejaVuSans-48\"/>\n      </g>\n     </g>\n    </g>\n   </g>\n   <g id=\"patch_23\">\n    <path d=\"M 46.0125 224.64 \nL 46.0125 7.2 \n\" style=\"fill:none;stroke:#000000;stroke-linecap:square;stroke-linejoin:miter;stroke-width:0.8;\"/>\n   </g>\n   <g id=\"patch_24\">\n    <path d=\"M 380.8125 224.64 \nL 380.8125 7.2 \n\" style=\"fill:none;stroke:#000000;stroke-linecap:square;stroke-linejoin:miter;stroke-width:0.8;\"/>\n   </g>\n   <g id=\"patch_25\">\n    <path d=\"M 46.0125 224.64 \nL 380.8125 224.64 \n\" style=\"fill:none;stroke:#000000;stroke-linecap:square;stroke-linejoin:miter;stroke-width:0.8;\"/>\n   </g>\n   <g id=\"patch_26\">\n    <path d=\"M 46.0125 7.2 \nL 380.8125 7.2 \n\" style=\"fill:none;stroke:#000000;stroke-linecap:square;stroke-linejoin:miter;stroke-width:0.8;\"/>\n   </g>\n  </g>\n </g>\n <defs>\n  <clipPath id=\"p4cf1575a31\">\n   <rect height=\"217.44\" width=\"334.8\" x=\"46.0125\" y=\"7.2\"/>\n  </clipPath>\n </defs>\n</svg>\n",
      "image/png": "[encoded data removed]"
     },
     "metadata": {
      "needs_background": "light"
     }
    }
   ],
   "source": [
    "graph_shapes_file = './data/ccpe-dados/cfg.llvm_description.yaml'\n",
    "\n",
    "with open(output_file, 'rt') as f:\n",
    "    graph_shapes = yaml.safe_load(f)\n",
    "\n",
    "graphs_nodes_num = sorted([number_of_nodes for benchmark_name, number_of_nodes in graph_shapes.items()])\n",
    "print(f\"\"\"Graph statistics from {len(graphs_nodes_num)} applications:\n",
    "    Min value: {min(graphs_nodes_num)}\n",
    "    Max value: {max(graphs_nodes_num)}\n",
    "    Average: {np.average(graphs_nodes_num)}\n",
    "    Stdev: {np.std(graphs_nodes_num)}\n",
    "    Mean: {np.mean(graphs_nodes_num)}\n",
    "    25th percentile: {np.percentile(graphs_nodes_num, 25)}\n",
    "    Median: {np.median(graphs_nodes_num)}\n",
    "    75th percentile: {np.percentile(graphs_nodes_num, 75)}\n",
    "    95th percentile: {np.percentile(graphs_nodes_num, 95)}\n",
    "\"\"\")\n",
    "plt.hist(graphs_nodes_num, 20)\n"
   ]
  },
  {
   "cell_type": "code",
   "execution_count": 25,
   "metadata": {},
   "outputs": [
    {
     "output_type": "stream",
     "name": "stdout",
     "text": [
      "Number of graphs with adjacency matrix below shape (150, 150): 17853 (59.5298432810937%)\n"
     ]
    }
   ],
   "source": [
    "network_input_graph_shape = (150, 150)\n",
    "network_input_features_shape = (100, 67)\n",
    "\n",
    "\n",
    "#def resize(matrix: np.array, target_shape: tuple) -> np.array:\n",
    "#    assert matrix.shape[0] <= target_shape[0] and matrix.shape[1] <= target_shape[1], f\"Matrix shape (shape={matrix.shape}) is higher than target shape (shape={target_shape})\"\n",
    "#\n",
    "#    z = np.zeros(target_shape)\n",
    "#    z[:matrix.shape[0], :matrix.shape[1]] = matrix\n",
    "#    return z\n",
    "\n",
    "graph_shapes_filtered = dict(filter(lambda element: element[1] <= network_input_graph_shape[0], graph_shapes.items()))\n",
    "print(f\"Number of graphs with adjacency matrix below shape {network_input_graph_shape}: {len(graph_shapes_filtered)} ({len(graph_shapes_filtered)/len(graph_shapes)*100}%)\")\n"
   ]
  },
  {
   "cell_type": "code",
   "execution_count": 37,
   "metadata": {},
   "outputs": [
    {
     "output_type": "stream",
     "name": "stdout",
     "text": [
      "Selected 10 as training samples\n",
      "Selected 2 as validation samples\n",
      "Selected 2 as test samples\n",
      "--------\n",
      "Loaded 10 graphs as training samples.\n",
      "Loaded 2 graphs as validation samples.\n",
      "Loaded 2 graphs as test samples.\n",
      "--------\n",
      "Train graphs input shape=(5, 2, 150, 150)\n",
      "Validation graphs input shape=(1, 2, 150, 150)\n",
      "Test graphs input shape=(1, 2, 150, 150)\n"
     ]
    }
   ],
   "source": [
    "no_train_samples = 10\n",
    "no_validation_samples = 2\n",
    "no_test_samples = 2\n",
    "\n",
    "train_graph_files = random.sample(list(graph_shapes_filtered), no_train_samples)\n",
    "print(f\"Selected {len(train_graph_files)} as training samples\")\n",
    "validation_graph_files = random.sample(list(graph_shapes_filtered), no_validation_samples)\n",
    "print(f\"Selected {len(validation_graph_files)} as validation samples\")\n",
    "test_graph_files = random.sample(list(graph_shapes_filtered), no_test_samples)\n",
    "print(f\"Selected {len(test_graph_files)} as test samples\")\n",
    "print('--------')\n",
    "\n",
    "def load_graph_from_file(filename: str, target_shape: tuple) -> np.matrix:\n",
    "    with open(filename, 'rt') as f:\n",
    "        x = yaml.safe_load(f)\n",
    "    \n",
    "    graph = np.zeros(target_shape)\n",
    "    for node, nodes_list in x['nodes'].items():\n",
    "        for n in nodes_list:\n",
    "            graph[node][n] = 1\n",
    "    return graph\n",
    "\n",
    "train_graphs = np.array([load_graph_from_file(filename, network_input_graph_shape) for filename in train_graph_files])\n",
    "print(f\"Loaded {len(train_graphs)} graphs as training samples.\")\n",
    "validation_graphs = np.array([load_graph_from_file(filename, network_input_graph_shape) for filename in validation_graph_files])\n",
    "print(f\"Loaded {len(validation_graphs)} graphs as validation samples.\")\n",
    "test_graphs = np.array([load_graph_from_file(filename, network_input_graph_shape) for filename in test_graph_files])\n",
    "print(f\"Loaded {len(test_graphs)} graphs as test samples.\")\n",
    "print('--------')\n",
    "\n",
    "train_graphs = train_graphs.reshape((no_train_samples//2, 2, network_input_graph_shape[0], network_input_graph_shape[1]))\n",
    "print(f\"Train graphs input shape={train_graphs.shape}\")\n",
    "validation_graphs = validation_graphs.reshape((no_validation_samples//2, 2, network_input_graph_shape[0], network_input_graph_shape[1]))\n",
    "print(f\"Validation graphs input shape={validation_graphs.shape}\")\n",
    "test_graphs = test_graphs.reshape((no_test_samples//2, 2, network_input_graph_shape[0], network_input_graph_shape[1]))\n",
    "print(f\"Test graphs input shape={test_graphs.shape}\")\n"
   ]
  },
  {
   "cell_type": "code",
   "execution_count": null,
   "metadata": {},
   "outputs": [],
   "source": [
    "# Load Features\n",
    "# ..."
   ]
  },
  {
   "cell_type": "code",
   "execution_count": null,
   "metadata": {},
   "outputs": [],
   "source": [
    "# Defining some parameters for training\n",
    "N = train_graphs.shape[-2]      # Number of nodes in the graphs\n",
    "#F = features.shape[-1]          # Original feature dimensionality\n",
    "#n_classes = y_c.shape[-1]-1     # Number of classes\n",
    "epochs = 500                    # Number of training epochs\n",
    "batch_size = 16                 # Batch size\n",
    "learning_rate = 1e-2            # Learning rate"
   ]
  },
  {
   "cell_type": "code",
   "execution_count": null,
   "metadata": {},
   "outputs": [],
   "source": [
    "# Model definition\n",
    "conv   = GraphConv(45,activation='relu',use_bias=False)\n",
    "mincut = MinCutPool(N // 2)\n",
    "conv2  = GraphConv(55,activation='relu',use_bias=False)\n",
    "pool   = GlobalAttnSumPool()\n",
    "\n",
    "# First Graph Layers\n",
    "X1_in = Input(shape=(N, F))\n",
    "A1_in = Input((N, N))\n",
    "gc2_1 = conv([X1_in, A1_in])\n",
    "gc2_1, A1 = mincut([gc2_1,A1_in])\n",
    "gc2_1 = conv2([gc2_1, A1])\n",
    "pool_1 =  pool(gc2_1)\n",
    "d1 = Dense(200,activation='relu')(pool_1)\n",
    "\n",
    "# Second Graph Layers\n",
    "X2_in = Input(shape=(N, F))\n",
    "A2_in = Input((N, N))\n",
    "gc2_2 = conv([X2_in, A2_in]) # Notice that both graphs shares layers (shared weights)\n",
    "gc2_2, A2 = mincut([gc2_2,A2_in])\n",
    "gc2_2 = conv2([gc2_2, A2])\n",
    "pool_2 = pool(gc2_2)\n",
    "d2 = Dense(200,activation='relu')(pool_2)\n",
    "\n",
    "# Dense final layers\n",
    "merged = Concatenate()([d1, d2])\n",
    "\n",
    "merged1 = Dense(800,activation='relu')(merged)\n",
    "merged2 = Dense(32,activation='relu')(merged1)\n",
    "\n",
    "classe = Dense(n_classes, name=\"class\",activation=\"softmax\")(merged2)\n",
    "speedup = Dense(1, name=\"speddup\")(merged2)\n",
    "\n",
    "# Build model\n",
    "model = Model(inputs=[X1_in, A1_in,X2_in, A2_in], outputs=[classe,speedup])\n",
    "optimizer = Adam(lr=learning_rate)\n",
    "model.compile(optimizer=optimizer, loss=['categorical_crossentropy', 'mse'],loss_weights=[1, 0.00005], weighted_metrics=['acc'])\n",
    "model.summary()"
   ]
  },
  {
   "cell_type": "code",
   "execution_count": null,
   "metadata": {},
   "outputs": [],
   "source": [
    "# Train model\n",
    "fltr1 = A_train[:,0,:,:]\n",
    "fltr2 = A_train[:,1,:,:]\n",
    "\n",
    "history = model.fit([x_train[:,0,:,:],fltr1, x_train[:,1,:,:], fltr2],\n",
    "        [y_train[:,0:4],y_train[:,4]],\n",
    "          batch_size=batch_size,\n",
    "          validation_split=0.05,\n",
    "          epochs=epochs)\n",
    "\n",
    "plt.plot(np.array(history.history['class_acc']))\n",
    "plt.plot(np.array(history.history['val_class_acc']))\n",
    "plt.title('model accuracy')\n",
    "plt.ylabel('Acurácia')\n",
    "plt.xlabel('Época')\n",
    "plt.legend(['treino', 'val'], loc='upper left')\n",
    "plt.savefig(\"test.pdf\")"
   ]
  },
  {
   "cell_type": "code",
   "execution_count": null,
   "metadata": {},
   "outputs": [],
   "source": [
    "# Evaluate model\n",
    "print('Evaluating model.')\n",
    "eval_results = model.evaluate([x_test[:,0,:,:], A_test[:,0,:,:], x_test[:,1,:,:], A_test[:,1,:,:]],\n",
    "        [y_test[:,0:4],y_test[:,4]],\n",
    "                              batch_size=batch_size)\n",
    "print('Done. Test loss: {:.4f}. Test acc: {:.2f}'.format(*eval_results))\n",
    "\n",
    "print(\"Confusion matrix:\")\n",
    "y_pred = model.predict([x_test[:,0,:,:], A_test[:,0,:,:], x_test[:,1,:,:], A_test[:,1,:,:]])\n",
    "y_pred = np.argmax(y_pred[0], axis=-1)\n",
    "y_test = np.argmax(y_test[:,0:4], axis=-1)\n",
    "\n",
    "cm=confusion_matrix(y_test,y_pred)\n",
    "print(cm)"
   ]
  }
 ]
}