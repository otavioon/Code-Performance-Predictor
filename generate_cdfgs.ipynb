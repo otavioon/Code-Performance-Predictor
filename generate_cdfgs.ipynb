{
 "cells": [
  {
   "cell_type": "markdown",
   "id": "institutional-relay",
   "metadata": {},
   "source": [
    "# Generate CFG Input Representation"
   ]
  },
  {
   "cell_type": "code",
   "execution_count": 1,
   "id": "approved-assessment",
   "metadata": {},
   "outputs": [],
   "source": [
    "import gc\n",
    "import os\n",
    "import sys\n",
    "import yaml\n",
    "import glob\n",
    "import numpy as np\n",
    "import pickle\n",
    "import tensorflow as tf\n",
    "import random\n",
    "import tqdm\n",
    "import numpy as np\n",
    "\n",
    "from collections import defaultdict\n",
    "\n",
    "from matplotlib import pyplot as plt\n",
    "from sklearn.model_selection import train_test_split\n",
    "from sklearn.metrics import plot_confusion_matrix\n",
    "from sklearn.metrics import confusion_matrix\n",
    "from spektral.datasets import delaunay\n",
    "from spektral.layers import *\n",
    "from spektral.utils.convolution import localpooling_filter\n",
    "from tensorflow.keras.callbacks import EarlyStopping\n",
    "from tensorflow.keras.layers import Input, Dense, Concatenate, Dropout\n",
    "from tensorflow.keras.models import Model\n",
    "from tensorflow.keras.optimizers import Adam\n",
    "from tensorflow.keras.regularizers import l2\n",
    "from tqdm.contrib.concurrent import process_map, thread_map\n",
    "\n",
    "from utils import yaml_load, get_section\n",
    "\n",
    "%matplotlib inline"
   ]
  },
  {
   "cell_type": "code",
   "execution_count": 2,
   "id": "strong-ebony",
   "metadata": {},
   "outputs": [],
   "source": [
    "def filter_cdfgs_files_below_shape(metadata_dict, max_shape):\n",
    "    # Lets filter CFG files whose number of nodes is less than max_shape\n",
    "    filtered_graph_files = {\n",
    "        benchmark_name: {\n",
    "            opt_seq: opt_values \n",
    "            for opt_seq, opt_values in values.items() if opt_values['number_cdfg_nodes'] < max_shape[0]\n",
    "        } for benchmark_name, values in metadata_dict.items()\n",
    "    }\n",
    "\n",
    "    # Remove applications that has less than 2 graphs with less than network_input_graph_shape\n",
    "    filtered_graph_files = {benchmark_name: values for benchmark_name, values in filtered_graph_files.items() if len(values) > 2}\n",
    "    print(f\"Number of graphs with adjacency matrix below shape {max_shape}: {sum([len(values) for _, values in filtered_graph_files.items()])}\")\n",
    "    return filtered_graph_files\n",
    "\n",
    "def sample_cdfgs(metadata_dict, num_samples):\n",
    "    samples = []\n",
    "    for s in random.choices(list(metadata_dict.keys()), k=num_samples):\n",
    "        opt_seq1, opt_seq2 = random.sample(list(metadata_dict[s].keys()), 2)\n",
    "        t = (\n",
    "            metadata_dict[s][opt_seq1]['cdfg_file'], \n",
    "            metadata_dict[s][opt_seq2]['cdfg_file'],\n",
    "            metadata_dict[s][opt_seq1]['exectime']/metadata_dict[s][opt_seq2]['exectime']\n",
    "        )\n",
    "        samples.append(t)\n",
    "\n",
    "    print(f\"Sampled {len(samples)} CDFGs\")\n",
    "    print(f\"First sample of {len(samples)} samples (example of output): {samples[0]}\")\n",
    "    return samples"
   ]
  },
  {
   "cell_type": "code",
   "execution_count": 3,
   "id": "armed-michigan",
   "metadata": {},
   "outputs": [],
   "source": [
    "# Load the graph and features from file\n",
    "no_total_features = 0\n",
    "no_total_invalid_features = 0\n",
    "\n",
    "def load_graph_from_file(filename: str) -> tuple:\n",
    "    x = yaml_load(filename)\n",
    "    return x['edges'], x['edges_features'], x['nodes_features']\n",
    "\n",
    "def generate_graph_matrix(network_shape, features_shape, edges, edge_features, node_features, representation, embeddings_dict: dict) -> tuple:\n",
    "    global no_total_features, no_total_invalid_features\n",
    "    valid_edges = {\n",
    "        0: 'control' in representation,\n",
    "        1: 'data' in representation,\n",
    "        2: 'call' in representation\n",
    "    }\n",
    "    \n",
    "    # print(f'Valid edges: {valid_edges}')\n",
    "    \n",
    "    adj_matrix = np.full((network_shape), False, dtype='bool')\n",
    "    feature_matrix = np.zeros((features_shape), dtype='float32')\n",
    "    \n",
    "    for edge_no, edge in edges.items():\n",
    "        edge_type = edge_features[edge_no][0]\n",
    "        if valid_edges[edge_type] == True:\n",
    "            adj_matrix[edge[0]][edge[1]] = True\n",
    "    \n",
    "    non_zero_nodes = {node_no: is_not_zero_row for node_no, is_not_zero_row in enumerate(adj_matrix.any(axis=1))}\n",
    "    \n",
    "    for node_no, feature_no in node_features.items():\n",
    "        if non_zero_nodes[node_no] == True:\n",
    "            feature_no = feature_no[0]\n",
    "            feature_matrix[node_no] = embeddings_dict[feature_no]\n",
    "            if feature_no == 8564:\n",
    "                no_total_invalid_features += 1\n",
    "        no_total_features += 1\n",
    "        \n",
    "    # print(adj_matrix)\n",
    "    # print(feature_matrix)\n",
    "    return adj_matrix, feature_matrix  \n",
    "    \n",
    "\n",
    "def load_sample_file(sample_tuple: tuple, network_shape: tuple, features_shape: tuple, representation_to_generate: tuple, embeddings_dict: dict) -> tuple:\n",
    "    # print(f'Loading first file: {sample_tuple[0]}')\n",
    "    edges_1, edge_feat_1, feat_1 = load_graph_from_file(sample_tuple[0])\n",
    "    # print(f'Loading second file: {sample_tuple[1]}')\n",
    "    edges_2, edge_feat_2, feat_2 = load_graph_from_file(sample_tuple[1])\n",
    "    \n",
    "    graph1, features1 = generate_graph_matrix(\n",
    "        network_shape, features_shape, edges_1, edge_feat_1, \n",
    "        feat_1, representation_to_generate, embeddings_dict)\n",
    "    graph2, features2 = generate_graph_matrix(\n",
    "        network_shape, features_shape, edges_2, edge_feat_2, \n",
    "        feat_2, representation_to_generate, embeddings_dict)\n",
    "    \n",
    "    graphs = np.zeros((2, network_shape[0], network_shape[1]), dtype='bool')\n",
    "    graphs[0] = graph1\n",
    "    graphs[1] = graph2\n",
    "\n",
    "    features = np.zeros((2, features_shape[0], features_shape[1]), dtype='float32')\n",
    "    features[0] = features1\n",
    "    features[1] = features2\n",
    "    \n",
    "    speedup_array = np.array([sample_tuple[2]], dtype='float32')\n",
    "\n",
    "    # Returns:\n",
    "    # * A matrix with 2 graphs with shape: (2, network_input_graph_shape[0], network_input_graph_shape[1])\n",
    "    # * A matrix with 2 features with shape: (2, network_input_features_shape[0], network_input_features_shape[1])\n",
    "    # * A float with speedup of CFG1/CFG2\n",
    "    return graphs, features, speedup_array\n",
    "\n",
    "\n",
    "def generate_samples(samples: list, network_shape: tuple, feature_shape: tuple, representation: tuple, embeddings_dict: dict, desc: str = 'Samples generated'):\n",
    "    global no_total_features, no_total_invalid_features\n",
    "    no_total_features = 0\n",
    "    no_total_invalid_features = 0\n",
    "    for rep in representation:\n",
    "        assert rep in ['control', 'data', 'call'], f\"Invalid representation {rep}\"\n",
    "    \n",
    "    input_graphs = np.empty((len(samples), 2, network_shape[0], network_shape[1]), dtype='bool')\n",
    "    input_features = np.empty((len(samples), 2, feature_shape[0], feature_shape[1]), dtype='float32')\n",
    "    speedups = np.empty((len(samples), 1), dtype='float32')\n",
    "\n",
    "    # Some counters\n",
    "    i = 0\n",
    "    equal_graphs = 0\n",
    "    \n",
    "    # Load each sample and store in input_graphs, input_features and speedups\n",
    "    for sample in tqdm.tqdm(samples, desc=desc):\n",
    "        # This function return a list of tuples, where each tuple is composed by:\n",
    "        # np.array with 2 graphs, np.array with 2 features, speedup\n",
    "        graphs, features, speedup = load_sample_file(sample, network_shape, feature_shape, representation, embeddings_dict)           \n",
    "        input_graphs[i] = graphs\n",
    "        input_features[i] = features\n",
    "        speedups[i] = speedup\n",
    "        i += 1\n",
    "        if np.array_equal(graphs[0], graphs[1]):\n",
    "            equal_graphs += 1\n",
    "\n",
    "    print(f\"Number of samples loaded: {len(samples)}\")\n",
    "    print(f\"Graphs shape: {input_graphs.shape}\")\n",
    "    print(f\"Features shape: {input_features.shape}\")\n",
    "    print(f\"Speedups (target) shape: {speedups.shape}\")\n",
    "    print(f\"Number of samples with equal graphs: {equal_graphs}\")\n",
    "    \n",
    "    print(f\"Number of features assigned (FA): {no_total_features}\")\n",
    "    print(f\"Invalid number of representations assigned: {no_total_invalid_features} (in relation to FA: {no_total_invalid_features/no_total_features}%)\")\n",
    "    \n",
    "    #np.savez_compressed(output_file, graphs=input_graphs, features=input_features, speedups=speedups)\n",
    "    #print(f\"Representation {representation} saved to {output_file}\")\n",
    "    return input_graphs, input_features, speedups"
   ]
  },
  {
   "cell_type": "markdown",
   "id": "respiratory-target",
   "metadata": {},
   "source": [
    "# Common variables for all representations"
   ]
  },
  {
   "cell_type": "code",
   "execution_count": 4,
   "id": "billion-level",
   "metadata": {},
   "outputs": [
    {
     "name": "stdout",
     "output_type": "stream",
     "text": [
      "Metadata loaded\n",
      "Embbedings loaded\n"
     ]
    }
   ],
   "source": [
    "data_dir = './data'\n",
    "metadata_file = './data/ccpe-applications-information.yaml'\n",
    "metadata_info = yaml_load(metadata_file)\n",
    "print('Metadata loaded')\n",
    "\n",
    "# Embeddings\n",
    "embeddings_file = './data/inst2vec/emb.p'\n",
    "embeddings_info = np.load(embeddings_file, allow_pickle=True)\n",
    "print('Embbedings loaded')"
   ]
  },
  {
   "cell_type": "code",
   "execution_count": 5,
   "id": "placed-wildlife",
   "metadata": {},
   "outputs": [],
   "source": [
    "def get_output_filenames(data_dir: str, representation: tuple, num_samples, network_shape) -> tuple:\n",
    "    output_data_file = f\"cdfgs_{'-'.join(representation)}_{num_samples}samples_{network_shape[0]}x{network_shape[1]}\"\n",
    "    output_data_file = os.path.join(data_dir, output_data_file)\n",
    "    \n",
    "    selected_data_file = f\"selected_cdfgs_{'-'.join(representation)}_{num_samples}samples_{network_shape[0]}x{network_shape[1]}.yaml\"\n",
    "    selected_data_file = os.path.join(data_dir, selected_data_file)\n",
    "    return output_data_file, selected_data_file"
   ]
  },
  {
   "cell_type": "code",
   "execution_count": 6,
   "id": "royal-limitation",
   "metadata": {},
   "outputs": [],
   "source": [
    "def save_data_file(output_data_file: str, output_samples_file: str, samples: list, graphs, features, speedups):\n",
    "    np.savez_compressed(output_data_file, graphs=graphs, features=features, speedups=speedups)\n",
    "    print(f\"Data saved to {output_data_file}.npz\")\n",
    "    \n",
    "    with open(output_samples_file, 'wt') as f:\n",
    "        yaml.dump(samples, f)\n",
    "    print(f\"Samples information saved to {output_samples_file}\")"
   ]
  },
  {
   "cell_type": "markdown",
   "id": "recent-graph",
   "metadata": {},
   "source": [
    "# Generate representations for (150x150) shape"
   ]
  },
  {
   "cell_type": "markdown",
   "id": "mysterious-isolation",
   "metadata": {},
   "source": [
    "### Common variables for all 150x150 representations"
   ]
  },
  {
   "cell_type": "code",
   "execution_count": 7,
   "id": "eastern-cruise",
   "metadata": {},
   "outputs": [
    {
     "name": "stdout",
     "output_type": "stream",
     "text": [
      "Number of graphs with adjacency matrix below shape (150, 150): 887\n",
      "Sampled 20000 CDFGs\n",
      "First sample of 20000 samples (example of output): ('./data/ccpe-dados/cdfg.programl/programl.5000.01/extracted/BenchmarkGame.nsieve-bits.0.11.progaml.yaml', './data/ccpe-dados/cdfg.programl/programl.5000.01/extracted/BenchmarkGame.nsieve-bits.0.2.progaml.yaml', 1.0059670138388164)\n"
     ]
    }
   ],
   "source": [
    "# Defining some useful variables\n",
    "network_graph_shape = (150, 150)\n",
    "network_features_shape = (150, 200)\n",
    "n_samples = 20000  # Number of samples to generate. Each sample is composed by 2 graphs\n",
    "\n",
    "cdfg_files = filter_cdfgs_files_below_shape(metadata_info, network_graph_shape)\n",
    "samples = sample_cdfgs(cdfg_files, n_samples)"
   ]
  },
  {
   "cell_type": "markdown",
   "id": "several-butler",
   "metadata": {},
   "source": [
    "### Data generation"
   ]
  },
  {
   "cell_type": "code",
   "execution_count": 8,
   "id": "accomplished-arrangement",
   "metadata": {},
   "outputs": [
    {
     "name": "stderr",
     "output_type": "stream",
     "text": [
      "Samples generated:   0%|          | 7/20000 [00:00<05:07, 64.95it/s]"
     ]
    },
    {
     "name": "stdout",
     "output_type": "stream",
     "text": [
      "Generating representation for: ('control', 'data', 'call')\n"
     ]
    },
    {
     "name": "stderr",
     "output_type": "stream",
     "text": [
      "Samples generated: 100%|██████████| 20000/20000 [07:04<00:00, 47.12it/s]\n"
     ]
    },
    {
     "name": "stdout",
     "output_type": "stream",
     "text": [
      "Number of samples loaded: 20000\n",
      "Graphs shape: (20000, 2, 150, 150)\n",
      "Features shape: (20000, 2, 150, 200)\n",
      "Speedups (target) shape: (20000, 1)\n",
      "Number of samples with equal graphs: 0\n",
      "Number of features assigned (FA): 4709769\n",
      "Invalid number of representations assigned: 3086242 (in relation to FA: 0.6552852167484222%)\n",
      "Data saved to ./data/cdfgs_control-data-call_20000samples_150x150.npz\n"
     ]
    },
    {
     "name": "stderr",
     "output_type": "stream",
     "text": [
      "Samples generated:   0%|          | 4/20000 [00:00<09:24, 35.43it/s]"
     ]
    },
    {
     "name": "stdout",
     "output_type": "stream",
     "text": [
      "Samples information saved to ./data/selected_cdfgs_control-data-call_20000samples_150x150.yaml\n",
      "Finished generation\n",
      "\n",
      "Generating representation for: ('control', 'data')\n"
     ]
    },
    {
     "name": "stderr",
     "output_type": "stream",
     "text": [
      "Samples generated: 100%|██████████| 20000/20000 [07:04<00:00, 47.09it/s]\n"
     ]
    },
    {
     "name": "stdout",
     "output_type": "stream",
     "text": [
      "Number of samples loaded: 20000\n",
      "Graphs shape: (20000, 2, 150, 150)\n",
      "Features shape: (20000, 2, 150, 200)\n",
      "Speedups (target) shape: (20000, 1)\n",
      "Number of samples with equal graphs: 0\n",
      "Number of features assigned (FA): 4709769\n",
      "Invalid number of representations assigned: 2831817 (in relation to FA: 0.6012645206166163%)\n",
      "Data saved to ./data/cdfgs_control-data_20000samples_150x150.npz\n"
     ]
    },
    {
     "name": "stderr",
     "output_type": "stream",
     "text": [
      "Samples generated:   0%|          | 4/20000 [00:00<09:22, 35.54it/s]"
     ]
    },
    {
     "name": "stdout",
     "output_type": "stream",
     "text": [
      "Samples information saved to ./data/selected_cdfgs_control-data_20000samples_150x150.yaml\n",
      "Finished generation\n",
      "\n",
      "Generating representation for: ('control', 'call')\n"
     ]
    },
    {
     "name": "stderr",
     "output_type": "stream",
     "text": [
      "Samples generated: 100%|██████████| 20000/20000 [07:02<00:00, 47.37it/s]\n"
     ]
    },
    {
     "name": "stdout",
     "output_type": "stream",
     "text": [
      "Number of samples loaded: 20000\n",
      "Graphs shape: (20000, 2, 150, 150)\n",
      "Features shape: (20000, 2, 150, 200)\n",
      "Speedups (target) shape: (20000, 1)\n",
      "Number of samples with equal graphs: 1241\n",
      "Number of features assigned (FA): 4709769\n",
      "Invalid number of representations assigned: 1816641 (in relation to FA: 0.385717643476782%)\n",
      "Data saved to ./data/cdfgs_control-call_20000samples_150x150.npz\n"
     ]
    },
    {
     "name": "stderr",
     "output_type": "stream",
     "text": [
      "Samples generated:   0%|          | 4/20000 [00:00<09:26, 35.27it/s]"
     ]
    },
    {
     "name": "stdout",
     "output_type": "stream",
     "text": [
      "Samples information saved to ./data/selected_cdfgs_control-call_20000samples_150x150.yaml\n",
      "Finished generation\n",
      "\n",
      "Generating representation for: ('data', 'call')\n"
     ]
    },
    {
     "name": "stderr",
     "output_type": "stream",
     "text": [
      "Samples generated: 100%|██████████| 20000/20000 [07:04<00:00, 47.16it/s]\n"
     ]
    },
    {
     "name": "stdout",
     "output_type": "stream",
     "text": [
      "Number of samples loaded: 20000\n",
      "Graphs shape: (20000, 2, 150, 150)\n",
      "Features shape: (20000, 2, 150, 200)\n",
      "Speedups (target) shape: (20000, 1)\n",
      "Number of samples with equal graphs: 0\n",
      "Number of features assigned (FA): 4709769\n",
      "Invalid number of representations assigned: 2702237 (in relation to FA: 0.5737514939692371%)\n",
      "Data saved to ./data/cdfgs_data-call_20000samples_150x150.npz\n"
     ]
    },
    {
     "name": "stderr",
     "output_type": "stream",
     "text": [
      "Samples generated:   0%|          | 4/20000 [00:00<09:26, 35.29it/s]"
     ]
    },
    {
     "name": "stdout",
     "output_type": "stream",
     "text": [
      "Samples information saved to ./data/selected_cdfgs_data-call_20000samples_150x150.yaml\n",
      "Finished generation\n",
      "\n",
      "Generating representation for: ('control',)\n"
     ]
    },
    {
     "name": "stderr",
     "output_type": "stream",
     "text": [
      "Samples generated: 100%|██████████| 20000/20000 [07:02<00:00, 47.32it/s]\n"
     ]
    },
    {
     "name": "stdout",
     "output_type": "stream",
     "text": [
      "Number of samples loaded: 20000\n",
      "Graphs shape: (20000, 2, 150, 150)\n",
      "Features shape: (20000, 2, 150, 200)\n",
      "Speedups (target) shape: (20000, 1)\n",
      "Number of samples with equal graphs: 1363\n",
      "Number of features assigned (FA): 4709769\n",
      "Invalid number of representations assigned: 1562216 (in relation to FA: 0.33169694734497596%)\n",
      "Data saved to ./data/cdfgs_control_20000samples_150x150.npz\n"
     ]
    },
    {
     "name": "stderr",
     "output_type": "stream",
     "text": [
      "Samples generated:   0%|          | 7/20000 [00:00<04:56, 67.47it/s]"
     ]
    },
    {
     "name": "stdout",
     "output_type": "stream",
     "text": [
      "Samples information saved to ./data/selected_cdfgs_control_20000samples_150x150.yaml\n",
      "Finished generation\n",
      "\n",
      "Generating representation for: ('data',)\n"
     ]
    },
    {
     "name": "stderr",
     "output_type": "stream",
     "text": [
      "Samples generated: 100%|██████████| 20000/20000 [07:02<00:00, 47.31it/s]\n"
     ]
    },
    {
     "name": "stdout",
     "output_type": "stream",
     "text": [
      "Number of samples loaded: 20000\n",
      "Graphs shape: (20000, 2, 150, 150)\n",
      "Features shape: (20000, 2, 150, 200)\n",
      "Speedups (target) shape: (20000, 1)\n",
      "Number of samples with equal graphs: 0\n",
      "Number of features assigned (FA): 4709769\n",
      "Invalid number of representations assigned: 2292509 (in relation to FA: 0.4867561445157926%)\n",
      "Data saved to ./data/cdfgs_data_20000samples_150x150.npz\n"
     ]
    },
    {
     "name": "stderr",
     "output_type": "stream",
     "text": [
      "Samples generated:   0%|          | 4/20000 [00:00<09:21, 35.63it/s]"
     ]
    },
    {
     "name": "stdout",
     "output_type": "stream",
     "text": [
      "Samples information saved to ./data/selected_cdfgs_data_20000samples_150x150.yaml\n",
      "Finished generation\n",
      "\n",
      "Generating representation for: ('call',)\n"
     ]
    },
    {
     "name": "stderr",
     "output_type": "stream",
     "text": [
      "Samples generated: 100%|██████████| 20000/20000 [07:00<00:00, 47.55it/s]\n"
     ]
    },
    {
     "name": "stdout",
     "output_type": "stream",
     "text": [
      "Number of samples loaded: 20000\n",
      "Graphs shape: (20000, 2, 150, 150)\n",
      "Features shape: (20000, 2, 150, 200)\n",
      "Speedups (target) shape: (20000, 1)\n",
      "Number of samples with equal graphs: 1650\n",
      "Number of features assigned (FA): 4709769\n",
      "Invalid number of representations assigned: 534624 (in relation to FA: 0.11351384749443126%)\n",
      "Data saved to ./data/cdfgs_call_20000samples_150x150.npz\n",
      "Samples information saved to ./data/selected_cdfgs_call_20000samples_150x150.yaml\n",
      "Finished generation\n",
      "\n"
     ]
    }
   ],
   "source": [
    "representations_to_generate = [\n",
    "    ('control', 'data', 'call'),\n",
    "    ('control', 'data'),\n",
    "    ('control', 'call'),\n",
    "    ('data', 'call'),\n",
    "    ('control',),\n",
    "    ('data',),\n",
    "    ('call',)\n",
    "]\n",
    "\n",
    "for representation in representations_to_generate:\n",
    "    print(f'Generating representation for: {representation}')\n",
    "    output_data_file, output_samples_file = get_output_filenames(data_dir, representation, n_samples, network_graph_shape)\n",
    "    graphs, features, speedups = generate_samples(samples, network_graph_shape, network_features_shape, representation, embeddings_info)\n",
    "    save_data_file(output_data_file, output_samples_file, samples, graphs, features, speedups)\n",
    "    print('Finished generation\\n')"
   ]
  },
  {
   "cell_type": "markdown",
   "id": "offensive-forty",
   "metadata": {},
   "source": [
    "# Generate representations for (300x300) shape"
   ]
  },
  {
   "cell_type": "markdown",
   "id": "indoor-screening",
   "metadata": {},
   "source": [
    "### Common variables for all 300x300 representations"
   ]
  },
  {
   "cell_type": "code",
   "execution_count": 9,
   "id": "intended-feelings",
   "metadata": {},
   "outputs": [
    {
     "name": "stdout",
     "output_type": "stream",
     "text": [
      "Number of graphs with adjacency matrix below shape (300, 300): 2910\n",
      "Sampled 20000 CDFGs\n",
      "First sample of 20000 samples (example of output): ('./data/ccpe-dados/cdfg.programl/programl.5000.02/extracted/Misc.mandel-2.0.21.progaml.yaml', './data/ccpe-dados/cdfg.programl/programl.5000.02/extracted/Misc.mandel-2.0.28.progaml.yaml', 1.011798022347439)\n"
     ]
    }
   ],
   "source": [
    "# Defining some useful variables\n",
    "network_graph_shape = (300, 300)\n",
    "network_features_shape = (300, 200)\n",
    "n_samples = 20000  # Number of samples to generate. Each sample is composed by 2 graphs\n",
    "\n",
    "cdfg_files = filter_cdfgs_files_below_shape(metadata_info, network_graph_shape)\n",
    "samples = sample_cdfgs(cdfg_files, n_samples)"
   ]
  },
  {
   "cell_type": "markdown",
   "id": "systematic-discovery",
   "metadata": {},
   "source": [
    "### Data Generation"
   ]
  },
  {
   "cell_type": "code",
   "execution_count": 10,
   "id": "dress-bracelet",
   "metadata": {},
   "outputs": [
    {
     "name": "stderr",
     "output_type": "stream",
     "text": [
      "Samples generated:   0%|          | 0/20000 [00:00<?, ?it/s]"
     ]
    },
    {
     "name": "stdout",
     "output_type": "stream",
     "text": [
      "Generating representation for: ('control', 'data', 'call')\n"
     ]
    },
    {
     "name": "stderr",
     "output_type": "stream",
     "text": [
      "Samples generated: 100%|██████████| 20000/20000 [14:18<00:00, 23.31it/s]\n"
     ]
    },
    {
     "name": "stdout",
     "output_type": "stream",
     "text": [
      "Number of samples loaded: 20000\n",
      "Graphs shape: (20000, 2, 300, 300)\n",
      "Features shape: (20000, 2, 300, 200)\n",
      "Speedups (target) shape: (20000, 1)\n",
      "Number of samples with equal graphs: 0\n",
      "Number of features assigned (FA): 8557550\n",
      "Invalid number of representations assigned: 5528569 (in relation to FA: 0.646045772446553%)\n",
      "Data saved to ./data/cdfgs_control-data-call_20000samples_300x300.npz\n"
     ]
    },
    {
     "name": "stderr",
     "output_type": "stream",
     "text": [
      "Samples generated:   0%|          | 3/20000 [00:00<11:24, 29.21it/s]"
     ]
    },
    {
     "name": "stdout",
     "output_type": "stream",
     "text": [
      "Samples information saved to ./data/selected_cdfgs_control-data-call_20000samples_300x300.yaml\n",
      "Finished generation\n",
      "\n",
      "Generating representation for: ('control', 'data')\n"
     ]
    },
    {
     "name": "stderr",
     "output_type": "stream",
     "text": [
      "Samples generated: 100%|██████████| 20000/20000 [13:56<00:00, 23.91it/s]\n"
     ]
    },
    {
     "name": "stdout",
     "output_type": "stream",
     "text": [
      "Number of samples loaded: 20000\n",
      "Graphs shape: (20000, 2, 300, 300)\n",
      "Features shape: (20000, 2, 300, 200)\n",
      "Speedups (target) shape: (20000, 1)\n",
      "Number of samples with equal graphs: 0\n",
      "Number of features assigned (FA): 8557550\n",
      "Invalid number of representations assigned: 5251072 (in relation to FA: 0.6136186174781334%)\n",
      "Data saved to ./data/cdfgs_control-data_20000samples_300x300.npz\n"
     ]
    },
    {
     "name": "stderr",
     "output_type": "stream",
     "text": [
      "Samples generated:   0%|          | 3/20000 [00:00<11:21, 29.34it/s]"
     ]
    },
    {
     "name": "stdout",
     "output_type": "stream",
     "text": [
      "Samples information saved to ./data/selected_cdfgs_control-data_20000samples_300x300.yaml\n",
      "Finished generation\n",
      "\n",
      "Generating representation for: ('control', 'call')\n"
     ]
    },
    {
     "name": "stderr",
     "output_type": "stream",
     "text": [
      "Samples generated: 100%|██████████| 20000/20000 [13:52<00:00, 24.03it/s]\n"
     ]
    },
    {
     "name": "stdout",
     "output_type": "stream",
     "text": [
      "Number of samples loaded: 20000\n",
      "Graphs shape: (20000, 2, 300, 300)\n",
      "Features shape: (20000, 2, 300, 200)\n",
      "Speedups (target) shape: (20000, 1)\n",
      "Number of samples with equal graphs: 385\n",
      "Number of features assigned (FA): 8557550\n",
      "Invalid number of representations assigned: 3238993 (in relation to FA: 0.3784953637431274%)\n",
      "Data saved to ./data/cdfgs_control-call_20000samples_300x300.npz\n"
     ]
    },
    {
     "name": "stderr",
     "output_type": "stream",
     "text": [
      "Samples generated:   0%|          | 5/20000 [00:00<09:06, 36.62it/s]"
     ]
    },
    {
     "name": "stdout",
     "output_type": "stream",
     "text": [
      "Samples information saved to ./data/selected_cdfgs_control-call_20000samples_300x300.yaml\n",
      "Finished generation\n",
      "\n",
      "Generating representation for: ('data', 'call')\n"
     ]
    },
    {
     "name": "stderr",
     "output_type": "stream",
     "text": [
      "Samples generated: 100%|██████████| 20000/20000 [13:55<00:00, 23.95it/s]\n"
     ]
    },
    {
     "name": "stdout",
     "output_type": "stream",
     "text": [
      "Number of samples loaded: 20000\n",
      "Graphs shape: (20000, 2, 300, 300)\n",
      "Features shape: (20000, 2, 300, 200)\n",
      "Speedups (target) shape: (20000, 1)\n",
      "Number of samples with equal graphs: 0\n",
      "Number of features assigned (FA): 8557550\n",
      "Invalid number of representations assigned: 4767927 (in relation to FA: 0.5571602853620488%)\n",
      "Data saved to ./data/cdfgs_data-call_20000samples_300x300.npz\n"
     ]
    },
    {
     "name": "stderr",
     "output_type": "stream",
     "text": [
      "Samples generated:   0%|          | 3/20000 [00:00<11:35, 28.75it/s]"
     ]
    },
    {
     "name": "stdout",
     "output_type": "stream",
     "text": [
      "Samples information saved to ./data/selected_cdfgs_data-call_20000samples_300x300.yaml\n",
      "Finished generation\n",
      "\n",
      "Generating representation for: ('control',)\n"
     ]
    },
    {
     "name": "stderr",
     "output_type": "stream",
     "text": [
      "Samples generated: 100%|██████████| 20000/20000 [13:51<00:00, 24.06it/s]\n"
     ]
    },
    {
     "name": "stdout",
     "output_type": "stream",
     "text": [
      "Number of samples loaded: 20000\n",
      "Graphs shape: (20000, 2, 300, 300)\n",
      "Features shape: (20000, 2, 300, 200)\n",
      "Speedups (target) shape: (20000, 1)\n",
      "Number of samples with equal graphs: 482\n",
      "Number of features assigned (FA): 8557550\n",
      "Invalid number of representations assigned: 2961496 (in relation to FA: 0.34606820877470773%)\n",
      "Data saved to ./data/cdfgs_control_20000samples_300x300.npz\n"
     ]
    },
    {
     "name": "stderr",
     "output_type": "stream",
     "text": [
      "Samples generated:   0%|          | 3/20000 [00:00<11:30, 28.95it/s]"
     ]
    },
    {
     "name": "stdout",
     "output_type": "stream",
     "text": [
      "Samples information saved to ./data/selected_cdfgs_control_20000samples_300x300.yaml\n",
      "Finished generation\n",
      "\n",
      "Generating representation for: ('data',)\n"
     ]
    },
    {
     "name": "stderr",
     "output_type": "stream",
     "text": [
      "Samples generated: 100%|██████████| 20000/20000 [13:55<00:00, 23.94it/s]\n"
     ]
    },
    {
     "name": "stdout",
     "output_type": "stream",
     "text": [
      "Number of samples loaded: 20000\n",
      "Graphs shape: (20000, 2, 300, 300)\n",
      "Features shape: (20000, 2, 300, 200)\n",
      "Speedups (target) shape: (20000, 1)\n",
      "Number of samples with equal graphs: 0\n",
      "Number of features assigned (FA): 8557550\n",
      "Invalid number of representations assigned: 4291526 (in relation to FA: 0.5014900292723969%)\n",
      "Data saved to ./data/cdfgs_data_20000samples_300x300.npz\n"
     ]
    },
    {
     "name": "stderr",
     "output_type": "stream",
     "text": [
      "Samples generated:   0%|          | 3/20000 [00:00<11:24, 29.21it/s]"
     ]
    },
    {
     "name": "stdout",
     "output_type": "stream",
     "text": [
      "Samples information saved to ./data/selected_cdfgs_data_20000samples_300x300.yaml\n",
      "Finished generation\n",
      "\n",
      "Generating representation for: ('call',)\n"
     ]
    },
    {
     "name": "stderr",
     "output_type": "stream",
     "text": [
      "Samples generated: 100%|██████████| 20000/20000 [13:48<00:00, 24.14it/s]\n"
     ]
    },
    {
     "name": "stdout",
     "output_type": "stream",
     "text": [
      "Number of samples loaded: 20000\n",
      "Graphs shape: (20000, 2, 300, 300)\n",
      "Features shape: (20000, 2, 300, 200)\n",
      "Speedups (target) shape: (20000, 1)\n",
      "Number of samples with equal graphs: 531\n",
      "Number of features assigned (FA): 8557550\n",
      "Invalid number of representations assigned: 607177 (in relation to FA: 0.07095220010400173%)\n",
      "Data saved to ./data/cdfgs_call_20000samples_300x300.npz\n",
      "Samples information saved to ./data/selected_cdfgs_call_20000samples_300x300.yaml\n",
      "Finished generation\n",
      "\n"
     ]
    }
   ],
   "source": [
    "representations_to_generate = [\n",
    "    ('control', 'data', 'call'),\n",
    "    ('control', 'data'),\n",
    "    ('control', 'call'),\n",
    "    ('data', 'call'),\n",
    "    ('control',),\n",
    "    ('data',),\n",
    "    ('call',)\n",
    "]\n",
    "\n",
    "for representation in representations_to_generate:\n",
    "    print(f'Generating representation for: {representation}')\n",
    "    output_data_file, output_samples_file = get_output_filenames(data_dir, representation, n_samples, network_graph_shape)\n",
    "    graphs, features, speedups = generate_samples(samples, network_graph_shape, network_features_shape, representation, embeddings_info)\n",
    "    save_data_file(output_data_file, output_samples_file, samples, graphs, features, speedups)\n",
    "    print('Finished generation\\n')"
   ]
  },
  {
   "cell_type": "code",
   "execution_count": null,
   "id": "toxic-tactics",
   "metadata": {},
   "outputs": [],
   "source": []
  }
 ],
 "metadata": {
  "kernelspec": {
   "display_name": "venv",
   "language": "python",
   "name": "venv"
  },
  "language_info": {
   "codemirror_mode": {
    "name": "ipython",
    "version": 3
   },
   "file_extension": ".py",
   "mimetype": "text/x-python",
   "name": "python",
   "nbconvert_exporter": "python",
   "pygments_lexer": "ipython3",
   "version": "3.8.5"
  }
 },
 "nbformat": 4,
 "nbformat_minor": 5
}
