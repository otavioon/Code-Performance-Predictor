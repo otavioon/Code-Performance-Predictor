{
 "metadata": {
  "language_info": {
   "codemirror_mode": {
    "name": "ipython",
    "version": 3
   },
   "file_extension": ".py",
   "mimetype": "text/x-python",
   "name": "python",
   "nbconvert_exporter": "python",
   "pygments_lexer": "ipython3",
   "version": "3.8.5-final"
  },
  "orig_nbformat": 2,
  "kernelspec": {
   "name": "python3",
   "display_name": "Python 3",
   "language": "python"
  }
 },
 "nbformat": 4,
 "nbformat_minor": 2,
 "cells": [
  {
   "source": [
    "# Preprocessing (optional)\n",
    "## Generating Metadata\n",
    "\n",
    "Here we are going to collect information about the CFGs and CDFGs of the applications and build a metadata database (at './data/ccpe-applications-information.yaml')to easily construct the inputs to GNN.\n",
    "This information includes:\n",
    "- Name of the applications\n",
    "- Location of the file for an application and it respective optimization sequence\n",
    "- Number of nodes in the graph representation of CFG and CDFG for each application\n",
    "- The execution time for each application with each optimization sequence\n",
    "\n",
    "This part is optional and must be run only once to create a metadata file."
   ],
   "cell_type": "markdown",
   "metadata": {}
  },
  {
   "cell_type": "code",
   "execution_count": 1,
   "metadata": {},
   "outputs": [],
   "source": [
    "import gc\n",
    "import os\n",
    "import sys\n",
    "import yaml\n",
    "import glob\n",
    "import numpy as np\n",
    "import pickle\n",
    "import tensorflow as tf\n",
    "import random\n",
    "import tqdm\n",
    "\n",
    "from collections import defaultdict\n",
    "\n",
    "from matplotlib import pyplot as plt\n",
    "from sklearn.model_selection import train_test_split\n",
    "from sklearn.metrics import plot_confusion_matrix\n",
    "from sklearn.metrics import confusion_matrix\n",
    "from spektral.datasets import delaunay\n",
    "from spektral.layers import *\n",
    "from spektral.utils.convolution import localpooling_filter\n",
    "from tensorflow.keras.callbacks import EarlyStopping\n",
    "from tensorflow.keras.layers import Input, Dense, Concatenate, Dropout\n",
    "from tensorflow.keras.models import Model\n",
    "from tensorflow.keras.optimizers import Adam\n",
    "from tensorflow.keras.regularizers import l2\n",
    "from tqdm.contrib.concurrent import process_map, thread_map\n",
    "\n",
    "from utils import yaml_load, get_section\n",
    "\n",
    "%matplotlib inline"
   ]
  },
  {
   "source": [
    "First, lets list all CFG and CDFG files and discover how many nodes each graph has"
   ],
   "cell_type": "markdown",
   "metadata": {}
  },
  {
   "cell_type": "code",
   "execution_count": 2,
   "metadata": {},
   "outputs": [],
   "source": [
    "# Utility functions\n",
    "\n",
    "# Get the number of nodes for each application in CFG representation\n",
    "def get_number_of_cfg_nodes(filename):\n",
    "    # Get lines for node section\n",
    "    yaml_nodes_section = get_section(filename, 'nodes_features:')\n",
    "    # Get the highest node number and return\n",
    "    return (filename, max([int(node.split(':')[0]) for node in yaml_nodes_section])+1)\n",
    "\n",
    "# Get the number of nodes for each application in CDFG representation\n",
    "def get_number_of_cdfg_nodes(filename):\n",
    "    # Get lines for nodes_features section\n",
    "    yaml_node_features_section = get_section(filename, 'nodes_features:')\n",
    "    # Get the highest node number and return\n",
    "    return (filename, max([int(node.split(':')[0]) for node in yaml_node_features_section])+1)"
   ]
  },
  {
   "cell_type": "code",
   "execution_count": 3,
   "metadata": {},
   "outputs": [
    {
     "output_type": "stream",
     "name": "stdout",
     "text": [
      "Found 29990 files in ./data/ccpe-dados/cfg.llvm\nFound 29984 files in ./data/ccpe-dados/cdfg.programl\nFound 302 files in ./data/runtime\n"
     ]
    },
    {
     "output_type": "display_data",
     "data": {
      "text/plain": "CFG Files processed:   0%|          | 0/29990 [00:00<?, ?it/s]",
      "application/vnd.jupyter.widget-view+json": {
       "version_major": 2,
       "version_minor": 0,
       "model_id": "53c4b4e7eacd490f97f152f3e5154bc8"
      }
     },
     "metadata": {}
    },
    {
     "output_type": "stream",
     "name": "stdout",
     "text": [
      "Number of CFG graphs: 29990\n"
     ]
    },
    {
     "output_type": "display_data",
     "data": {
      "text/plain": "CDFG Files processed:   0%|          | 0/29984 [00:00<?, ?it/s]",
      "application/vnd.jupyter.widget-view+json": {
       "version_major": 2,
       "version_minor": 0,
       "model_id": "84dfe8ab12cb44588e4c82548561d928"
      }
     },
     "metadata": {}
    },
    {
     "output_type": "stream",
     "name": "stdout",
     "text": [
      "Number of CDFG graphs: 29984\n"
     ]
    }
   ],
   "source": [
    "# Listing all CFG Files\n",
    "cfg_directory = './data/ccpe-dados/cfg.llvm'\n",
    "cfg_files = glob.glob(f'{cfg_directory}/**/*.yaml', recursive=True)\n",
    "print(f\"Found {len(cfg_files)} files in {cfg_directory}\")\n",
    "\n",
    "# Listing all CDFG Files\n",
    "cdfg_directory = './data/ccpe-dados/cdfg.programl'\n",
    "cdfg_files = glob.glob(f'{cdfg_directory}/**/*.yaml', recursive=True)\n",
    "print(f\"Found {len(cdfg_files)} files in {cdfg_directory}\")\n",
    "\n",
    "# Listing all runtime files\n",
    "runtime_directory = './data/runtime'\n",
    "runtime_files = glob.glob(f'{runtime_directory}/**/*.yaml', recursive=True)\n",
    "print(f\"Found {len(runtime_files)} files in {runtime_directory}\")\n",
    "\n",
    "# Get the number of nodes for all CFG graphs\n",
    "cfg_number_of_nodes = thread_map(get_number_of_cfg_nodes, cfg_files, desc='CFG Files processed')\n",
    "cfg_number_of_nodes = dict(cfg_number_of_nodes)\n",
    "print(f\"Number of CFG graphs: {len(cfg_number_of_nodes)}\")\n",
    "\n",
    "# Get the number of nodes for all CDFG graphs\n",
    "cdfg_number_of_nodes = thread_map(get_number_of_cdfg_nodes, cdfg_files, desc='CDFG Files processed')\n",
    "cdfg_number_of_nodes = dict(cdfg_number_of_nodes)\n",
    "print(f\"Number of CDFG graphs: {len(cdfg_number_of_nodes)}\")"
   ]
  },
  {
   "cell_type": "code",
   "execution_count": 4,
   "metadata": {},
   "outputs": [
    {
     "output_type": "stream",
     "name": "stdout",
     "text": [
      "CFG Graphs. Statistics from 29990 applications:\n    Min value: 3\n    Max value: 26796\n    Average: 808.2788929643215\n    Stdev: 2585.113628076723\n    Mean: 808.2788929643215\n    25th percentile: 49.0\n    Median: 109.0\n    75th percentile: 472.0\n    95th percentile: 3815.0999999999985\n"
     ]
    },
    {
     "output_type": "execute_result",
     "data": {
      "text/plain": [
       "(array([2.7096e+04, 1.0890e+03, 3.5300e+02, 2.7100e+02, 3.9800e+02,\n",
       "        1.8000e+02, 4.6000e+01, 3.7000e+01, 4.1000e+01, 2.0000e+01,\n",
       "        4.0000e+01, 4.8000e+01, 1.1100e+02, 7.3000e+01, 3.9000e+01,\n",
       "        4.8000e+01, 4.1000e+01, 3.8000e+01, 1.5000e+01, 6.0000e+00]),\n",
       " array([3.000000e+00, 1.342650e+03, 2.682300e+03, 4.021950e+03,\n",
       "        5.361600e+03, 6.701250e+03, 8.040900e+03, 9.380550e+03,\n",
       "        1.072020e+04, 1.205985e+04, 1.339950e+04, 1.473915e+04,\n",
       "        1.607880e+04, 1.741845e+04, 1.875810e+04, 2.009775e+04,\n",
       "        2.143740e+04, 2.277705e+04, 2.411670e+04, 2.545635e+04,\n",
       "        2.679600e+04]),\n",
       " <BarContainer object of 20 artists>)"
      ]
     },
     "metadata": {},
     "execution_count": 4
    },
    {
     "output_type": "display_data",
     "data": {
      "text/plain": "<Figure size 432x288 with 1 Axes>",
      "image/svg+xml": "<?xml version=\"1.0\" encoding=\"utf-8\" standalone=\"no\"?>\n<!DOCTYPE svg PUBLIC \"-//W3C//DTD SVG 1.1//EN\"\n  \"http://www.w3.org/Graphics/SVG/1.1/DTD/svg11.dtd\">\n<!-- Created with matplotlib (https://matplotlib.org/) -->\n<svg height=\"248.518125pt\" version=\"1.1\" viewBox=\"0 0 388.0125 248.518125\" width=\"388.0125pt\" xmlns=\"http://www.w3.org/2000/svg\" xmlns:xlink=\"http://www.w3.org/1999/xlink\">\n <metadata>\n  <rdf:RDF xmlns:cc=\"http://creativecommons.org/ns#\" xmlns:dc=\"http://purl.org/dc/elements/1.1/\" xmlns:rdf=\"http://www.w3.org/1999/02/22-rdf-syntax-ns#\">\n   <cc:Work>\n    <dc:type rdf:resource=\"http://purl.org/dc/dcmitype/StillImage\"/>\n    <dc:date>2021-03-18T19:00:16.012168</dc:date>\n    <dc:format>image/svg+xml</dc:format>\n    <dc:creator>\n     <cc:Agent>\n      <dc:title>Matplotlib v3.3.4, https://matplotlib.org/</dc:title>\n     </cc:Agent>\n    </dc:creator>\n   </cc:Work>\n  </rdf:RDF>\n </metadata>\n <defs>\n  <style type=\"text/css\">*{stroke-linecap:butt;stroke-linejoin:round;}</style>\n </defs>\n <g id=\"figure_1\">\n  <g id=\"patch_1\">\n   <path d=\"M 0 248.518125 \nL 388.0125 248.518125 \nL 388.0125 0 \nL 0 0 \nz\n\" style=\"fill:none;\"/>\n  </g>\n  <g id=\"axes_1\">\n   <g id=\"patch_2\">\n    <path d=\"M 46.0125 224.64 \nL 380.8125 224.64 \nL 380.8125 7.2 \nL 46.0125 7.2 \nz\n\" style=\"fill:#ffffff;\"/>\n   </g>\n   <g id=\"patch_3\">\n    <path clip-path=\"url(#p821976e15f)\" d=\"M 61.230682 224.64 \nL 76.448864 224.64 \nL 76.448864 17.554286 \nL 61.230682 17.554286 \nz\n\" style=\"fill:#1f77b4;\"/>\n   </g>\n   <g id=\"patch_4\">\n    <path clip-path=\"url(#p821976e15f)\" d=\"M 76.448864 224.64 \nL 91.667045 224.64 \nL 91.667045 216.317135 \nL 76.448864 216.317135 \nz\n\" style=\"fill:#1f77b4;\"/>\n   </g>\n   <g id=\"patch_5\">\n    <path clip-path=\"url(#p821976e15f)\" d=\"M 91.667045 224.64 \nL 106.885227 224.64 \nL 106.885227 221.942138 \nL 91.667045 221.942138 \nz\n\" style=\"fill:#1f77b4;\"/>\n   </g>\n   <g id=\"patch_6\">\n    <path clip-path=\"url(#p821976e15f)\" d=\"M 106.885227 224.64 \nL 122.103409 224.64 \nL 122.103409 222.568837 \nL 106.885227 222.568837 \nz\n\" style=\"fill:#1f77b4;\"/>\n   </g>\n   <g id=\"patch_7\">\n    <path clip-path=\"url(#p821976e15f)\" d=\"M 122.103409 224.64 \nL 137.321591 224.64 \nL 137.321591 221.598218 \nL 122.103409 221.598218 \nz\n\" style=\"fill:#1f77b4;\"/>\n   </g>\n   <g id=\"patch_8\">\n    <path clip-path=\"url(#p821976e15f)\" d=\"M 137.321591 224.64 \nL 152.539773 224.64 \nL 152.539773 223.26432 \nL 137.321591 223.26432 \nz\n\" style=\"fill:#1f77b4;\"/>\n   </g>\n   <g id=\"patch_9\">\n    <path clip-path=\"url(#p821976e15f)\" d=\"M 152.539773 224.64 \nL 167.757955 224.64 \nL 167.757955 224.288437 \nL 152.539773 224.288437 \nz\n\" style=\"fill:#1f77b4;\"/>\n   </g>\n   <g id=\"patch_10\">\n    <path clip-path=\"url(#p821976e15f)\" d=\"M 167.757955 224.64 \nL 182.976136 224.64 \nL 182.976136 224.357221 \nL 167.757955 224.357221 \nz\n\" style=\"fill:#1f77b4;\"/>\n   </g>\n   <g id=\"patch_11\">\n    <path clip-path=\"url(#p821976e15f)\" d=\"M 182.976136 224.64 \nL 198.194318 224.64 \nL 198.194318 224.326651 \nL 182.976136 224.326651 \nz\n\" style=\"fill:#1f77b4;\"/>\n   </g>\n   <g id=\"patch_12\">\n    <path clip-path=\"url(#p821976e15f)\" d=\"M 198.194318 224.64 \nL 213.4125 224.64 \nL 213.4125 224.487147 \nL 198.194318 224.487147 \nz\n\" style=\"fill:#1f77b4;\"/>\n   </g>\n   <g id=\"patch_13\">\n    <path clip-path=\"url(#p821976e15f)\" d=\"M 213.4125 224.64 \nL 228.630682 224.64 \nL 228.630682 224.334293 \nL 213.4125 224.334293 \nz\n\" style=\"fill:#1f77b4;\"/>\n   </g>\n   <g id=\"patch_14\">\n    <path clip-path=\"url(#p821976e15f)\" d=\"M 228.630682 224.64 \nL 243.848864 224.64 \nL 243.848864 224.273152 \nL 228.630682 224.273152 \nz\n\" style=\"fill:#1f77b4;\"/>\n   </g>\n   <g id=\"patch_15\">\n    <path clip-path=\"url(#p821976e15f)\" d=\"M 243.848864 224.64 \nL 259.067045 224.64 \nL 259.067045 223.791664 \nL 243.848864 223.791664 \nz\n\" style=\"fill:#1f77b4;\"/>\n   </g>\n   <g id=\"patch_16\">\n    <path clip-path=\"url(#p821976e15f)\" d=\"M 259.067045 224.64 \nL 274.285227 224.64 \nL 274.285227 224.082085 \nL 259.067045 224.082085 \nz\n\" style=\"fill:#1f77b4;\"/>\n   </g>\n   <g id=\"patch_17\">\n    <path clip-path=\"url(#p821976e15f)\" d=\"M 274.285227 224.64 \nL 289.503409 224.64 \nL 289.503409 224.341936 \nL 274.285227 224.341936 \nz\n\" style=\"fill:#1f77b4;\"/>\n   </g>\n   <g id=\"patch_18\">\n    <path clip-path=\"url(#p821976e15f)\" d=\"M 289.503409 224.64 \nL 304.721591 224.64 \nL 304.721591 224.273152 \nL 289.503409 224.273152 \nz\n\" style=\"fill:#1f77b4;\"/>\n   </g>\n   <g id=\"patch_19\">\n    <path clip-path=\"url(#p821976e15f)\" d=\"M 304.721591 224.64 \nL 319.939773 224.64 \nL 319.939773 224.326651 \nL 304.721591 224.326651 \nz\n\" style=\"fill:#1f77b4;\"/>\n   </g>\n   <g id=\"patch_20\">\n    <path clip-path=\"url(#p821976e15f)\" d=\"M 319.939773 224.64 \nL 335.157955 224.64 \nL 335.157955 224.349579 \nL 319.939773 224.349579 \nz\n\" style=\"fill:#1f77b4;\"/>\n   </g>\n   <g id=\"patch_21\">\n    <path clip-path=\"url(#p821976e15f)\" d=\"M 335.157955 224.64 \nL 350.376136 224.64 \nL 350.376136 224.52536 \nL 335.157955 224.52536 \nz\n\" style=\"fill:#1f77b4;\"/>\n   </g>\n   <g id=\"patch_22\">\n    <path clip-path=\"url(#p821976e15f)\" d=\"M 350.376136 224.64 \nL 365.594318 224.64 \nL 365.594318 224.594144 \nL 350.376136 224.594144 \nz\n\" style=\"fill:#1f77b4;\"/>\n   </g>\n   <g id=\"matplotlib.axis_1\">\n    <g id=\"xtick_1\">\n     <g id=\"line2d_1\">\n      <defs>\n       <path d=\"M 0 0 \nL 0 3.5 \n\" id=\"m704ad56957\" style=\"stroke:#000000;stroke-width:0.8;\"/>\n      </defs>\n      <g>\n       <use style=\"stroke:#000000;stroke-width:0.8;\" x=\"61.196602\" xlink:href=\"#m704ad56957\" y=\"224.64\"/>\n      </g>\n     </g>\n     <g id=\"text_1\">\n      <!-- 0 -->\n      <g transform=\"translate(58.015352 239.238437)scale(0.1 -0.1)\">\n       <defs>\n        <path d=\"M 31.78125 66.40625 \nQ 24.171875 66.40625 20.328125 58.90625 \nQ 16.5 51.421875 16.5 36.375 \nQ 16.5 21.390625 20.328125 13.890625 \nQ 24.171875 6.390625 31.78125 6.390625 \nQ 39.453125 6.390625 43.28125 13.890625 \nQ 47.125 21.390625 47.125 36.375 \nQ 47.125 51.421875 43.28125 58.90625 \nQ 39.453125 66.40625 31.78125 66.40625 \nz\nM 31.78125 74.21875 \nQ 44.046875 74.21875 50.515625 64.515625 \nQ 56.984375 54.828125 56.984375 36.375 \nQ 56.984375 17.96875 50.515625 8.265625 \nQ 44.046875 -1.421875 31.78125 -1.421875 \nQ 19.53125 -1.421875 13.0625 8.265625 \nQ 6.59375 17.96875 6.59375 36.375 \nQ 6.59375 54.828125 13.0625 64.515625 \nQ 19.53125 74.21875 31.78125 74.21875 \nz\n\" id=\"DejaVuSans-48\"/>\n       </defs>\n       <use xlink:href=\"#DejaVuSans-48\"/>\n      </g>\n     </g>\n    </g>\n    <g id=\"xtick_2\">\n     <g id=\"line2d_2\">\n      <g>\n       <use style=\"stroke:#000000;stroke-width:0.8;\" x=\"117.995698\" xlink:href=\"#m704ad56957\" y=\"224.64\"/>\n      </g>\n     </g>\n     <g id=\"text_2\">\n      <!-- 5000 -->\n      <g transform=\"translate(105.270698 239.238437)scale(0.1 -0.1)\">\n       <defs>\n        <path d=\"M 10.796875 72.90625 \nL 49.515625 72.90625 \nL 49.515625 64.59375 \nL 19.828125 64.59375 \nL 19.828125 46.734375 \nQ 21.96875 47.46875 24.109375 47.828125 \nQ 26.265625 48.1875 28.421875 48.1875 \nQ 40.625 48.1875 47.75 41.5 \nQ 54.890625 34.8125 54.890625 23.390625 \nQ 54.890625 11.625 47.5625 5.09375 \nQ 40.234375 -1.421875 26.90625 -1.421875 \nQ 22.3125 -1.421875 17.546875 -0.640625 \nQ 12.796875 0.140625 7.71875 1.703125 \nL 7.71875 11.625 \nQ 12.109375 9.234375 16.796875 8.0625 \nQ 21.484375 6.890625 26.703125 6.890625 \nQ 35.15625 6.890625 40.078125 11.328125 \nQ 45.015625 15.765625 45.015625 23.390625 \nQ 45.015625 31 40.078125 35.4375 \nQ 35.15625 39.890625 26.703125 39.890625 \nQ 22.75 39.890625 18.8125 39.015625 \nQ 14.890625 38.140625 10.796875 36.28125 \nz\n\" id=\"DejaVuSans-53\"/>\n       </defs>\n       <use xlink:href=\"#DejaVuSans-53\"/>\n       <use x=\"63.623047\" xlink:href=\"#DejaVuSans-48\"/>\n       <use x=\"127.246094\" xlink:href=\"#DejaVuSans-48\"/>\n       <use x=\"190.869141\" xlink:href=\"#DejaVuSans-48\"/>\n      </g>\n     </g>\n    </g>\n    <g id=\"xtick_3\">\n     <g id=\"line2d_3\">\n      <g>\n       <use style=\"stroke:#000000;stroke-width:0.8;\" x=\"174.794795\" xlink:href=\"#m704ad56957\" y=\"224.64\"/>\n      </g>\n     </g>\n     <g id=\"text_3\">\n      <!-- 10000 -->\n      <g transform=\"translate(158.888545 239.238437)scale(0.1 -0.1)\">\n       <defs>\n        <path d=\"M 12.40625 8.296875 \nL 28.515625 8.296875 \nL 28.515625 63.921875 \nL 10.984375 60.40625 \nL 10.984375 69.390625 \nL 28.421875 72.90625 \nL 38.28125 72.90625 \nL 38.28125 8.296875 \nL 54.390625 8.296875 \nL 54.390625 0 \nL 12.40625 0 \nz\n\" id=\"DejaVuSans-49\"/>\n       </defs>\n       <use xlink:href=\"#DejaVuSans-49\"/>\n       <use x=\"63.623047\" xlink:href=\"#DejaVuSans-48\"/>\n       <use x=\"127.246094\" xlink:href=\"#DejaVuSans-48\"/>\n       <use x=\"190.869141\" xlink:href=\"#DejaVuSans-48\"/>\n       <use x=\"254.492188\" xlink:href=\"#DejaVuSans-48\"/>\n      </g>\n     </g>\n    </g>\n    <g id=\"xtick_4\">\n     <g id=\"line2d_4\">\n      <g>\n       <use style=\"stroke:#000000;stroke-width:0.8;\" x=\"231.593891\" xlink:href=\"#m704ad56957\" y=\"224.64\"/>\n      </g>\n     </g>\n     <g id=\"text_4\">\n      <!-- 15000 -->\n      <g transform=\"translate(215.687641 239.238437)scale(0.1 -0.1)\">\n       <use xlink:href=\"#DejaVuSans-49\"/>\n       <use x=\"63.623047\" xlink:href=\"#DejaVuSans-53\"/>\n       <use x=\"127.246094\" xlink:href=\"#DejaVuSans-48\"/>\n       <use x=\"190.869141\" xlink:href=\"#DejaVuSans-48\"/>\n       <use x=\"254.492188\" xlink:href=\"#DejaVuSans-48\"/>\n      </g>\n     </g>\n    </g>\n    <g id=\"xtick_5\">\n     <g id=\"line2d_5\">\n      <g>\n       <use style=\"stroke:#000000;stroke-width:0.8;\" x=\"288.392987\" xlink:href=\"#m704ad56957\" y=\"224.64\"/>\n      </g>\n     </g>\n     <g id=\"text_5\">\n      <!-- 20000 -->\n      <g transform=\"translate(272.486737 239.238437)scale(0.1 -0.1)\">\n       <defs>\n        <path d=\"M 19.1875 8.296875 \nL 53.609375 8.296875 \nL 53.609375 0 \nL 7.328125 0 \nL 7.328125 8.296875 \nQ 12.9375 14.109375 22.625 23.890625 \nQ 32.328125 33.6875 34.8125 36.53125 \nQ 39.546875 41.84375 41.421875 45.53125 \nQ 43.3125 49.21875 43.3125 52.78125 \nQ 43.3125 58.59375 39.234375 62.25 \nQ 35.15625 65.921875 28.609375 65.921875 \nQ 23.96875 65.921875 18.8125 64.3125 \nQ 13.671875 62.703125 7.8125 59.421875 \nL 7.8125 69.390625 \nQ 13.765625 71.78125 18.9375 73 \nQ 24.125 74.21875 28.421875 74.21875 \nQ 39.75 74.21875 46.484375 68.546875 \nQ 53.21875 62.890625 53.21875 53.421875 \nQ 53.21875 48.921875 51.53125 44.890625 \nQ 49.859375 40.875 45.40625 35.40625 \nQ 44.1875 33.984375 37.640625 27.21875 \nQ 31.109375 20.453125 19.1875 8.296875 \nz\n\" id=\"DejaVuSans-50\"/>\n       </defs>\n       <use xlink:href=\"#DejaVuSans-50\"/>\n       <use x=\"63.623047\" xlink:href=\"#DejaVuSans-48\"/>\n       <use x=\"127.246094\" xlink:href=\"#DejaVuSans-48\"/>\n       <use x=\"190.869141\" xlink:href=\"#DejaVuSans-48\"/>\n       <use x=\"254.492188\" xlink:href=\"#DejaVuSans-48\"/>\n      </g>\n     </g>\n    </g>\n    <g id=\"xtick_6\">\n     <g id=\"line2d_6\">\n      <g>\n       <use style=\"stroke:#000000;stroke-width:0.8;\" x=\"345.192083\" xlink:href=\"#m704ad56957\" y=\"224.64\"/>\n      </g>\n     </g>\n     <g id=\"text_6\">\n      <!-- 25000 -->\n      <g transform=\"translate(329.285833 239.238437)scale(0.1 -0.1)\">\n       <use xlink:href=\"#DejaVuSans-50\"/>\n       <use x=\"63.623047\" xlink:href=\"#DejaVuSans-53\"/>\n       <use x=\"127.246094\" xlink:href=\"#DejaVuSans-48\"/>\n       <use x=\"190.869141\" xlink:href=\"#DejaVuSans-48\"/>\n       <use x=\"254.492188\" xlink:href=\"#DejaVuSans-48\"/>\n      </g>\n     </g>\n    </g>\n   </g>\n   <g id=\"matplotlib.axis_2\">\n    <g id=\"ytick_1\">\n     <g id=\"line2d_7\">\n      <defs>\n       <path d=\"M 0 0 \nL -3.5 0 \n\" id=\"m24d7886600\" style=\"stroke:#000000;stroke-width:0.8;\"/>\n      </defs>\n      <g>\n       <use style=\"stroke:#000000;stroke-width:0.8;\" x=\"46.0125\" xlink:href=\"#m24d7886600\" y=\"224.64\"/>\n      </g>\n     </g>\n     <g id=\"text_7\">\n      <!-- 0 -->\n      <g transform=\"translate(32.65 228.439219)scale(0.1 -0.1)\">\n       <use xlink:href=\"#DejaVuSans-48\"/>\n      </g>\n     </g>\n    </g>\n    <g id=\"ytick_2\">\n     <g id=\"line2d_8\">\n      <g>\n       <use style=\"stroke:#000000;stroke-width:0.8;\" x=\"46.0125\" xlink:href=\"#m24d7886600\" y=\"186.426663\"/>\n      </g>\n     </g>\n     <g id=\"text_8\">\n      <!-- 5000 -->\n      <g transform=\"translate(13.5625 190.225882)scale(0.1 -0.1)\">\n       <use xlink:href=\"#DejaVuSans-53\"/>\n       <use x=\"63.623047\" xlink:href=\"#DejaVuSans-48\"/>\n       <use x=\"127.246094\" xlink:href=\"#DejaVuSans-48\"/>\n       <use x=\"190.869141\" xlink:href=\"#DejaVuSans-48\"/>\n      </g>\n     </g>\n    </g>\n    <g id=\"ytick_3\">\n     <g id=\"line2d_9\">\n      <g>\n       <use style=\"stroke:#000000;stroke-width:0.8;\" x=\"46.0125\" xlink:href=\"#m24d7886600\" y=\"148.213327\"/>\n      </g>\n     </g>\n     <g id=\"text_9\">\n      <!-- 10000 -->\n      <g transform=\"translate(7.2 152.012545)scale(0.1 -0.1)\">\n       <use xlink:href=\"#DejaVuSans-49\"/>\n       <use x=\"63.623047\" xlink:href=\"#DejaVuSans-48\"/>\n       <use x=\"127.246094\" xlink:href=\"#DejaVuSans-48\"/>\n       <use x=\"190.869141\" xlink:href=\"#DejaVuSans-48\"/>\n       <use x=\"254.492188\" xlink:href=\"#DejaVuSans-48\"/>\n      </g>\n     </g>\n    </g>\n    <g id=\"ytick_4\">\n     <g id=\"line2d_10\">\n      <g>\n       <use style=\"stroke:#000000;stroke-width:0.8;\" x=\"46.0125\" xlink:href=\"#m24d7886600\" y=\"109.99999\"/>\n      </g>\n     </g>\n     <g id=\"text_10\">\n      <!-- 15000 -->\n      <g transform=\"translate(7.2 113.799209)scale(0.1 -0.1)\">\n       <use xlink:href=\"#DejaVuSans-49\"/>\n       <use x=\"63.623047\" xlink:href=\"#DejaVuSans-53\"/>\n       <use x=\"127.246094\" xlink:href=\"#DejaVuSans-48\"/>\n       <use x=\"190.869141\" xlink:href=\"#DejaVuSans-48\"/>\n       <use x=\"254.492188\" xlink:href=\"#DejaVuSans-48\"/>\n      </g>\n     </g>\n    </g>\n    <g id=\"ytick_5\">\n     <g id=\"line2d_11\">\n      <g>\n       <use style=\"stroke:#000000;stroke-width:0.8;\" x=\"46.0125\" xlink:href=\"#m24d7886600\" y=\"71.786653\"/>\n      </g>\n     </g>\n     <g id=\"text_11\">\n      <!-- 20000 -->\n      <g transform=\"translate(7.2 75.585872)scale(0.1 -0.1)\">\n       <use xlink:href=\"#DejaVuSans-50\"/>\n       <use x=\"63.623047\" xlink:href=\"#DejaVuSans-48\"/>\n       <use x=\"127.246094\" xlink:href=\"#DejaVuSans-48\"/>\n       <use x=\"190.869141\" xlink:href=\"#DejaVuSans-48\"/>\n       <use x=\"254.492188\" xlink:href=\"#DejaVuSans-48\"/>\n      </g>\n     </g>\n    </g>\n    <g id=\"ytick_6\">\n     <g id=\"line2d_12\">\n      <g>\n       <use style=\"stroke:#000000;stroke-width:0.8;\" x=\"46.0125\" xlink:href=\"#m24d7886600\" y=\"33.573316\"/>\n      </g>\n     </g>\n     <g id=\"text_12\">\n      <!-- 25000 -->\n      <g transform=\"translate(7.2 37.372535)scale(0.1 -0.1)\">\n       <use xlink:href=\"#DejaVuSans-50\"/>\n       <use x=\"63.623047\" xlink:href=\"#DejaVuSans-53\"/>\n       <use x=\"127.246094\" xlink:href=\"#DejaVuSans-48\"/>\n       <use x=\"190.869141\" xlink:href=\"#DejaVuSans-48\"/>\n       <use x=\"254.492188\" xlink:href=\"#DejaVuSans-48\"/>\n      </g>\n     </g>\n    </g>\n   </g>\n   <g id=\"patch_23\">\n    <path d=\"M 46.0125 224.64 \nL 46.0125 7.2 \n\" style=\"fill:none;stroke:#000000;stroke-linecap:square;stroke-linejoin:miter;stroke-width:0.8;\"/>\n   </g>\n   <g id=\"patch_24\">\n    <path d=\"M 380.8125 224.64 \nL 380.8125 7.2 \n\" style=\"fill:none;stroke:#000000;stroke-linecap:square;stroke-linejoin:miter;stroke-width:0.8;\"/>\n   </g>\n   <g id=\"patch_25\">\n    <path d=\"M 46.0125 224.64 \nL 380.8125 224.64 \n\" style=\"fill:none;stroke:#000000;stroke-linecap:square;stroke-linejoin:miter;stroke-width:0.8;\"/>\n   </g>\n   <g id=\"patch_26\">\n    <path d=\"M 46.0125 7.2 \nL 380.8125 7.2 \n\" style=\"fill:none;stroke:#000000;stroke-linecap:square;stroke-linejoin:miter;stroke-width:0.8;\"/>\n   </g>\n  </g>\n </g>\n <defs>\n  <clipPath id=\"p821976e15f\">\n   <rect height=\"217.44\" width=\"334.8\" x=\"46.0125\" y=\"7.2\"/>\n  </clipPath>\n </defs>\n</svg>\n",
      "image/png": "[encoded data removed]"
     },
     "metadata": {
      "needs_background": "light"
     }
    }
   ],
   "source": [
    "values = [int(v) for v in cfg_number_of_nodes.values()]\n",
    "print(f\"\"\"CFG Graphs. Statistics from {len(values)} applications:\n",
    "    Min value: {min(values)}\n",
    "    Max value: {max(values)}\n",
    "    Average: {np.average(values)}\n",
    "    Stdev: {np.std(values)}\n",
    "    Mean: {np.mean(values)}\n",
    "    25th percentile: {np.percentile(values, 25)}\n",
    "    Median: {np.median(values)}\n",
    "    75th percentile: {np.percentile(values, 75)}\n",
    "    95th percentile: {np.percentile(values, 95)}\"\"\")\n",
    "\n",
    "plt.hist(values, 20)"
   ]
  },
  {
   "cell_type": "code",
   "execution_count": 5,
   "metadata": {},
   "outputs": [
    {
     "output_type": "stream",
     "name": "stdout",
     "text": [
      "CDFG Graphs. Statistics from 29984 applications:\n    Min value: 38\n    Max value: 472890\n    Average: 10924.06423425827\n    Stdev: 35517.21571679414\n    Mean: 10924.06423425827\n    25th percentile: 616.0\n    Median: 1504.5\n    75th percentile: 4881.25\n    95th percentile: 58074.69999999997\n"
     ]
    },
    {
     "output_type": "execute_result",
     "data": {
      "text/plain": [
       "(array([2.7535e+04, 9.0300e+02, 2.3400e+02, 5.2600e+02, 1.6200e+02,\n",
       "        7.4000e+01, 9.3000e+01, 1.2100e+02, 7.7000e+01, 3.0000e+01,\n",
       "        5.8000e+01, 5.2000e+01, 2.1000e+01, 3.8000e+01, 2.1000e+01,\n",
       "        1.5000e+01, 6.0000e+00, 1.1000e+01, 4.0000e+00, 3.0000e+00]),\n",
       " array([3.800000e+01, 2.368060e+04, 4.732320e+04, 7.096580e+04,\n",
       "        9.460840e+04, 1.182510e+05, 1.418936e+05, 1.655362e+05,\n",
       "        1.891788e+05, 2.128214e+05, 2.364640e+05, 2.601066e+05,\n",
       "        2.837492e+05, 3.073918e+05, 3.310344e+05, 3.546770e+05,\n",
       "        3.783196e+05, 4.019622e+05, 4.256048e+05, 4.492474e+05,\n",
       "        4.728900e+05]),\n",
       " <BarContainer object of 20 artists>)"
      ]
     },
     "metadata": {},
     "execution_count": 5
    },
    {
     "output_type": "display_data",
     "data": {
      "text/plain": "<Figure size 432x288 with 1 Axes>",
      "image/svg+xml": "<?xml version=\"1.0\" encoding=\"utf-8\" standalone=\"no\"?>\n<!DOCTYPE svg PUBLIC \"-//W3C//DTD SVG 1.1//EN\"\n  \"http://www.w3.org/Graphics/SVG/1.1/DTD/svg11.dtd\">\n<!-- Created with matplotlib (https://matplotlib.org/) -->\n<svg height=\"248.518125pt\" version=\"1.1\" viewBox=\"0 0 388.0125 248.518125\" width=\"388.0125pt\" xmlns=\"http://www.w3.org/2000/svg\" xmlns:xlink=\"http://www.w3.org/1999/xlink\">\n <metadata>\n  <rdf:RDF xmlns:cc=\"http://creativecommons.org/ns#\" xmlns:dc=\"http://purl.org/dc/elements/1.1/\" xmlns:rdf=\"http://www.w3.org/1999/02/22-rdf-syntax-ns#\">\n   <cc:Work>\n    <dc:type rdf:resource=\"http://purl.org/dc/dcmitype/StillImage\"/>\n    <dc:date>2021-03-18T19:00:22.442709</dc:date>\n    <dc:format>image/svg+xml</dc:format>\n    <dc:creator>\n     <cc:Agent>\n      <dc:title>Matplotlib v3.3.4, https://matplotlib.org/</dc:title>\n     </cc:Agent>\n    </dc:creator>\n   </cc:Work>\n  </rdf:RDF>\n </metadata>\n <defs>\n  <style type=\"text/css\">*{stroke-linecap:butt;stroke-linejoin:round;}</style>\n </defs>\n <g id=\"figure_1\">\n  <g id=\"patch_1\">\n   <path d=\"M 0 248.518125 \nL 388.0125 248.518125 \nL 388.0125 0 \nL 0 0 \nz\n\" style=\"fill:none;\"/>\n  </g>\n  <g id=\"axes_1\">\n   <g id=\"patch_2\">\n    <path d=\"M 46.0125 224.64 \nL 380.8125 224.64 \nL 380.8125 7.2 \nL 46.0125 7.2 \nz\n\" style=\"fill:#ffffff;\"/>\n   </g>\n   <g id=\"patch_3\">\n    <path clip-path=\"url(#pa639612fea)\" d=\"M 61.230682 224.64 \nL 76.448864 224.64 \nL 76.448864 17.554286 \nL 61.230682 17.554286 \nz\n\" style=\"fill:#1f77b4;\"/>\n   </g>\n   <g id=\"patch_4\">\n    <path clip-path=\"url(#pa639612fea)\" d=\"M 76.448864 224.64 \nL 91.667045 224.64 \nL 91.667045 217.848702 \nL 76.448864 217.848702 \nz\n\" style=\"fill:#1f77b4;\"/>\n   </g>\n   <g id=\"patch_5\">\n    <path clip-path=\"url(#pa639612fea)\" d=\"M 91.667045 224.64 \nL 106.885227 224.64 \nL 106.885227 222.880129 \nL 91.667045 222.880129 \nz\n\" style=\"fill:#1f77b4;\"/>\n   </g>\n   <g id=\"patch_6\">\n    <path clip-path=\"url(#pa639612fea)\" d=\"M 106.885227 224.64 \nL 122.103409 224.64 \nL 122.103409 220.68405 \nL 106.885227 220.68405 \nz\n\" style=\"fill:#1f77b4;\"/>\n   </g>\n   <g id=\"patch_7\">\n    <path clip-path=\"url(#pa639612fea)\" d=\"M 122.103409 224.64 \nL 137.321591 224.64 \nL 137.321591 223.421628 \nL 122.103409 223.421628 \nz\n\" style=\"fill:#1f77b4;\"/>\n   </g>\n   <g id=\"patch_8\">\n    <path clip-path=\"url(#pa639612fea)\" d=\"M 137.321591 224.64 \nL 152.539773 224.64 \nL 152.539773 224.083459 \nL 137.321591 224.083459 \nz\n\" style=\"fill:#1f77b4;\"/>\n   </g>\n   <g id=\"patch_9\">\n    <path clip-path=\"url(#pa639612fea)\" d=\"M 152.539773 224.64 \nL 167.757955 224.64 \nL 167.757955 223.940564 \nL 152.539773 223.940564 \nz\n\" style=\"fill:#1f77b4;\"/>\n   </g>\n   <g id=\"patch_10\">\n    <path clip-path=\"url(#pa639612fea)\" d=\"M 167.757955 224.64 \nL 182.976136 224.64 \nL 182.976136 223.729981 \nL 167.757955 223.729981 \nz\n\" style=\"fill:#1f77b4;\"/>\n   </g>\n   <g id=\"patch_11\">\n    <path clip-path=\"url(#pa639612fea)\" d=\"M 182.976136 224.64 \nL 198.194318 224.64 \nL 198.194318 224.060897 \nL 182.976136 224.060897 \nz\n\" style=\"fill:#1f77b4;\"/>\n   </g>\n   <g id=\"patch_12\">\n    <path clip-path=\"url(#pa639612fea)\" d=\"M 198.194318 224.64 \nL 213.4125 224.64 \nL 213.4125 224.414375 \nL 198.194318 224.414375 \nz\n\" style=\"fill:#1f77b4;\"/>\n   </g>\n   <g id=\"patch_13\">\n    <path clip-path=\"url(#pa639612fea)\" d=\"M 213.4125 224.64 \nL 228.630682 224.64 \nL 228.630682 224.203793 \nL 213.4125 224.203793 \nz\n\" style=\"fill:#1f77b4;\"/>\n   </g>\n   <g id=\"patch_14\">\n    <path clip-path=\"url(#pa639612fea)\" d=\"M 228.630682 224.64 \nL 243.848864 224.64 \nL 243.848864 224.248917 \nL 228.630682 224.248917 \nz\n\" style=\"fill:#1f77b4;\"/>\n   </g>\n   <g id=\"patch_15\">\n    <path clip-path=\"url(#pa639612fea)\" d=\"M 243.848864 224.64 \nL 259.067045 224.64 \nL 259.067045 224.482063 \nL 243.848864 224.482063 \nz\n\" style=\"fill:#1f77b4;\"/>\n   </g>\n   <g id=\"patch_16\">\n    <path clip-path=\"url(#pa639612fea)\" d=\"M 259.067045 224.64 \nL 274.285227 224.64 \nL 274.285227 224.354209 \nL 259.067045 224.354209 \nz\n\" style=\"fill:#1f77b4;\"/>\n   </g>\n   <g id=\"patch_17\">\n    <path clip-path=\"url(#pa639612fea)\" d=\"M 274.285227 224.64 \nL 289.503409 224.64 \nL 289.503409 224.482063 \nL 274.285227 224.482063 \nz\n\" style=\"fill:#1f77b4;\"/>\n   </g>\n   <g id=\"patch_18\">\n    <path clip-path=\"url(#pa639612fea)\" d=\"M 289.503409 224.64 \nL 304.721591 224.64 \nL 304.721591 224.527188 \nL 289.503409 224.527188 \nz\n\" style=\"fill:#1f77b4;\"/>\n   </g>\n   <g id=\"patch_19\">\n    <path clip-path=\"url(#pa639612fea)\" d=\"M 304.721591 224.64 \nL 319.939773 224.64 \nL 319.939773 224.594875 \nL 304.721591 224.594875 \nz\n\" style=\"fill:#1f77b4;\"/>\n   </g>\n   <g id=\"patch_20\">\n    <path clip-path=\"url(#pa639612fea)\" d=\"M 319.939773 224.64 \nL 335.157955 224.64 \nL 335.157955 224.557271 \nL 319.939773 224.557271 \nz\n\" style=\"fill:#1f77b4;\"/>\n   </g>\n   <g id=\"patch_21\">\n    <path clip-path=\"url(#pa639612fea)\" d=\"M 335.157955 224.64 \nL 350.376136 224.64 \nL 350.376136 224.609917 \nL 335.157955 224.609917 \nz\n\" style=\"fill:#1f77b4;\"/>\n   </g>\n   <g id=\"patch_22\">\n    <path clip-path=\"url(#pa639612fea)\" d=\"M 350.376136 224.64 \nL 365.594318 224.64 \nL 365.594318 224.617438 \nL 350.376136 224.617438 \nz\n\" style=\"fill:#1f77b4;\"/>\n   </g>\n   <g id=\"matplotlib.axis_1\">\n    <g id=\"xtick_1\">\n     <g id=\"line2d_1\">\n      <defs>\n       <path d=\"M 0 0 \nL 0 3.5 \n\" id=\"m0485ca567d\" style=\"stroke:#000000;stroke-width:0.8;\"/>\n      </defs>\n      <g>\n       <use style=\"stroke:#000000;stroke-width:0.8;\" x=\"61.206222\" xlink:href=\"#m0485ca567d\" y=\"224.64\"/>\n      </g>\n     </g>\n     <g id=\"text_1\">\n      <!-- 0 -->\n      <g transform=\"translate(58.024972 239.238437)scale(0.1 -0.1)\">\n       <defs>\n        <path d=\"M 31.78125 66.40625 \nQ 24.171875 66.40625 20.328125 58.90625 \nQ 16.5 51.421875 16.5 36.375 \nQ 16.5 21.390625 20.328125 13.890625 \nQ 24.171875 6.390625 31.78125 6.390625 \nQ 39.453125 6.390625 43.28125 13.890625 \nQ 47.125 21.390625 47.125 36.375 \nQ 47.125 51.421875 43.28125 58.90625 \nQ 39.453125 66.40625 31.78125 66.40625 \nz\nM 31.78125 74.21875 \nQ 44.046875 74.21875 50.515625 64.515625 \nQ 56.984375 54.828125 56.984375 36.375 \nQ 56.984375 17.96875 50.515625 8.265625 \nQ 44.046875 -1.421875 31.78125 -1.421875 \nQ 19.53125 -1.421875 13.0625 8.265625 \nQ 6.59375 17.96875 6.59375 36.375 \nQ 6.59375 54.828125 13.0625 64.515625 \nQ 19.53125 74.21875 31.78125 74.21875 \nz\n\" id=\"DejaVuSans-48\"/>\n       </defs>\n       <use xlink:href=\"#DejaVuSans-48\"/>\n      </g>\n     </g>\n    </g>\n    <g id=\"xtick_2\">\n     <g id=\"line2d_2\">\n      <g>\n       <use style=\"stroke:#000000;stroke-width:0.8;\" x=\"125.573854\" xlink:href=\"#m0485ca567d\" y=\"224.64\"/>\n      </g>\n     </g>\n     <g id=\"text_2\">\n      <!-- 100000 -->\n      <g transform=\"translate(106.486354 239.238437)scale(0.1 -0.1)\">\n       <defs>\n        <path d=\"M 12.40625 8.296875 \nL 28.515625 8.296875 \nL 28.515625 63.921875 \nL 10.984375 60.40625 \nL 10.984375 69.390625 \nL 28.421875 72.90625 \nL 38.28125 72.90625 \nL 38.28125 8.296875 \nL 54.390625 8.296875 \nL 54.390625 0 \nL 12.40625 0 \nz\n\" id=\"DejaVuSans-49\"/>\n       </defs>\n       <use xlink:href=\"#DejaVuSans-49\"/>\n       <use x=\"63.623047\" xlink:href=\"#DejaVuSans-48\"/>\n       <use x=\"127.246094\" xlink:href=\"#DejaVuSans-48\"/>\n       <use x=\"190.869141\" xlink:href=\"#DejaVuSans-48\"/>\n       <use x=\"254.492188\" xlink:href=\"#DejaVuSans-48\"/>\n       <use x=\"318.115234\" xlink:href=\"#DejaVuSans-48\"/>\n      </g>\n     </g>\n    </g>\n    <g id=\"xtick_3\">\n     <g id=\"line2d_3\">\n      <g>\n       <use style=\"stroke:#000000;stroke-width:0.8;\" x=\"189.941487\" xlink:href=\"#m0485ca567d\" y=\"224.64\"/>\n      </g>\n     </g>\n     <g id=\"text_3\">\n      <!-- 200000 -->\n      <g transform=\"translate(170.853987 239.238437)scale(0.1 -0.1)\">\n       <defs>\n        <path d=\"M 19.1875 8.296875 \nL 53.609375 8.296875 \nL 53.609375 0 \nL 7.328125 0 \nL 7.328125 8.296875 \nQ 12.9375 14.109375 22.625 23.890625 \nQ 32.328125 33.6875 34.8125 36.53125 \nQ 39.546875 41.84375 41.421875 45.53125 \nQ 43.3125 49.21875 43.3125 52.78125 \nQ 43.3125 58.59375 39.234375 62.25 \nQ 35.15625 65.921875 28.609375 65.921875 \nQ 23.96875 65.921875 18.8125 64.3125 \nQ 13.671875 62.703125 7.8125 59.421875 \nL 7.8125 69.390625 \nQ 13.765625 71.78125 18.9375 73 \nQ 24.125 74.21875 28.421875 74.21875 \nQ 39.75 74.21875 46.484375 68.546875 \nQ 53.21875 62.890625 53.21875 53.421875 \nQ 53.21875 48.921875 51.53125 44.890625 \nQ 49.859375 40.875 45.40625 35.40625 \nQ 44.1875 33.984375 37.640625 27.21875 \nQ 31.109375 20.453125 19.1875 8.296875 \nz\n\" id=\"DejaVuSans-50\"/>\n       </defs>\n       <use xlink:href=\"#DejaVuSans-50\"/>\n       <use x=\"63.623047\" xlink:href=\"#DejaVuSans-48\"/>\n       <use x=\"127.246094\" xlink:href=\"#DejaVuSans-48\"/>\n       <use x=\"190.869141\" xlink:href=\"#DejaVuSans-48\"/>\n       <use x=\"254.492188\" xlink:href=\"#DejaVuSans-48\"/>\n       <use x=\"318.115234\" xlink:href=\"#DejaVuSans-48\"/>\n      </g>\n     </g>\n    </g>\n    <g id=\"xtick_4\">\n     <g id=\"line2d_4\">\n      <g>\n       <use style=\"stroke:#000000;stroke-width:0.8;\" x=\"254.309119\" xlink:href=\"#m0485ca567d\" y=\"224.64\"/>\n      </g>\n     </g>\n     <g id=\"text_4\">\n      <!-- 300000 -->\n      <g transform=\"translate(235.221619 239.238437)scale(0.1 -0.1)\">\n       <defs>\n        <path d=\"M 40.578125 39.3125 \nQ 47.65625 37.796875 51.625 33 \nQ 55.609375 28.21875 55.609375 21.1875 \nQ 55.609375 10.40625 48.1875 4.484375 \nQ 40.765625 -1.421875 27.09375 -1.421875 \nQ 22.515625 -1.421875 17.65625 -0.515625 \nQ 12.796875 0.390625 7.625 2.203125 \nL 7.625 11.71875 \nQ 11.71875 9.328125 16.59375 8.109375 \nQ 21.484375 6.890625 26.8125 6.890625 \nQ 36.078125 6.890625 40.9375 10.546875 \nQ 45.796875 14.203125 45.796875 21.1875 \nQ 45.796875 27.640625 41.28125 31.265625 \nQ 36.765625 34.90625 28.71875 34.90625 \nL 20.21875 34.90625 \nL 20.21875 43.015625 \nL 29.109375 43.015625 \nQ 36.375 43.015625 40.234375 45.921875 \nQ 44.09375 48.828125 44.09375 54.296875 \nQ 44.09375 59.90625 40.109375 62.90625 \nQ 36.140625 65.921875 28.71875 65.921875 \nQ 24.65625 65.921875 20.015625 65.03125 \nQ 15.375 64.15625 9.8125 62.3125 \nL 9.8125 71.09375 \nQ 15.4375 72.65625 20.34375 73.4375 \nQ 25.25 74.21875 29.59375 74.21875 \nQ 40.828125 74.21875 47.359375 69.109375 \nQ 53.90625 64.015625 53.90625 55.328125 \nQ 53.90625 49.265625 50.4375 45.09375 \nQ 46.96875 40.921875 40.578125 39.3125 \nz\n\" id=\"DejaVuSans-51\"/>\n       </defs>\n       <use xlink:href=\"#DejaVuSans-51\"/>\n       <use x=\"63.623047\" xlink:href=\"#DejaVuSans-48\"/>\n       <use x=\"127.246094\" xlink:href=\"#DejaVuSans-48\"/>\n       <use x=\"190.869141\" xlink:href=\"#DejaVuSans-48\"/>\n       <use x=\"254.492188\" xlink:href=\"#DejaVuSans-48\"/>\n       <use x=\"318.115234\" xlink:href=\"#DejaVuSans-48\"/>\n      </g>\n     </g>\n    </g>\n    <g id=\"xtick_5\">\n     <g id=\"line2d_5\">\n      <g>\n       <use style=\"stroke:#000000;stroke-width:0.8;\" x=\"318.676751\" xlink:href=\"#m0485ca567d\" y=\"224.64\"/>\n      </g>\n     </g>\n     <g id=\"text_5\">\n      <!-- 400000 -->\n      <g transform=\"translate(299.589251 239.238437)scale(0.1 -0.1)\">\n       <defs>\n        <path d=\"M 37.796875 64.3125 \nL 12.890625 25.390625 \nL 37.796875 25.390625 \nz\nM 35.203125 72.90625 \nL 47.609375 72.90625 \nL 47.609375 25.390625 \nL 58.015625 25.390625 \nL 58.015625 17.1875 \nL 47.609375 17.1875 \nL 47.609375 0 \nL 37.796875 0 \nL 37.796875 17.1875 \nL 4.890625 17.1875 \nL 4.890625 26.703125 \nz\n\" id=\"DejaVuSans-52\"/>\n       </defs>\n       <use xlink:href=\"#DejaVuSans-52\"/>\n       <use x=\"63.623047\" xlink:href=\"#DejaVuSans-48\"/>\n       <use x=\"127.246094\" xlink:href=\"#DejaVuSans-48\"/>\n       <use x=\"190.869141\" xlink:href=\"#DejaVuSans-48\"/>\n       <use x=\"254.492188\" xlink:href=\"#DejaVuSans-48\"/>\n       <use x=\"318.115234\" xlink:href=\"#DejaVuSans-48\"/>\n      </g>\n     </g>\n    </g>\n   </g>\n   <g id=\"matplotlib.axis_2\">\n    <g id=\"ytick_1\">\n     <g id=\"line2d_6\">\n      <defs>\n       <path d=\"M 0 0 \nL -3.5 0 \n\" id=\"m0caa3a2850\" style=\"stroke:#000000;stroke-width:0.8;\"/>\n      </defs>\n      <g>\n       <use style=\"stroke:#000000;stroke-width:0.8;\" x=\"46.0125\" xlink:href=\"#m0caa3a2850\" y=\"224.64\"/>\n      </g>\n     </g>\n     <g id=\"text_6\">\n      <!-- 0 -->\n      <g transform=\"translate(32.65 228.439219)scale(0.1 -0.1)\">\n       <use xlink:href=\"#DejaVuSans-48\"/>\n      </g>\n     </g>\n    </g>\n    <g id=\"ytick_2\">\n     <g id=\"line2d_7\">\n      <g>\n       <use style=\"stroke:#000000;stroke-width:0.8;\" x=\"46.0125\" xlink:href=\"#m0caa3a2850\" y=\"187.035912\"/>\n      </g>\n     </g>\n     <g id=\"text_7\">\n      <!-- 5000 -->\n      <g transform=\"translate(13.5625 190.83513)scale(0.1 -0.1)\">\n       <defs>\n        <path d=\"M 10.796875 72.90625 \nL 49.515625 72.90625 \nL 49.515625 64.59375 \nL 19.828125 64.59375 \nL 19.828125 46.734375 \nQ 21.96875 47.46875 24.109375 47.828125 \nQ 26.265625 48.1875 28.421875 48.1875 \nQ 40.625 48.1875 47.75 41.5 \nQ 54.890625 34.8125 54.890625 23.390625 \nQ 54.890625 11.625 47.5625 5.09375 \nQ 40.234375 -1.421875 26.90625 -1.421875 \nQ 22.3125 -1.421875 17.546875 -0.640625 \nQ 12.796875 0.140625 7.71875 1.703125 \nL 7.71875 11.625 \nQ 12.109375 9.234375 16.796875 8.0625 \nQ 21.484375 6.890625 26.703125 6.890625 \nQ 35.15625 6.890625 40.078125 11.328125 \nQ 45.015625 15.765625 45.015625 23.390625 \nQ 45.015625 31 40.078125 35.4375 \nQ 35.15625 39.890625 26.703125 39.890625 \nQ 22.75 39.890625 18.8125 39.015625 \nQ 14.890625 38.140625 10.796875 36.28125 \nz\n\" id=\"DejaVuSans-53\"/>\n       </defs>\n       <use xlink:href=\"#DejaVuSans-53\"/>\n       <use x=\"63.623047\" xlink:href=\"#DejaVuSans-48\"/>\n       <use x=\"127.246094\" xlink:href=\"#DejaVuSans-48\"/>\n       <use x=\"190.869141\" xlink:href=\"#DejaVuSans-48\"/>\n      </g>\n     </g>\n    </g>\n    <g id=\"ytick_3\">\n     <g id=\"line2d_8\">\n      <g>\n       <use style=\"stroke:#000000;stroke-width:0.8;\" x=\"46.0125\" xlink:href=\"#m0caa3a2850\" y=\"149.431823\"/>\n      </g>\n     </g>\n     <g id=\"text_8\">\n      <!-- 10000 -->\n      <g transform=\"translate(7.2 153.231042)scale(0.1 -0.1)\">\n       <use xlink:href=\"#DejaVuSans-49\"/>\n       <use x=\"63.623047\" xlink:href=\"#DejaVuSans-48\"/>\n       <use x=\"127.246094\" xlink:href=\"#DejaVuSans-48\"/>\n       <use x=\"190.869141\" xlink:href=\"#DejaVuSans-48\"/>\n       <use x=\"254.492188\" xlink:href=\"#DejaVuSans-48\"/>\n      </g>\n     </g>\n    </g>\n    <g id=\"ytick_4\">\n     <g id=\"line2d_9\">\n      <g>\n       <use style=\"stroke:#000000;stroke-width:0.8;\" x=\"46.0125\" xlink:href=\"#m0caa3a2850\" y=\"111.827735\"/>\n      </g>\n     </g>\n     <g id=\"text_9\">\n      <!-- 15000 -->\n      <g transform=\"translate(7.2 115.626954)scale(0.1 -0.1)\">\n       <use xlink:href=\"#DejaVuSans-49\"/>\n       <use x=\"63.623047\" xlink:href=\"#DejaVuSans-53\"/>\n       <use x=\"127.246094\" xlink:href=\"#DejaVuSans-48\"/>\n       <use x=\"190.869141\" xlink:href=\"#DejaVuSans-48\"/>\n       <use x=\"254.492188\" xlink:href=\"#DejaVuSans-48\"/>\n      </g>\n     </g>\n    </g>\n    <g id=\"ytick_5\">\n     <g id=\"line2d_10\">\n      <g>\n       <use style=\"stroke:#000000;stroke-width:0.8;\" x=\"46.0125\" xlink:href=\"#m0caa3a2850\" y=\"74.223647\"/>\n      </g>\n     </g>\n     <g id=\"text_10\">\n      <!-- 20000 -->\n      <g transform=\"translate(7.2 78.022866)scale(0.1 -0.1)\">\n       <use xlink:href=\"#DejaVuSans-50\"/>\n       <use x=\"63.623047\" xlink:href=\"#DejaVuSans-48\"/>\n       <use x=\"127.246094\" xlink:href=\"#DejaVuSans-48\"/>\n       <use x=\"190.869141\" xlink:href=\"#DejaVuSans-48\"/>\n       <use x=\"254.492188\" xlink:href=\"#DejaVuSans-48\"/>\n      </g>\n     </g>\n    </g>\n    <g id=\"ytick_6\">\n     <g id=\"line2d_11\">\n      <g>\n       <use style=\"stroke:#000000;stroke-width:0.8;\" x=\"46.0125\" xlink:href=\"#m0caa3a2850\" y=\"36.619558\"/>\n      </g>\n     </g>\n     <g id=\"text_11\">\n      <!-- 25000 -->\n      <g transform=\"translate(7.2 40.418777)scale(0.1 -0.1)\">\n       <use xlink:href=\"#DejaVuSans-50\"/>\n       <use x=\"63.623047\" xlink:href=\"#DejaVuSans-53\"/>\n       <use x=\"127.246094\" xlink:href=\"#DejaVuSans-48\"/>\n       <use x=\"190.869141\" xlink:href=\"#DejaVuSans-48\"/>\n       <use x=\"254.492188\" xlink:href=\"#DejaVuSans-48\"/>\n      </g>\n     </g>\n    </g>\n   </g>\n   <g id=\"patch_23\">\n    <path d=\"M 46.0125 224.64 \nL 46.0125 7.2 \n\" style=\"fill:none;stroke:#000000;stroke-linecap:square;stroke-linejoin:miter;stroke-width:0.8;\"/>\n   </g>\n   <g id=\"patch_24\">\n    <path d=\"M 380.8125 224.64 \nL 380.8125 7.2 \n\" style=\"fill:none;stroke:#000000;stroke-linecap:square;stroke-linejoin:miter;stroke-width:0.8;\"/>\n   </g>\n   <g id=\"patch_25\">\n    <path d=\"M 46.0125 224.64 \nL 380.8125 224.64 \n\" style=\"fill:none;stroke:#000000;stroke-linecap:square;stroke-linejoin:miter;stroke-width:0.8;\"/>\n   </g>\n   <g id=\"patch_26\">\n    <path d=\"M 46.0125 7.2 \nL 380.8125 7.2 \n\" style=\"fill:none;stroke:#000000;stroke-linecap:square;stroke-linejoin:miter;stroke-width:0.8;\"/>\n   </g>\n  </g>\n </g>\n <defs>\n  <clipPath id=\"pa639612fea\">\n   <rect height=\"217.44\" width=\"334.8\" x=\"46.0125\" y=\"7.2\"/>\n  </clipPath>\n </defs>\n</svg>\n",
      "image/png": "[encoded data removed]"
     },
     "metadata": {
      "needs_background": "light"
     }
    }
   ],
   "source": [
    "values = [int(v) for v in cdfg_number_of_nodes.values()]\n",
    "print(f\"\"\"CDFG Graphs. Statistics from {len(values)} applications:\n",
    "    Min value: {min(values)}\n",
    "    Max value: {max(values)}\n",
    "    Average: {np.average(values)}\n",
    "    Stdev: {np.std(values)}\n",
    "    Mean: {np.mean(values)}\n",
    "    25th percentile: {np.percentile(values, 25)}\n",
    "    Median: {np.median(values)}\n",
    "    75th percentile: {np.percentile(values, 75)}\n",
    "    95th percentile: {np.percentile(values, 95)}\"\"\")\n",
    "\n",
    "plt.hist(values, 20)"
   ]
  },
  {
   "source": [
    "Now we are going to group all CFGs and CFGs files by its applications and optimization sequences\n",
    "We going to have a dictionary, like this example:\n",
    "\n",
    "{\n",
    "\n",
    "    application_1: {\n",
    "\n",
    "        sequence_0: {\n",
    "\n",
    "            cfg_file: '/path/to/cfg/file'\n",
    "\n",
    "            number_cfg_nodes: 10\n",
    "\n",
    "            cdfg_file: '/path/to/cdfg/file'\n",
    "\n",
    "            number_cdfg_nodes: 20\n",
    "\n",
    "            exectime: 1.234\n",
    "\n",
    "        }\n",
    "\n",
    "        sequence_1: {\n",
    "            \n",
    "            cfg_file: '/path/to/cfg/file'\n",
    "\n",
    "            number_cfg_nodes: 15\n",
    "\n",
    "            cdfg_file: '/path/to/cdfg/file'\n",
    "\n",
    "            number_cdfg_nodes: 22\n",
    "\n",
    "            exectime: 0.987\n",
    "\n",
    "        }\n",
    "\n",
    "    }\n",
    "\n",
    "    application_2: {...}\n",
    "    \n",
    " }\n",
    "\n",
    "This information is used to generate inputs to GNN and is saved to './data/ccpe-applications-information.yaml'"
   ],
   "cell_type": "markdown",
   "metadata": {}
  },
  {
   "cell_type": "code",
   "execution_count": 6,
   "metadata": {
    "tags": [
     "outputPrepend"
    ]
   },
   "outputs": [
    {
     "output_type": "display_data",
     "data": {
      "text/plain": "Applications processed:   0%|          | 0/302 [00:00<?, ?it/s]",
      "application/vnd.jupyter.widget-view+json": {
       "version_major": 2,
       "version_minor": 0,
       "model_id": "880a75108b0c40859cea69104cf45568"
      }
     },
     "metadata": {}
    },
    {
     "output_type": "stream",
     "name": "stdout",
     "text": [
      "g..\n",
      "CFG from application MiBench.automotive-qsort.0 with optimization sequence 22 does not exists. Skipping..\n",
      "CFG from application MiBench.automotive-qsort.0 with optimization sequence 23 does not exists. Skipping..\n",
      "CFG from application MiBench.automotive-qsort.0 with optimization sequence 24 does not exists. Skipping..\n",
      "CFG from application MiBench.automotive-qsort.0 with optimization sequence 25 does not exists. Skipping..\n",
      "CFG from application MiBench.automotive-qsort.0 with optimization sequence 26 does not exists. Skipping..\n",
      "CFG from application MiBench.automotive-qsort.0 with optimization sequence 27 does not exists. Skipping..\n",
      "CFG from application MiBench.automotive-qsort.0 with optimization sequence 28 does not exists. Skipping..\n",
      "CFG from application MiBench.automotive-qsort.0 with optimization sequence 29 does not exists. Skipping..\n",
      "CFG from application MiBench.automotive-qsort.0 with optimization sequence 30 does not exists. Skipping..\n",
      "CFG from application MiBench.automotive-qsort.0 with optimization sequence 31 does not exists. Skipping..\n",
      "CFG from application MiBench.automotive-qsort.0 with optimization sequence 32 does not exists. Skipping..\n",
      "CFG from application MiBench.automotive-qsort.0 with optimization sequence 33 does not exists. Skipping..\n",
      "CFG from application MiBench.automotive-qsort.0 with optimization sequence 34 does not exists. Skipping..\n",
      "CFG from application MiBench.automotive-qsort.0 with optimization sequence 35 does not exists. Skipping..\n",
      "CFG from application MiBench.automotive-qsort.0 with optimization sequence 36 does not exists. Skipping..\n",
      "CFG from application MiBench.automotive-qsort.0 with optimization sequence 37 does not exists. Skipping..\n",
      "CFG from application MiBench.automotive-qsort.0 with optimization sequence 38 does not exists. Skipping..\n",
      "CFG from application MiBench.automotive-qsort.0 with optimization sequence 39 does not exists. Skipping..\n",
      "CFG from application MiBench.automotive-qsort.0 with optimization sequence 40 does not exists. Skipping..\n",
      "CFG from application MiBench.automotive-qsort.0 with optimization sequence 41 does not exists. Skipping..\n",
      "CFG from application MiBench.automotive-qsort.0 with optimization sequence 42 does not exists. Skipping..\n",
      "CFG from application MiBench.automotive-qsort.0 with optimization sequence 43 does not exists. Skipping..\n",
      "CFG from application MiBench.automotive-qsort.0 with optimization sequence 44 does not exists. Skipping..\n",
      "CFG from application MiBench.automotive-qsort.0 with optimization sequence 45 does not exists. Skipping..\n",
      "CFG from application MiBench.automotive-qsort.0 with optimization sequence 46 does not exists. Skipping..\n",
      "CFG from application MiBench.automotive-qsort.0 with optimization sequence 47 does not exists. Skipping..\n",
      "CFG from application MiBench.automotive-qsort.0 with optimization sequence 48 does not exists. Skipping..\n",
      "CFG from application MiBench.automotive-qsort.0 with optimization sequence 49 does not exists. Skipping..\n",
      "CFG from application MiBench.automotive-qsort.0 with optimization sequence 50 does not exists. Skipping..\n",
      "CFG from application MiBench.automotive-qsort.0 with optimization sequence 51 does not exists. Skipping..\n",
      "CFG from application MiBench.automotive-qsort.0 with optimization sequence 52 does not exists. Skipping..\n",
      "CFG from application MiBench.automotive-qsort.0 with optimization sequence 53 does not exists. Skipping..\n",
      "CFG from application MiBench.automotive-qsort.0 with optimization sequence 54 does not exists. Skipping..\n",
      "CFG from application MiBench.automotive-qsort.0 with optimization sequence 55 does not exists. Skipping..\n",
      "CFG from application MiBench.automotive-qsort.0 with optimization sequence 56 does not exists. Skipping..\n",
      "CFG from application MiBench.automotive-qsort.0 with optimization sequence 57 does not exists. Skipping..\n",
      "CFG from application MiBench.automotive-qsort.0 with optimization sequence 58 does not exists. Skipping..\n",
      "CFG from application MiBench.automotive-qsort.0 with optimization sequence 59 does not exists. Skipping..\n",
      "CFG from application MiBench.automotive-qsort.0 with optimization sequence 60 does not exists. Skipping..\n",
      "CFG from application MiBench.automotive-qsort.0 with optimization sequence 61 does not exists. Skipping..\n",
      "CFG from application MiBench.automotive-qsort.0 with optimization sequence 62 does not exists. Skipping..\n",
      "CFG from application MiBench.automotive-qsort.0 with optimization sequence 63 does not exists. Skipping..\n",
      "CFG from application MiBench.automotive-qsort.0 with optimization sequence 64 does not exists. Skipping..\n",
      "CFG from application MiBench.automotive-qsort.0 with optimization sequence 65 does not exists. Skipping..\n",
      "CFG from application MiBench.automotive-qsort.0 with optimization sequence 66 does not exists. Skipping..\n",
      "CFG from application MiBench.automotive-qsort.0 with optimization sequence 67 does not exists. Skipping..\n",
      "CFG from application MiBench.automotive-qsort.0 with optimization sequence 68 does not exists. Skipping..\n",
      "CFG from application MiBench.automotive-qsort.0 with optimization sequence 69 does not exists. Skipping..\n",
      "CFG from application MiBench.automotive-qsort.0 with optimization sequence 70 does not exists. Skipping..\n",
      "CFG from application MiBench.automotive-qsort.0 with optimization sequence 71 does not exists. Skipping..\n",
      "CFG from application MiBench.automotive-qsort.0 with optimization sequence 72 does not exists. Skipping..\n",
      "CFG from application MiBench.automotive-qsort.0 with optimization sequence 73 does not exists. Skipping..\n",
      "CFG from application MiBench.automotive-qsort.0 with optimization sequence 74 does not exists. Skipping..\n",
      "CFG from application MiBench.automotive-qsort.0 with optimization sequence 75 does not exists. Skipping..\n",
      "CFG from application MiBench.automotive-qsort.0 with optimization sequence 76 does not exists. Skipping..\n",
      "CFG from application MiBench.automotive-qsort.0 with optimization sequence 77 does not exists. Skipping..\n",
      "CFG from application MiBench.automotive-qsort.0 with optimization sequence 78 does not exists. Skipping..\n",
      "CFG from application MiBench.automotive-qsort.0 with optimization sequence 79 does not exists. Skipping..\n",
      "CFG from application MiBench.automotive-qsort.0 with optimization sequence 80 does not exists. Skipping..\n",
      "CFG from application MiBench.automotive-qsort.0 with optimization sequence 81 does not exists. Skipping..\n",
      "CFG from application MiBench.automotive-qsort.0 with optimization sequence 82 does not exists. Skipping..\n",
      "CFG from application MiBench.automotive-qsort.0 with optimization sequence 83 does not exists. Skipping..\n",
      "CFG from application MiBench.automotive-qsort.0 with optimization sequence 84 does not exists. Skipping..\n",
      "CFG from application MiBench.automotive-qsort.0 with optimization sequence 85 does not exists. Skipping..\n",
      "CFG from application MiBench.automotive-qsort.0 with optimization sequence 86 does not exists. Skipping..\n",
      "CFG from application MiBench.automotive-qsort.0 with optimization sequence 87 does not exists. Skipping..\n",
      "CFG from application MiBench.automotive-qsort.0 with optimization sequence 88 does not exists. Skipping..\n",
      "CFG from application MiBench.automotive-qsort.0 with optimization sequence 89 does not exists. Skipping..\n",
      "CFG from application MiBench.automotive-qsort.0 with optimization sequence 90 does not exists. Skipping..\n",
      "CFG from application MiBench.automotive-qsort.0 with optimization sequence 91 does not exists. Skipping..\n",
      "CFG from application MiBench.automotive-qsort.0 with optimization sequence 92 does not exists. Skipping..\n",
      "CFG from application MiBench.automotive-qsort.0 with optimization sequence 93 does not exists. Skipping..\n",
      "CFG from application MiBench.automotive-qsort.0 with optimization sequence 94 does not exists. Skipping..\n",
      "CFG from application MiBench.automotive-qsort.0 with optimization sequence 95 does not exists. Skipping..\n",
      "CFG from application MiBench.automotive-qsort.0 with optimization sequence 96 does not exists. Skipping..\n",
      "CFG from application MiBench.automotive-qsort.0 with optimization sequence 97 does not exists. Skipping..\n",
      "CFG from application MiBench.automotive-qsort.0 with optimization sequence 98 does not exists. Skipping..\n",
      "CFG from application MiBench.automotive-qsort.0 with optimization sequence 99 does not exists. Skipping..\n",
      "CFG from application cBench.office_stringsearch1.0 with optimization sequence 1 does not exists. Skipping..\n",
      "CFG from application cBench.network_patricia.0 with optimization sequence 78 does not exists. Skipping..\n",
      "CFG from application Shootout.lists.0 with optimization sequence 71 does not exists. Skipping..\n",
      "CDFG from application Prolangs-C.cdecl.0 with optimization sequence 32 does not exists. Skipping..\n",
      "CDFG from application Prolangs-C.cdecl.0 with optimization sequence 43 does not exists. Skipping..\n",
      "CDFG from application Prolangs-C.cdecl.0 with optimization sequence 45 does not exists. Skipping..\n",
      "CDFG from application Prolangs-C.cdecl.0 with optimization sequence 60 does not exists. Skipping..\n",
      "CDFG from application Prolangs-C.cdecl.0 with optimization sequence 73 does not exists. Skipping..\n",
      "CDFG from application Prolangs-C.cdecl.0 with optimization sequence 89 does not exists. Skipping..\n",
      "CFG from application Olden.em3d.0 with optimization sequence 14 does not exists. Skipping..\n",
      "CFG from application cBench.consumer_jpeg_c.0 with optimization sequence 0 does not exists. Skipping..\n",
      "CFG from application cBench.consumer_jpeg_c.0 with optimization sequence 1 does not exists. Skipping..\n",
      "CFG from application cBench.consumer_jpeg_c.0 with optimization sequence 2 does not exists. Skipping..\n",
      "CFG from application cBench.consumer_jpeg_c.0 with optimization sequence 3 does not exists. Skipping..\n",
      "CFG from application cBench.consumer_jpeg_c.0 with optimization sequence 4 does not exists. Skipping..\n",
      "CFG from application cBench.consumer_jpeg_c.0 with optimization sequence 5 does not exists. Skipping..\n",
      "CFG from application cBench.consumer_jpeg_c.0 with optimization sequence 6 does not exists. Skipping..\n",
      "CFG from application cBench.consumer_jpeg_c.0 with optimization sequence 7 does not exists. Skipping..\n",
      "CFG from application cBench.consumer_jpeg_c.0 with optimization sequence 8 does not exists. Skipping..\n",
      "CFG from application cBench.consumer_jpeg_c.0 with optimization sequence 9 does not exists. Skipping..\n",
      "CFG from application cBench.consumer_jpeg_c.0 with optimization sequence 10 does not exists. Skipping..\n",
      "CFG from application cBench.consumer_jpeg_c.0 with optimization sequence 11 does not exists. Skipping..\n",
      "CFG from application cBench.consumer_jpeg_c.0 with optimization sequence 12 does not exists. Skipping..\n",
      "CFG from application cBench.consumer_jpeg_c.0 with optimization sequence 13 does not exists. Skipping..\n",
      "CFG from application cBench.consumer_jpeg_c.0 with optimization sequence 14 does not exists. Skipping..\n",
      "CFG from application cBench.consumer_jpeg_c.0 with optimization sequence 15 does not exists. Skipping..\n",
      "CFG from application cBench.consumer_jpeg_c.0 with optimization sequence 16 does not exists. Skipping..\n",
      "CFG from application cBench.consumer_jpeg_c.0 with optimization sequence 17 does not exists. Skipping..\n",
      "CFG from application cBench.consumer_jpeg_c.0 with optimization sequence 18 does not exists. Skipping..\n",
      "CFG from application cBench.consumer_jpeg_c.0 with optimization sequence 19 does not exists. Skipping..\n",
      "CFG from application cBench.consumer_jpeg_c.0 with optimization sequence 20 does not exists. Skipping..\n",
      "CFG from application cBench.consumer_jpeg_c.0 with optimization sequence 21 does not exists. Skipping..\n",
      "CFG from application cBench.consumer_jpeg_c.0 with optimization sequence 22 does not exists. Skipping..\n",
      "CFG from application cBench.consumer_jpeg_c.0 with optimization sequence 23 does not exists. Skipping..\n",
      "CFG from application cBench.consumer_jpeg_c.0 with optimization sequence 24 does not exists. Skipping..\n",
      "CFG from application cBench.consumer_jpeg_c.0 with optimization sequence 25 does not exists. Skipping..\n",
      "CFG from application cBench.consumer_jpeg_c.0 with optimization sequence 26 does not exists. Skipping..\n",
      "CFG from application cBench.consumer_jpeg_c.0 with optimization sequence 27 does not exists. Skipping..\n",
      "CFG from application cBench.consumer_jpeg_c.0 with optimization sequence 28 does not exists. Skipping..\n",
      "CFG from application cBench.consumer_jpeg_c.0 with optimization sequence 29 does not exists. Skipping..\n",
      "CFG from application cBench.consumer_jpeg_c.0 with optimization sequence 30 does not exists. Skipping..\n",
      "CFG from application cBench.consumer_jpeg_c.0 with optimization sequence 31 does not exists. Skipping..\n",
      "CFG from application cBench.consumer_jpeg_c.0 with optimization sequence 32 does not exists. Skipping..\n",
      "CFG from application cBench.consumer_jpeg_c.0 with optimization sequence 33 does not exists. Skipping..\n",
      "CFG from application cBench.consumer_jpeg_c.0 with optimization sequence 34 does not exists. Skipping..\n",
      "CFG from application cBench.consumer_jpeg_c.0 with optimization sequence 35 does not exists. Skipping..\n",
      "CFG from application cBench.consumer_jpeg_c.0 with optimization sequence 36 does not exists. Skipping..\n",
      "CFG from application cBench.consumer_jpeg_c.0 with optimization sequence 37 does not exists. Skipping..\n",
      "CFG from application cBench.consumer_jpeg_c.0 with optimization sequence 38 does not exists. Skipping..\n",
      "CFG from application cBench.consumer_jpeg_c.0 with optimization sequence 39 does not exists. Skipping..\n",
      "CFG from application cBench.consumer_jpeg_c.0 with optimization sequence 40 does not exists. Skipping..\n",
      "CFG from application cBench.consumer_jpeg_c.0 with optimization sequence 41 does not exists. Skipping..\n",
      "CFG from application cBench.consumer_jpeg_c.0 with optimization sequence 42 does not exists. Skipping..\n",
      "CFG from application cBench.consumer_jpeg_c.0 with optimization sequence 43 does not exists. Skipping..\n",
      "CFG from application cBench.consumer_jpeg_c.0 with optimization sequence 44 does not exists. Skipping..\n",
      "CFG from application cBench.consumer_jpeg_c.0 with optimization sequence 45 does not exists. Skipping..\n",
      "CFG from application cBench.consumer_jpeg_c.0 with optimization sequence 46 does not exists. Skipping..\n",
      "CFG from application cBench.consumer_jpeg_c.0 with optimization sequence 47 does not exists. Skipping..\n",
      "CFG from application cBench.consumer_jpeg_c.0 with optimization sequence 48 does not exists. Skipping..\n",
      "CFG from application cBench.consumer_jpeg_c.0 with optimization sequence 49 does not exists. Skipping..\n",
      "CFG from application cBench.consumer_jpeg_c.0 with optimization sequence 50 does not exists. Skipping..\n",
      "CFG from application cBench.consumer_jpeg_c.0 with optimization sequence 51 does not exists. Skipping..\n",
      "CFG from application cBench.consumer_jpeg_c.0 with optimization sequence 52 does not exists. Skipping..\n",
      "CFG from application cBench.consumer_jpeg_c.0 with optimization sequence 53 does not exists. Skipping..\n",
      "CFG from application cBench.consumer_jpeg_c.0 with optimization sequence 54 does not exists. Skipping..\n",
      "CFG from application cBench.consumer_jpeg_c.0 with optimization sequence 55 does not exists. Skipping..\n",
      "CFG from application cBench.consumer_jpeg_c.0 with optimization sequence 56 does not exists. Skipping..\n",
      "CFG from application cBench.consumer_jpeg_c.0 with optimization sequence 57 does not exists. Skipping..\n",
      "CFG from application cBench.consumer_jpeg_c.0 with optimization sequence 58 does not exists. Skipping..\n",
      "CFG from application cBench.consumer_jpeg_c.0 with optimization sequence 59 does not exists. Skipping..\n",
      "CFG from application cBench.consumer_jpeg_c.0 with optimization sequence 60 does not exists. Skipping..\n",
      "CFG from application cBench.consumer_jpeg_c.0 with optimization sequence 61 does not exists. Skipping..\n",
      "CFG from application cBench.consumer_jpeg_c.0 with optimization sequence 62 does not exists. Skipping..\n",
      "CFG from application cBench.consumer_jpeg_c.0 with optimization sequence 63 does not exists. Skipping..\n",
      "CFG from application cBench.consumer_jpeg_c.0 with optimization sequence 64 does not exists. Skipping..\n",
      "CFG from application cBench.consumer_jpeg_c.0 with optimization sequence 65 does not exists. Skipping..\n",
      "CFG from application cBench.consumer_jpeg_c.0 with optimization sequence 66 does not exists. Skipping..\n",
      "CFG from application cBench.consumer_jpeg_c.0 with optimization sequence 67 does not exists. Skipping..\n",
      "CFG from application cBench.consumer_jpeg_c.0 with optimization sequence 68 does not exists. Skipping..\n",
      "CFG from application cBench.consumer_jpeg_c.0 with optimization sequence 69 does not exists. Skipping..\n",
      "CFG from application cBench.consumer_jpeg_c.0 with optimization sequence 70 does not exists. Skipping..\n",
      "CFG from application cBench.consumer_jpeg_c.0 with optimization sequence 71 does not exists. Skipping..\n",
      "CFG from application cBench.consumer_jpeg_c.0 with optimization sequence 72 does not exists. Skipping..\n",
      "CFG from application cBench.consumer_jpeg_c.0 with optimization sequence 73 does not exists. Skipping..\n",
      "CFG from application cBench.consumer_jpeg_c.0 with optimization sequence 74 does not exists. Skipping..\n",
      "CFG from application cBench.consumer_jpeg_c.0 with optimization sequence 75 does not exists. Skipping..\n",
      "CFG from application cBench.consumer_jpeg_c.0 with optimization sequence 76 does not exists. Skipping..\n",
      "CFG from application cBench.consumer_jpeg_c.0 with optimization sequence 77 does not exists. Skipping..\n",
      "CFG from application cBench.consumer_jpeg_c.0 with optimization sequence 78 does not exists. Skipping..\n",
      "CFG from application cBench.consumer_jpeg_c.0 with optimization sequence 79 does not exists. Skipping..\n",
      "CFG from application cBench.consumer_jpeg_c.0 with optimization sequence 80 does not exists. Skipping..\n",
      "CFG from application cBench.consumer_jpeg_c.0 with optimization sequence 81 does not exists. Skipping..\n",
      "CFG from application cBench.consumer_jpeg_c.0 with optimization sequence 82 does not exists. Skipping..\n",
      "CFG from application cBench.consumer_jpeg_c.0 with optimization sequence 83 does not exists. Skipping..\n",
      "CFG from application cBench.consumer_jpeg_c.0 with optimization sequence 84 does not exists. Skipping..\n",
      "CFG from application cBench.consumer_jpeg_c.0 with optimization sequence 85 does not exists. Skipping..\n",
      "CFG from application cBench.consumer_jpeg_c.0 with optimization sequence 86 does not exists. Skipping..\n",
      "CFG from application cBench.consumer_jpeg_c.0 with optimization sequence 87 does not exists. Skipping..\n",
      "CFG from application cBench.consumer_jpeg_c.0 with optimization sequence 88 does not exists. Skipping..\n",
      "CFG from application cBench.consumer_jpeg_c.0 with optimization sequence 89 does not exists. Skipping..\n",
      "CFG from application cBench.consumer_jpeg_c.0 with optimization sequence 90 does not exists. Skipping..\n",
      "CFG from application cBench.consumer_jpeg_c.0 with optimization sequence 91 does not exists. Skipping..\n",
      "CFG from application cBench.consumer_jpeg_c.0 with optimization sequence 92 does not exists. Skipping..\n",
      "CFG from application cBench.consumer_jpeg_c.0 with optimization sequence 93 does not exists. Skipping..\n",
      "CFG from application cBench.consumer_jpeg_c.0 with optimization sequence 94 does not exists. Skipping..\n",
      "CFG from application cBench.consumer_jpeg_c.0 with optimization sequence 95 does not exists. Skipping..\n",
      "CFG from application cBench.consumer_jpeg_c.0 with optimization sequence 96 does not exists. Skipping..\n",
      "CFG from application cBench.consumer_jpeg_c.0 with optimization sequence 97 does not exists. Skipping..\n",
      "CFG from application cBench.consumer_jpeg_c.0 with optimization sequence 98 does not exists. Skipping..\n",
      "CFG from application cBench.consumer_jpeg_c.0 with optimization sequence 99 does not exists. Skipping..\n",
      "CFG from application PAQ8p.PAQ8p.0 with optimization sequence 3 does not exists. Skipping..\n",
      "CFG from application PolyBench.stencils-heat-3d.0 with optimization sequence 77 does not exists. Skipping..\n",
      "CFG from application PolyBench.medley-floyd-warshall.0 with optimization sequence 41 does not exists. Skipping..\n",
      "Processed 299 applications...\n"
     ]
    }
   ],
   "source": [
    "def get_representation(filename: str) -> dict:\n",
    "    representation = defaultdict(dict)\n",
    "    # Extract the application name, without path and extensions\n",
    "    app_name = os.path.basename(filename)\n",
    "    app_name = app_name.split('.rnd.yaml')[0]\n",
    "    \n",
    "    # Lets group all CFG and CDFG files with same prefix (i.e., CFGs and CDFGs for the same application)\n",
    "    cfgs_with_prefix = [fname for fname in cfg_files if os.path.basename(fname).startswith(app_name)]\n",
    "    cdfgs_with_prefix = [fname for fname in cdfg_files if os.path.basename(fname).startswith(app_name)]\n",
    "\n",
    "    # Get the rutime information for the application. It includes the execution time for the application\n",
    "    # compiled with different optimization sequences\n",
    "    with open(filename, 'rt') as f:\n",
    "        app_runtime_info = yaml.safe_load(f)\n",
    "\n",
    "    # Group CFGs and CDFGs filenames by their optimization sequences \n",
    "    # E.g.: CFGs={0: file1, 1: file2, ..., 99: file99}\n",
    "    cfgs_with_prefix = {int(os.path.basename(fname).split('.ll.')[0].split('.')[-1]): fname for fname in cfgs_with_prefix}\n",
    "    cdfgs_with_prefix = {int(os.path.basename(fname).split('.progaml.')[0].split('.')[-1]): fname for fname in cdfgs_with_prefix}\n",
    "\n",
    "    # Finally, let's group applications with sequence levels and runtime info\n",
    "    # E.g: representation_files = {app1: {0: (CFG_FILE, CDFG_FILE, EXECTIME), 1: (CFG_FILE, CDFG_FILE, EXECTIME), ..., }, app2: {...} }\n",
    "    for sequence_no, values in app_runtime_info.items():\n",
    "        if sequence_no not in cfgs_with_prefix:\n",
    "            print(f\"CFG from application {app_name} with optimization sequence {sequence_no} does not exists. Skipping..\")\n",
    "            continue\n",
    "        if sequence_no not in cdfgs_with_prefix:\n",
    "            print(f\"CDFG from application {app_name} with optimization sequence {sequence_no} does not exists. Skipping..\")\n",
    "            continue\n",
    "        representation[app_name][sequence_no] = {\n",
    "            'cfg_file': cfgs_with_prefix[sequence_no], \n",
    "            'number_cfg_nodes': cfg_number_of_nodes[cfgs_with_prefix[sequence_no]],\n",
    "            'cdfg_file': cdfgs_with_prefix[sequence_no],\n",
    "            'number_cdfg_nodes': cdfg_number_of_nodes[cdfgs_with_prefix[sequence_no]],\n",
    "            'exectime': app_runtime_info[sequence_no]['f'],\n",
    "            'runtime_file': filename\n",
    "        }\n",
    "    \n",
    "    return representation\n",
    "\n",
    "# Iterate over each runtime file (applications that effectively executed)\n",
    "representation_files = thread_map(get_representation, runtime_files, desc=\"Applications processed\")\n",
    "# Merge all dicts to a single dict\n",
    "representation_files = {k: v for d in representation_files for k, v in d.items()}\n",
    "\n",
    "print(f'Processed {len(representation_files)} applications...')"
   ]
  },
  {
   "cell_type": "code",
   "execution_count": 8,
   "metadata": {},
   "outputs": [
    {
     "output_type": "stream",
     "name": "stdout",
     "text": [
      "Metadata information from 299 applications were successfully saved to ./data/ccpe-applications-information.yaml\n"
     ]
    }
   ],
   "source": [
    "# The output file to store processed information\n",
    "output_metadata_file = './data/ccpe-applications-information.yaml'\n",
    "\n",
    "with open(output_metadata_file, 'wt') as f:\n",
    "    yaml.dump(representation_files, f)\n",
    "    print(f\"Metadata information from {len(representation_files)} applications were successfully saved to {output_file}\")"
   ]
  },
  {
   "cell_type": "code",
   "execution_count": null,
   "metadata": {},
   "outputs": [],
   "source": []
  }
 ]
}